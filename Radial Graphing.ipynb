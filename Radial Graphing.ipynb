{
 "cells": [
  {
   "cell_type": "code",
   "execution_count": 11,
   "metadata": {},
   "outputs": [
    {
     "data": {
      "text/html": [
       "<script>requirejs.config({paths: { 'plotly': ['https://cdn.plot.ly/plotly-latest.min']},});if(!window.Plotly) {{require(['plotly'],function(plotly) {window.Plotly=plotly;});}}</script>"
      ],
      "text/vnd.plotly.v1+html": [
       "<script>requirejs.config({paths: { 'plotly': ['https://cdn.plot.ly/plotly-latest.min']},});if(!window.Plotly) {{require(['plotly'],function(plotly) {window.Plotly=plotly;});}}</script>"
      ]
     },
     "metadata": {},
     "output_type": "display_data"
    },
    {
     "data": {
      "text/html": [
       "<div>\n",
       "<style scoped>\n",
       "    .dataframe tbody tr th:only-of-type {\n",
       "        vertical-align: middle;\n",
       "    }\n",
       "\n",
       "    .dataframe tbody tr th {\n",
       "        vertical-align: top;\n",
       "    }\n",
       "\n",
       "    .dataframe thead th {\n",
       "        text-align: right;\n",
       "    }\n",
       "</style>\n",
       "<table border=\"1\" class=\"dataframe\">\n",
       "  <thead>\n",
       "    <tr style=\"text-align: right;\">\n",
       "      <th></th>\n",
       "      <th>Idea/Example</th>\n",
       "      <th>Typography</th>\n",
       "      <th>Animation</th>\n",
       "      <th>Reach</th>\n",
       "      <th>Feedback</th>\n",
       "      <th>Polish</th>\n",
       "      <th>Notes</th>\n",
       "    </tr>\n",
       "  </thead>\n",
       "  <tbody>\n",
       "    <tr>\n",
       "      <th>0</th>\n",
       "      <td>Medium</td>\n",
       "      <td>3</td>\n",
       "      <td>2</td>\n",
       "      <td>10</td>\n",
       "      <td>8</td>\n",
       "      <td>10</td>\n",
       "      <td>Animation available through gif&lt;br /&gt; or embed...</td>\n",
       "    </tr>\n",
       "    <tr>\n",
       "      <th>1</th>\n",
       "      <td>Powerpoint</td>\n",
       "      <td>5</td>\n",
       "      <td>6</td>\n",
       "      <td>3</td>\n",
       "      <td>3</td>\n",
       "      <td>5</td>\n",
       "      <td>NaN</td>\n",
       "    </tr>\n",
       "    <tr>\n",
       "      <th>2</th>\n",
       "      <td>Keynote</td>\n",
       "      <td>10</td>\n",
       "      <td>10</td>\n",
       "      <td>3</td>\n",
       "      <td>3</td>\n",
       "      <td>10</td>\n",
       "      <td>NaN</td>\n",
       "    </tr>\n",
       "    <tr>\n",
       "      <th>3</th>\n",
       "      <td>Personal Blog</td>\n",
       "      <td>8</td>\n",
       "      <td>10</td>\n",
       "      <td>5</td>\n",
       "      <td>9</td>\n",
       "      <td>8</td>\n",
       "      <td>NaN</td>\n",
       "    </tr>\n",
       "  </tbody>\n",
       "</table>\n",
       "</div>"
      ],
      "text/plain": [
       "    Idea/Example  Typography  Animation  Reach  Feedback  Polish  \\\n",
       "0         Medium           3          2     10         8      10   \n",
       "1     Powerpoint           5          6      3         3       5   \n",
       "2        Keynote          10         10      3         3      10   \n",
       "3  Personal Blog           8         10      5         9       8   \n",
       "\n",
       "                                               Notes  \n",
       "0  Animation available through gif<br /> or embed...  \n",
       "1                                                NaN  \n",
       "2                                                NaN  \n",
       "3                                                NaN  "
      ]
     },
     "metadata": {},
     "output_type": "display_data"
    },
    {
     "data": {
      "text/html": [
       "<div>\n",
       "<style scoped>\n",
       "    .dataframe tbody tr th:only-of-type {\n",
       "        vertical-align: middle;\n",
       "    }\n",
       "\n",
       "    .dataframe tbody tr th {\n",
       "        vertical-align: top;\n",
       "    }\n",
       "\n",
       "    .dataframe thead th {\n",
       "        text-align: right;\n",
       "    }\n",
       "</style>\n",
       "<table border=\"1\" class=\"dataframe\">\n",
       "  <thead>\n",
       "    <tr style=\"text-align: right;\">\n",
       "      <th></th>\n",
       "      <th>Rows</th>\n",
       "      <th>Unnamed: 1</th>\n",
       "      <th>Unnamed: 2</th>\n",
       "      <th>Unnamed: 3</th>\n",
       "    </tr>\n",
       "  </thead>\n",
       "  <tbody>\n",
       "    <tr>\n",
       "      <th>0</th>\n",
       "      <td>2</td>\n",
       "      <td>3</td>\n",
       "      <td>4.0</td>\n",
       "      <td>5.0</td>\n",
       "    </tr>\n",
       "    <tr>\n",
       "      <th>1</th>\n",
       "      <td>4</td>\n",
       "      <td>3</td>\n",
       "      <td>NaN</td>\n",
       "      <td>NaN</td>\n",
       "    </tr>\n",
       "    <tr>\n",
       "      <th>2</th>\n",
       "      <td>2</td>\n",
       "      <td>5</td>\n",
       "      <td>NaN</td>\n",
       "      <td>NaN</td>\n",
       "    </tr>\n",
       "  </tbody>\n",
       "</table>\n",
       "</div>"
      ],
      "text/plain": [
       "   Rows  Unnamed: 1  Unnamed: 2  Unnamed: 3\n",
       "0     2           3         4.0         5.0\n",
       "1     4           3         NaN         NaN\n",
       "2     2           5         NaN         NaN"
      ]
     },
     "metadata": {},
     "output_type": "display_data"
    },
    {
     "data": {
      "text/html": [
       "<div>\n",
       "<style scoped>\n",
       "    .dataframe tbody tr th:only-of-type {\n",
       "        vertical-align: middle;\n",
       "    }\n",
       "\n",
       "    .dataframe tbody tr th {\n",
       "        vertical-align: top;\n",
       "    }\n",
       "\n",
       "    .dataframe thead th {\n",
       "        text-align: right;\n",
       "    }\n",
       "</style>\n",
       "<table border=\"1\" class=\"dataframe\">\n",
       "  <thead>\n",
       "    <tr style=\"text-align: right;\">\n",
       "      <th></th>\n",
       "      <th>use_dual_labels</th>\n",
       "    </tr>\n",
       "  </thead>\n",
       "  <tbody>\n",
       "    <tr>\n",
       "      <th>0</th>\n",
       "      <td>no</td>\n",
       "    </tr>\n",
       "  </tbody>\n",
       "</table>\n",
       "</div>"
      ],
      "text/plain": [
       "  use_dual_labels\n",
       "0              no"
      ]
     },
     "metadata": {},
     "output_type": "display_data"
    },
    {
     "data": {
      "text/html": [
       "<div>\n",
       "<style scoped>\n",
       "    .dataframe tbody tr th:only-of-type {\n",
       "        vertical-align: middle;\n",
       "    }\n",
       "\n",
       "    .dataframe tbody tr th {\n",
       "        vertical-align: top;\n",
       "    }\n",
       "\n",
       "    .dataframe thead th {\n",
       "        text-align: right;\n",
       "    }\n",
       "</style>\n",
       "<table border=\"1\" class=\"dataframe\">\n",
       "  <thead>\n",
       "    <tr style=\"text-align: right;\">\n",
       "      <th></th>\n",
       "      <th>idea</th>\n",
       "      <th>Typography</th>\n",
       "      <th>Animation</th>\n",
       "      <th>Reach</th>\n",
       "      <th>Feedback</th>\n",
       "      <th>Polish</th>\n",
       "      <th>notes</th>\n",
       "    </tr>\n",
       "  </thead>\n",
       "  <tbody>\n",
       "    <tr>\n",
       "      <th>0</th>\n",
       "      <td>Medium</td>\n",
       "      <td>3</td>\n",
       "      <td>2</td>\n",
       "      <td>10</td>\n",
       "      <td>8</td>\n",
       "      <td>10</td>\n",
       "      <td>Animation available through gif&lt;br /&gt; or embed...</td>\n",
       "    </tr>\n",
       "    <tr>\n",
       "      <th>1</th>\n",
       "      <td>Powerpoint</td>\n",
       "      <td>5</td>\n",
       "      <td>6</td>\n",
       "      <td>3</td>\n",
       "      <td>3</td>\n",
       "      <td>5</td>\n",
       "      <td>NaN</td>\n",
       "    </tr>\n",
       "    <tr>\n",
       "      <th>2</th>\n",
       "      <td>Keynote</td>\n",
       "      <td>10</td>\n",
       "      <td>10</td>\n",
       "      <td>3</td>\n",
       "      <td>3</td>\n",
       "      <td>10</td>\n",
       "      <td>NaN</td>\n",
       "    </tr>\n",
       "    <tr>\n",
       "      <th>3</th>\n",
       "      <td>Personal Blog</td>\n",
       "      <td>8</td>\n",
       "      <td>10</td>\n",
       "      <td>5</td>\n",
       "      <td>9</td>\n",
       "      <td>8</td>\n",
       "      <td>NaN</td>\n",
       "    </tr>\n",
       "  </tbody>\n",
       "</table>\n",
       "</div>"
      ],
      "text/plain": [
       "            idea  Typography  Animation  Reach  Feedback  Polish  \\\n",
       "0         Medium           3          2     10         8      10   \n",
       "1     Powerpoint           5          6      3         3       5   \n",
       "2        Keynote          10         10      3         3      10   \n",
       "3  Personal Blog           8         10      5         9       8   \n",
       "\n",
       "                                               notes  \n",
       "0  Animation available through gif<br /> or embed...  \n",
       "1                                                NaN  \n",
       "2                                                NaN  \n",
       "3                                                NaN  "
      ]
     },
     "metadata": {},
     "output_type": "display_data"
    },
    {
     "data": {
      "text/plain": [
       "array(['Typography', 'Animation', 'Reach', 'Feedback', 'Polish'], dtype=object)"
      ]
     },
     "metadata": {},
     "output_type": "display_data"
    }
   ],
   "source": [
    "import numpy as np\n",
    "import pandas as pd\n",
    "from pandas import ExcelWriter\n",
    "from pandas import ExcelFile\n",
    "import matplotlib\n",
    "import matplotlib.pyplot as plt\n",
    "%matplotlib inline\n",
    "import plotly.plotly as py\n",
    "import plotly.graph_objs as go\n",
    "from plotly import tools\n",
    "from plotly.graph_objs import *\n",
    "# from plotly import __version__\n",
    "from plotly.offline import download_plotlyjs, init_notebook_mode, plot, iplot\n",
    "init_notebook_mode(connected=True) #use plotly offline\n",
    "\n",
    "#file setup\n",
    "sdir='' #use to set a directory if this script is not in the same folder as the excel\n",
    "filename='Polarities.xlsx' #excel file name\n",
    "sheet = \"Ratings\" #tab name\n",
    "dfrt = pd.read_excel(sdir+filename, sheet_name=sheet)\n",
    "sheet = \"Overlays\" #tab name\n",
    "dfoy = pd.read_excel(sdir+filename, sheet_name=sheet)\n",
    "sheet = \"Settings\" #tab name\n",
    "dfset = pd.read_excel(sdir+filename, sheet_name=sheet)\n",
    "\n",
    "#quick check to make sure things are copacetic\n",
    "display(dfrt)\n",
    "# display(dfrn)\n",
    "display(dfoy)\n",
    "display(dfset)\n",
    "\n",
    "attrs = dfrt.columns.values[1:-1] #grab the attribute names\n",
    "#rename the first and last columns for easier access\n",
    "dfrt=dfrt.rename(columns = {list(dfrt)[0]:'idea'}) \n",
    "dfrt=dfrt.rename(columns = {list(dfrt)[-1]:'notes'})\n",
    "\n",
    "display(dfrt)\n",
    "display(attrs)\n",
    "\n",
    "rating_range=10\n"
   ]
  },
  {
   "cell_type": "code",
   "execution_count": 12,
   "metadata": {
    "scrolled": false
   },
   "outputs": [
    {
     "data": {
      "application/vnd.plotly.v1+json": {
       "data": [
        {
         "fill": "toself",
         "hoverinfo": "r",
         "marker": {
          "color": "#8090c7",
          "size": 8,
          "symbol": "square"
         },
         "r": [
          3,
          2,
          10,
          8,
          10
         ],
         "theta": [
          "Typography",
          "Animation",
          "Reach",
          "Feedback",
          "Polish"
         ],
         "type": "scatterpolar"
        }
       ],
       "layout": {
        "annotations": [
         {
          "align": "left",
          "showarrow": false,
          "text": "Notes: Animation available through gif<br /> or embedded video",
          "x": -0.1,
          "y": 0.3
         },
         {
          "align": "left",
          "showarrow": false,
          "text": "<b>Ratings (1/10):</b> <br>Typography: <br />Animation: <br />Reach: <br />Feedback: <br />Polish: <br />",
          "x": -0.1,
          "y": 1
         },
         {
          "align": "left",
          "showarrow": false,
          "text": "<br>3<br />2<br />10<br />8<br />10<br />",
          "x": 0.07,
          "y": 0.95507
         }
        ],
        "polar": {
         "angularaxis": {
          "visible": true
         },
         "radialaxis": {
          "range": [
           0,
           10
          ],
          "tickangle": 0,
          "visible": true
         }
        },
        "showlegend": false,
        "title": "Medium"
       }
      },
      "text/html": [
       "<div id=\"385f0287-0108-439d-9405-32b5ff0c5da5\" style=\"height: 525px; width: 100%;\" class=\"plotly-graph-div\"></div><script type=\"text/javascript\">require([\"plotly\"], function(Plotly) { window.PLOTLYENV=window.PLOTLYENV || {};window.PLOTLYENV.BASE_URL=\"https://plot.ly\";Plotly.newPlot(\"385f0287-0108-439d-9405-32b5ff0c5da5\", [{\"type\": \"scatterpolar\", \"r\": [3, 2, 10, 8, 10], \"theta\": [\"Typography\", \"Animation\", \"Reach\", \"Feedback\", \"Polish\"], \"fill\": \"toself\", \"hoverinfo\": \"r\", \"marker\": {\"color\": \"#8090c7\", \"symbol\": \"square\", \"size\": 8}}], {\"polar\": {\"radialaxis\": {\"visible\": true, \"range\": [0, 10], \"tickangle\": 0}, \"angularaxis\": {\"visible\": true}}, \"showlegend\": false, \"annotations\": [{\"text\": \"Notes: Animation available through gif<br /> or embedded video\", \"x\": -0.1, \"y\": 0.3, \"showarrow\": false, \"align\": \"left\"}, {\"text\": \"<b>Ratings (1/10):</b> <br>Typography: <br />Animation: <br />Reach: <br />Feedback: <br />Polish: <br />\", \"x\": -0.1, \"y\": 1, \"showarrow\": false, \"align\": \"left\"}, {\"text\": \"<br>3<br />2<br />10<br />8<br />10<br />\", \"x\": 0.07, \"y\": 0.95507, \"showarrow\": false, \"align\": \"left\"}], \"title\": \"Medium\"}, {\"showLink\": true, \"linkText\": \"Export to plot.ly\"})});</script>"
      ],
      "text/vnd.plotly.v1+html": [
       "<div id=\"385f0287-0108-439d-9405-32b5ff0c5da5\" style=\"height: 525px; width: 100%;\" class=\"plotly-graph-div\"></div><script type=\"text/javascript\">require([\"plotly\"], function(Plotly) { window.PLOTLYENV=window.PLOTLYENV || {};window.PLOTLYENV.BASE_URL=\"https://plot.ly\";Plotly.newPlot(\"385f0287-0108-439d-9405-32b5ff0c5da5\", [{\"type\": \"scatterpolar\", \"r\": [3, 2, 10, 8, 10], \"theta\": [\"Typography\", \"Animation\", \"Reach\", \"Feedback\", \"Polish\"], \"fill\": \"toself\", \"hoverinfo\": \"r\", \"marker\": {\"color\": \"#8090c7\", \"symbol\": \"square\", \"size\": 8}}], {\"polar\": {\"radialaxis\": {\"visible\": true, \"range\": [0, 10], \"tickangle\": 0}, \"angularaxis\": {\"visible\": true}}, \"showlegend\": false, \"annotations\": [{\"text\": \"Notes: Animation available through gif<br /> or embedded video\", \"x\": -0.1, \"y\": 0.3, \"showarrow\": false, \"align\": \"left\"}, {\"text\": \"<b>Ratings (1/10):</b> <br>Typography: <br />Animation: <br />Reach: <br />Feedback: <br />Polish: <br />\", \"x\": -0.1, \"y\": 1, \"showarrow\": false, \"align\": \"left\"}, {\"text\": \"<br>3<br />2<br />10<br />8<br />10<br />\", \"x\": 0.07, \"y\": 0.95507, \"showarrow\": false, \"align\": \"left\"}], \"title\": \"Medium\"}, {\"showLink\": true, \"linkText\": \"Export to plot.ly\"})});</script>"
      ]
     },
     "metadata": {},
     "output_type": "display_data"
    },
    {
     "data": {
      "application/vnd.plotly.v1+json": {
       "data": [
        {
         "fill": "toself",
         "hoverinfo": "r",
         "marker": {
          "color": "#8090c7",
          "size": 8,
          "symbol": "square"
         },
         "r": [
          5,
          6,
          3,
          3,
          5
         ],
         "theta": [
          "Typography",
          "Animation",
          "Reach",
          "Feedback",
          "Polish"
         ],
         "type": "scatterpolar"
        }
       ],
       "layout": {
        "annotations": [
         {
          "align": "left",
          "showarrow": false,
          "text": "<b>Ratings (1/10):</b> <br>Typography: <br />Animation: <br />Reach: <br />Feedback: <br />Polish: <br />",
          "x": -0.1,
          "y": 1
         },
         {
          "align": "left",
          "showarrow": false,
          "text": "<br>5<br />6<br />3<br />3<br />5<br />",
          "x": 0.07,
          "y": 0.95507
         }
        ],
        "polar": {
         "angularaxis": {
          "visible": true
         },
         "radialaxis": {
          "range": [
           0,
           10
          ],
          "tickangle": 0,
          "visible": true
         }
        },
        "showlegend": false,
        "title": "Powerpoint"
       }
      },
      "text/html": [
       "<div id=\"4efad58a-7160-4368-ad7d-aff51796c982\" style=\"height: 525px; width: 100%;\" class=\"plotly-graph-div\"></div><script type=\"text/javascript\">require([\"plotly\"], function(Plotly) { window.PLOTLYENV=window.PLOTLYENV || {};window.PLOTLYENV.BASE_URL=\"https://plot.ly\";Plotly.newPlot(\"4efad58a-7160-4368-ad7d-aff51796c982\", [{\"type\": \"scatterpolar\", \"r\": [5, 6, 3, 3, 5], \"theta\": [\"Typography\", \"Animation\", \"Reach\", \"Feedback\", \"Polish\"], \"fill\": \"toself\", \"hoverinfo\": \"r\", \"marker\": {\"color\": \"#8090c7\", \"symbol\": \"square\", \"size\": 8}}], {\"polar\": {\"radialaxis\": {\"visible\": true, \"range\": [0, 10], \"tickangle\": 0}, \"angularaxis\": {\"visible\": true}}, \"showlegend\": false, \"annotations\": [{\"text\": \"<b>Ratings (1/10):</b> <br>Typography: <br />Animation: <br />Reach: <br />Feedback: <br />Polish: <br />\", \"x\": -0.1, \"y\": 1, \"showarrow\": false, \"align\": \"left\"}, {\"text\": \"<br>5<br />6<br />3<br />3<br />5<br />\", \"x\": 0.07, \"y\": 0.95507, \"showarrow\": false, \"align\": \"left\"}], \"title\": \"Powerpoint\"}, {\"showLink\": true, \"linkText\": \"Export to plot.ly\"})});</script>"
      ],
      "text/vnd.plotly.v1+html": [
       "<div id=\"4efad58a-7160-4368-ad7d-aff51796c982\" style=\"height: 525px; width: 100%;\" class=\"plotly-graph-div\"></div><script type=\"text/javascript\">require([\"plotly\"], function(Plotly) { window.PLOTLYENV=window.PLOTLYENV || {};window.PLOTLYENV.BASE_URL=\"https://plot.ly\";Plotly.newPlot(\"4efad58a-7160-4368-ad7d-aff51796c982\", [{\"type\": \"scatterpolar\", \"r\": [5, 6, 3, 3, 5], \"theta\": [\"Typography\", \"Animation\", \"Reach\", \"Feedback\", \"Polish\"], \"fill\": \"toself\", \"hoverinfo\": \"r\", \"marker\": {\"color\": \"#8090c7\", \"symbol\": \"square\", \"size\": 8}}], {\"polar\": {\"radialaxis\": {\"visible\": true, \"range\": [0, 10], \"tickangle\": 0}, \"angularaxis\": {\"visible\": true}}, \"showlegend\": false, \"annotations\": [{\"text\": \"<b>Ratings (1/10):</b> <br>Typography: <br />Animation: <br />Reach: <br />Feedback: <br />Polish: <br />\", \"x\": -0.1, \"y\": 1, \"showarrow\": false, \"align\": \"left\"}, {\"text\": \"<br>5<br />6<br />3<br />3<br />5<br />\", \"x\": 0.07, \"y\": 0.95507, \"showarrow\": false, \"align\": \"left\"}], \"title\": \"Powerpoint\"}, {\"showLink\": true, \"linkText\": \"Export to plot.ly\"})});</script>"
      ]
     },
     "metadata": {},
     "output_type": "display_data"
    },
    {
     "data": {
      "application/vnd.plotly.v1+json": {
       "data": [
        {
         "fill": "toself",
         "hoverinfo": "r",
         "marker": {
          "color": "#8090c7",
          "size": 8,
          "symbol": "square"
         },
         "r": [
          10,
          10,
          3,
          3,
          10
         ],
         "theta": [
          "Typography",
          "Animation",
          "Reach",
          "Feedback",
          "Polish"
         ],
         "type": "scatterpolar"
        }
       ],
       "layout": {
        "annotations": [
         {
          "align": "left",
          "showarrow": false,
          "text": "<b>Ratings (1/10):</b> <br>Typography: <br />Animation: <br />Reach: <br />Feedback: <br />Polish: <br />",
          "x": -0.1,
          "y": 1
         },
         {
          "align": "left",
          "showarrow": false,
          "text": "<br>10<br />10<br />3<br />3<br />10<br />",
          "x": 0.07,
          "y": 0.95507
         }
        ],
        "polar": {
         "angularaxis": {
          "visible": true
         },
         "radialaxis": {
          "range": [
           0,
           10
          ],
          "tickangle": 0,
          "visible": true
         }
        },
        "showlegend": false,
        "title": "Keynote"
       }
      },
      "text/html": [
       "<div id=\"7d1febe6-72c5-4cb3-9431-015359b95166\" style=\"height: 525px; width: 100%;\" class=\"plotly-graph-div\"></div><script type=\"text/javascript\">require([\"plotly\"], function(Plotly) { window.PLOTLYENV=window.PLOTLYENV || {};window.PLOTLYENV.BASE_URL=\"https://plot.ly\";Plotly.newPlot(\"7d1febe6-72c5-4cb3-9431-015359b95166\", [{\"type\": \"scatterpolar\", \"r\": [10, 10, 3, 3, 10], \"theta\": [\"Typography\", \"Animation\", \"Reach\", \"Feedback\", \"Polish\"], \"fill\": \"toself\", \"hoverinfo\": \"r\", \"marker\": {\"color\": \"#8090c7\", \"symbol\": \"square\", \"size\": 8}}], {\"polar\": {\"radialaxis\": {\"visible\": true, \"range\": [0, 10], \"tickangle\": 0}, \"angularaxis\": {\"visible\": true}}, \"showlegend\": false, \"annotations\": [{\"text\": \"<b>Ratings (1/10):</b> <br>Typography: <br />Animation: <br />Reach: <br />Feedback: <br />Polish: <br />\", \"x\": -0.1, \"y\": 1, \"showarrow\": false, \"align\": \"left\"}, {\"text\": \"<br>10<br />10<br />3<br />3<br />10<br />\", \"x\": 0.07, \"y\": 0.95507, \"showarrow\": false, \"align\": \"left\"}], \"title\": \"Keynote\"}, {\"showLink\": true, \"linkText\": \"Export to plot.ly\"})});</script>"
      ],
      "text/vnd.plotly.v1+html": [
       "<div id=\"7d1febe6-72c5-4cb3-9431-015359b95166\" style=\"height: 525px; width: 100%;\" class=\"plotly-graph-div\"></div><script type=\"text/javascript\">require([\"plotly\"], function(Plotly) { window.PLOTLYENV=window.PLOTLYENV || {};window.PLOTLYENV.BASE_URL=\"https://plot.ly\";Plotly.newPlot(\"7d1febe6-72c5-4cb3-9431-015359b95166\", [{\"type\": \"scatterpolar\", \"r\": [10, 10, 3, 3, 10], \"theta\": [\"Typography\", \"Animation\", \"Reach\", \"Feedback\", \"Polish\"], \"fill\": \"toself\", \"hoverinfo\": \"r\", \"marker\": {\"color\": \"#8090c7\", \"symbol\": \"square\", \"size\": 8}}], {\"polar\": {\"radialaxis\": {\"visible\": true, \"range\": [0, 10], \"tickangle\": 0}, \"angularaxis\": {\"visible\": true}}, \"showlegend\": false, \"annotations\": [{\"text\": \"<b>Ratings (1/10):</b> <br>Typography: <br />Animation: <br />Reach: <br />Feedback: <br />Polish: <br />\", \"x\": -0.1, \"y\": 1, \"showarrow\": false, \"align\": \"left\"}, {\"text\": \"<br>10<br />10<br />3<br />3<br />10<br />\", \"x\": 0.07, \"y\": 0.95507, \"showarrow\": false, \"align\": \"left\"}], \"title\": \"Keynote\"}, {\"showLink\": true, \"linkText\": \"Export to plot.ly\"})});</script>"
      ]
     },
     "metadata": {},
     "output_type": "display_data"
    },
    {
     "data": {
      "application/vnd.plotly.v1+json": {
       "data": [
        {
         "fill": "toself",
         "hoverinfo": "r",
         "marker": {
          "color": "#8090c7",
          "size": 8,
          "symbol": "square"
         },
         "r": [
          8,
          10,
          5,
          9,
          8
         ],
         "theta": [
          "Typography",
          "Animation",
          "Reach",
          "Feedback",
          "Polish"
         ],
         "type": "scatterpolar"
        }
       ],
       "layout": {
        "annotations": [
         {
          "align": "left",
          "showarrow": false,
          "text": "<b>Ratings (1/10):</b> <br>Typography: <br />Animation: <br />Reach: <br />Feedback: <br />Polish: <br />",
          "x": -0.1,
          "y": 1
         },
         {
          "align": "left",
          "showarrow": false,
          "text": "<br>8<br />10<br />5<br />9<br />8<br />",
          "x": 0.07,
          "y": 0.95507
         }
        ],
        "polar": {
         "angularaxis": {
          "visible": true
         },
         "radialaxis": {
          "range": [
           0,
           10
          ],
          "tickangle": 0,
          "visible": true
         }
        },
        "showlegend": false,
        "title": "Personal Blog"
       }
      },
      "text/html": [
       "<div id=\"ab8ab3e2-46cc-4945-b863-f051773f01b3\" style=\"height: 525px; width: 100%;\" class=\"plotly-graph-div\"></div><script type=\"text/javascript\">require([\"plotly\"], function(Plotly) { window.PLOTLYENV=window.PLOTLYENV || {};window.PLOTLYENV.BASE_URL=\"https://plot.ly\";Plotly.newPlot(\"ab8ab3e2-46cc-4945-b863-f051773f01b3\", [{\"type\": \"scatterpolar\", \"r\": [8, 10, 5, 9, 8], \"theta\": [\"Typography\", \"Animation\", \"Reach\", \"Feedback\", \"Polish\"], \"fill\": \"toself\", \"hoverinfo\": \"r\", \"marker\": {\"color\": \"#8090c7\", \"symbol\": \"square\", \"size\": 8}}], {\"polar\": {\"radialaxis\": {\"visible\": true, \"range\": [0, 10], \"tickangle\": 0}, \"angularaxis\": {\"visible\": true}}, \"showlegend\": false, \"annotations\": [{\"text\": \"<b>Ratings (1/10):</b> <br>Typography: <br />Animation: <br />Reach: <br />Feedback: <br />Polish: <br />\", \"x\": -0.1, \"y\": 1, \"showarrow\": false, \"align\": \"left\"}, {\"text\": \"<br>8<br />10<br />5<br />9<br />8<br />\", \"x\": 0.07, \"y\": 0.95507, \"showarrow\": false, \"align\": \"left\"}], \"title\": \"Personal Blog\"}, {\"showLink\": true, \"linkText\": \"Export to plot.ly\"})});</script>"
      ],
      "text/vnd.plotly.v1+html": [
       "<div id=\"ab8ab3e2-46cc-4945-b863-f051773f01b3\" style=\"height: 525px; width: 100%;\" class=\"plotly-graph-div\"></div><script type=\"text/javascript\">require([\"plotly\"], function(Plotly) { window.PLOTLYENV=window.PLOTLYENV || {};window.PLOTLYENV.BASE_URL=\"https://plot.ly\";Plotly.newPlot(\"ab8ab3e2-46cc-4945-b863-f051773f01b3\", [{\"type\": \"scatterpolar\", \"r\": [8, 10, 5, 9, 8], \"theta\": [\"Typography\", \"Animation\", \"Reach\", \"Feedback\", \"Polish\"], \"fill\": \"toself\", \"hoverinfo\": \"r\", \"marker\": {\"color\": \"#8090c7\", \"symbol\": \"square\", \"size\": 8}}], {\"polar\": {\"radialaxis\": {\"visible\": true, \"range\": [0, 10], \"tickangle\": 0}, \"angularaxis\": {\"visible\": true}}, \"showlegend\": false, \"annotations\": [{\"text\": \"<b>Ratings (1/10):</b> <br>Typography: <br />Animation: <br />Reach: <br />Feedback: <br />Polish: <br />\", \"x\": -0.1, \"y\": 1, \"showarrow\": false, \"align\": \"left\"}, {\"text\": \"<br>8<br />10<br />5<br />9<br />8<br />\", \"x\": 0.07, \"y\": 0.95507, \"showarrow\": false, \"align\": \"left\"}], \"title\": \"Personal Blog\"}, {\"showLink\": true, \"linkText\": \"Export to plot.ly\"})});</script>"
      ]
     },
     "metadata": {},
     "output_type": "display_data"
    }
   ],
   "source": [
    "import math \n",
    "for index, row in dfrt.iterrows():    # for each of the ratings rows\n",
    "    d = []\n",
    "    \n",
    "    idea= row['idea'] # idea name\n",
    "    notes= row['notes'] # notes content\n",
    "    upper_range=attrs[index] \n",
    "    \n",
    "    stats = row.drop('idea').drop('notes') # get just the numbers\n",
    "    d.append(Scatterpolar(\n",
    "      r = stats, # distance from center\n",
    "      theta = attrs, # angle, which is categorical\n",
    "      fill = 'toself',\n",
    "      hoverinfo='r', #display the number on hover\n",
    "      marker = dict(\n",
    "        color = \"#8090c7\",\n",
    "        symbol = \"square\",\n",
    "        size = 8\n",
    "      )\n",
    "    ))\n",
    "\n",
    "    annot=[]\n",
    "\n",
    "    if (str(notes) != 'nan'): #if notes are included, add them to annotations\n",
    "        annot.append(\n",
    "            dict(\n",
    "                text=\"Notes: \" + notes,\n",
    "                x=-.1,\n",
    "                y=0.3,\n",
    "                showarrow=False,\n",
    "                align='left'\n",
    "            ))\n",
    "     \n",
    "    # add an annotation with the ratings\n",
    "    ratings = \"\"\n",
    "    ratingvals = \"<br>\"\n",
    "    if use_dual_labels:\n",
    "        for index, row in dfrn.iterrows():\n",
    "            ratings += dfrn.iloc[index][\"Left\"]+\"/\"\n",
    "            ratings +=dfrn.iloc[index][\"Right\"]+\":  \" \n",
    "            ratings+= \"<br>\"\n",
    "            ratingvals += str(stats[dfrn.iloc[index][\"Abbv\"]]) + \"<br>\"\n",
    "    else:\n",
    "        for index in attrs:\n",
    "            ratings += str(index) + \": <br />\" \n",
    "            ratingvals += str(stats[index]) + \"<br />\"\n",
    "\n",
    "    # Rating Labels    \n",
    "    annot.append(\n",
    "        dict(\n",
    "            text=\"<b>Ratings (1/10):</b> <br>\" + ratings,\n",
    "            x=-.1,\n",
    "            y=1,\n",
    "            showarrow=False,\n",
    "            align='left'\n",
    "        ))\n",
    "    # Rating Values, stacked neatly\n",
    "    annot.append(\n",
    "        dict(\n",
    "            text=ratingvals,\n",
    "            x=.07,\n",
    "            y=.95507,\n",
    "            showarrow=False,\n",
    "            align='left'\n",
    "        ))\n",
    "    \n",
    "    #set up the graph layout\n",
    "    layout = go.Layout(\n",
    "      polar = dict(\n",
    "        radialaxis = dict(\n",
    "          visible = True,\n",
    "          range = [0, rating_range], #range is hardcoded from 1-10\n",
    "          tickangle=0,\n",
    "        ),\n",
    "        angularaxis = dict(\n",
    "          visible = True,\n",
    "        ),\n",
    "      ),\n",
    "      showlegend = False,\n",
    "      annotations=annot,\n",
    "      title=idea\n",
    "    )\n",
    "\n",
    "    fig = Figure(data=d, layout=layout)\n",
    "    iplot(fig)"
   ]
  },
  {
   "cell_type": "code",
   "execution_count": 98,
   "metadata": {},
   "outputs": [
    {
     "data": {
      "application/vnd.plotly.v1+json": {
       "data": [
        {
         "fill": "toself",
         "hoverinfo": "r",
         "marker": {
          "size": 8,
          "symbol": "square"
         },
         "name": "Medium",
         "r": [
          3,
          2,
          10,
          8,
          10
         ],
         "theta": [
          "Typography",
          "Animation",
          "Reach",
          "Feedback",
          "Polish"
         ],
         "type": "scatterpolar"
        },
        {
         "fill": "toself",
         "hoverinfo": "r",
         "marker": {
          "size": 8,
          "symbol": "square"
         },
         "name": "Powerpoint",
         "r": [
          5,
          6,
          3,
          3,
          5
         ],
         "theta": [
          "Typography",
          "Animation",
          "Reach",
          "Feedback",
          "Polish"
         ],
         "type": "scatterpolar"
        },
        {
         "fill": "toself",
         "hoverinfo": "r",
         "marker": {
          "size": 8,
          "symbol": "square"
         },
         "name": "Keynote",
         "r": [
          10,
          10,
          3,
          3,
          10
         ],
         "theta": [
          "Typography",
          "Animation",
          "Reach",
          "Feedback",
          "Polish"
         ],
         "type": "scatterpolar"
        },
        {
         "fill": "toself",
         "hoverinfo": "r",
         "marker": {
          "size": 8,
          "symbol": "square"
         },
         "name": "Personal Blog",
         "r": [
          8,
          10,
          5,
          9,
          8
         ],
         "theta": [
          "Typography",
          "Animation",
          "Reach",
          "Feedback",
          "Polish"
         ],
         "type": "scatterpolar"
        }
       ],
       "layout": {
        "annotations": [],
        "polar": {
         "angularaxis": {
          "visible": true
         },
         "radialaxis": {
          "range": [
           0,
           10
          ],
          "tickangle": 0,
          "visible": true
         }
        },
        "showlegend": true,
        "title": "Medium vs Powerpoint vs Keynote vs Personal Blog"
       }
      },
      "text/html": [
       "<div id=\"c0f2a11e-b8b3-42e7-a379-d87bc9677f05\" style=\"height: 525px; width: 100%;\" class=\"plotly-graph-div\"></div><script type=\"text/javascript\">require([\"plotly\"], function(Plotly) { window.PLOTLYENV=window.PLOTLYENV || {};window.PLOTLYENV.BASE_URL=\"https://plot.ly\";Plotly.newPlot(\"c0f2a11e-b8b3-42e7-a379-d87bc9677f05\", [{\"type\": \"scatterpolar\", \"r\": [3, 2, 10, 8, 10], \"theta\": [\"Typography\", \"Animation\", \"Reach\", \"Feedback\", \"Polish\"], \"fill\": \"toself\", \"hoverinfo\": \"r\", \"name\": \"Medium\", \"marker\": {\"symbol\": \"square\", \"size\": 8}}, {\"type\": \"scatterpolar\", \"r\": [5, 6, 3, 3, 5], \"theta\": [\"Typography\", \"Animation\", \"Reach\", \"Feedback\", \"Polish\"], \"fill\": \"toself\", \"hoverinfo\": \"r\", \"name\": \"Powerpoint\", \"marker\": {\"symbol\": \"square\", \"size\": 8}}, {\"type\": \"scatterpolar\", \"r\": [10, 10, 3, 3, 10], \"theta\": [\"Typography\", \"Animation\", \"Reach\", \"Feedback\", \"Polish\"], \"fill\": \"toself\", \"hoverinfo\": \"r\", \"name\": \"Keynote\", \"marker\": {\"symbol\": \"square\", \"size\": 8}}, {\"type\": \"scatterpolar\", \"r\": [8, 10, 5, 9, 8], \"theta\": [\"Typography\", \"Animation\", \"Reach\", \"Feedback\", \"Polish\"], \"fill\": \"toself\", \"hoverinfo\": \"r\", \"name\": \"Personal Blog\", \"marker\": {\"symbol\": \"square\", \"size\": 8}}], {\"polar\": {\"radialaxis\": {\"visible\": true, \"range\": [0, 10], \"tickangle\": 0}, \"angularaxis\": {\"visible\": true}}, \"showlegend\": true, \"annotations\": [], \"title\": \"Medium vs Powerpoint vs Keynote vs Personal Blog\"}, {\"showLink\": true, \"linkText\": \"Export to plot.ly\"})});</script>"
      ],
      "text/vnd.plotly.v1+html": [
       "<div id=\"c0f2a11e-b8b3-42e7-a379-d87bc9677f05\" style=\"height: 525px; width: 100%;\" class=\"plotly-graph-div\"></div><script type=\"text/javascript\">require([\"plotly\"], function(Plotly) { window.PLOTLYENV=window.PLOTLYENV || {};window.PLOTLYENV.BASE_URL=\"https://plot.ly\";Plotly.newPlot(\"c0f2a11e-b8b3-42e7-a379-d87bc9677f05\", [{\"type\": \"scatterpolar\", \"r\": [3, 2, 10, 8, 10], \"theta\": [\"Typography\", \"Animation\", \"Reach\", \"Feedback\", \"Polish\"], \"fill\": \"toself\", \"hoverinfo\": \"r\", \"name\": \"Medium\", \"marker\": {\"symbol\": \"square\", \"size\": 8}}, {\"type\": \"scatterpolar\", \"r\": [5, 6, 3, 3, 5], \"theta\": [\"Typography\", \"Animation\", \"Reach\", \"Feedback\", \"Polish\"], \"fill\": \"toself\", \"hoverinfo\": \"r\", \"name\": \"Powerpoint\", \"marker\": {\"symbol\": \"square\", \"size\": 8}}, {\"type\": \"scatterpolar\", \"r\": [10, 10, 3, 3, 10], \"theta\": [\"Typography\", \"Animation\", \"Reach\", \"Feedback\", \"Polish\"], \"fill\": \"toself\", \"hoverinfo\": \"r\", \"name\": \"Keynote\", \"marker\": {\"symbol\": \"square\", \"size\": 8}}, {\"type\": \"scatterpolar\", \"r\": [8, 10, 5, 9, 8], \"theta\": [\"Typography\", \"Animation\", \"Reach\", \"Feedback\", \"Polish\"], \"fill\": \"toself\", \"hoverinfo\": \"r\", \"name\": \"Personal Blog\", \"marker\": {\"symbol\": \"square\", \"size\": 8}}], {\"polar\": {\"radialaxis\": {\"visible\": true, \"range\": [0, 10], \"tickangle\": 0}, \"angularaxis\": {\"visible\": true}}, \"showlegend\": true, \"annotations\": [], \"title\": \"Medium vs Powerpoint vs Keynote vs Personal Blog\"}, {\"showLink\": true, \"linkText\": \"Export to plot.ly\"})});</script>"
      ]
     },
     "metadata": {},
     "output_type": "display_data"
    },
    {
     "data": {
      "application/vnd.plotly.v1+json": {
       "data": [
        {
         "fill": "toself",
         "hoverinfo": "r",
         "marker": {
          "size": 8,
          "symbol": "square"
         },
         "name": "Keynote",
         "r": [
          10,
          10,
          3,
          3,
          10
         ],
         "theta": [
          "Typography",
          "Animation",
          "Reach",
          "Feedback",
          "Polish"
         ],
         "type": "scatterpolar"
        },
        {
         "fill": "toself",
         "hoverinfo": "r",
         "marker": {
          "size": 8,
          "symbol": "square"
         },
         "name": "Powerpoint",
         "r": [
          5,
          6,
          3,
          3,
          5
         ],
         "theta": [
          "Typography",
          "Animation",
          "Reach",
          "Feedback",
          "Polish"
         ],
         "type": "scatterpolar"
        }
       ],
       "layout": {
        "annotations": [],
        "polar": {
         "angularaxis": {
          "visible": true
         },
         "radialaxis": {
          "range": [
           0,
           10
          ],
          "tickangle": 0,
          "visible": true
         }
        },
        "showlegend": true,
        "title": "Keynote vs Powerpoint"
       }
      },
      "text/html": [
       "<div id=\"137ed4de-1d42-4452-b2da-edeb8836f707\" style=\"height: 525px; width: 100%;\" class=\"plotly-graph-div\"></div><script type=\"text/javascript\">require([\"plotly\"], function(Plotly) { window.PLOTLYENV=window.PLOTLYENV || {};window.PLOTLYENV.BASE_URL=\"https://plot.ly\";Plotly.newPlot(\"137ed4de-1d42-4452-b2da-edeb8836f707\", [{\"type\": \"scatterpolar\", \"r\": [10, 10, 3, 3, 10], \"theta\": [\"Typography\", \"Animation\", \"Reach\", \"Feedback\", \"Polish\"], \"fill\": \"toself\", \"hoverinfo\": \"r\", \"name\": \"Keynote\", \"marker\": {\"symbol\": \"square\", \"size\": 8}}, {\"type\": \"scatterpolar\", \"r\": [5, 6, 3, 3, 5], \"theta\": [\"Typography\", \"Animation\", \"Reach\", \"Feedback\", \"Polish\"], \"fill\": \"toself\", \"hoverinfo\": \"r\", \"name\": \"Powerpoint\", \"marker\": {\"symbol\": \"square\", \"size\": 8}}], {\"polar\": {\"radialaxis\": {\"visible\": true, \"range\": [0, 10], \"tickangle\": 0}, \"angularaxis\": {\"visible\": true}}, \"showlegend\": true, \"annotations\": [], \"title\": \"Keynote vs Powerpoint\"}, {\"showLink\": true, \"linkText\": \"Export to plot.ly\"})});</script>"
      ],
      "text/vnd.plotly.v1+html": [
       "<div id=\"137ed4de-1d42-4452-b2da-edeb8836f707\" style=\"height: 525px; width: 100%;\" class=\"plotly-graph-div\"></div><script type=\"text/javascript\">require([\"plotly\"], function(Plotly) { window.PLOTLYENV=window.PLOTLYENV || {};window.PLOTLYENV.BASE_URL=\"https://plot.ly\";Plotly.newPlot(\"137ed4de-1d42-4452-b2da-edeb8836f707\", [{\"type\": \"scatterpolar\", \"r\": [10, 10, 3, 3, 10], \"theta\": [\"Typography\", \"Animation\", \"Reach\", \"Feedback\", \"Polish\"], \"fill\": \"toself\", \"hoverinfo\": \"r\", \"name\": \"Keynote\", \"marker\": {\"symbol\": \"square\", \"size\": 8}}, {\"type\": \"scatterpolar\", \"r\": [5, 6, 3, 3, 5], \"theta\": [\"Typography\", \"Animation\", \"Reach\", \"Feedback\", \"Polish\"], \"fill\": \"toself\", \"hoverinfo\": \"r\", \"name\": \"Powerpoint\", \"marker\": {\"symbol\": \"square\", \"size\": 8}}], {\"polar\": {\"radialaxis\": {\"visible\": true, \"range\": [0, 10], \"tickangle\": 0}, \"angularaxis\": {\"visible\": true}}, \"showlegend\": true, \"annotations\": [], \"title\": \"Keynote vs Powerpoint\"}, {\"showLink\": true, \"linkText\": \"Export to plot.ly\"})});</script>"
      ]
     },
     "metadata": {},
     "output_type": "display_data"
    },
    {
     "data": {
      "application/vnd.plotly.v1+json": {
       "data": [
        {
         "fill": "toself",
         "hoverinfo": "r",
         "marker": {
          "size": 8,
          "symbol": "square"
         },
         "name": "Medium",
         "r": [
          3,
          2,
          10,
          8,
          10
         ],
         "theta": [
          "Typography",
          "Animation",
          "Reach",
          "Feedback",
          "Polish"
         ],
         "type": "scatterpolar"
        },
        {
         "fill": "toself",
         "hoverinfo": "r",
         "marker": {
          "size": 8,
          "symbol": "square"
         },
         "name": "Personal Blog",
         "r": [
          8,
          10,
          5,
          9,
          8
         ],
         "theta": [
          "Typography",
          "Animation",
          "Reach",
          "Feedback",
          "Polish"
         ],
         "type": "scatterpolar"
        }
       ],
       "layout": {
        "annotations": [],
        "polar": {
         "angularaxis": {
          "visible": true
         },
         "radialaxis": {
          "range": [
           0,
           10
          ],
          "tickangle": 0,
          "visible": true
         }
        },
        "showlegend": true,
        "title": "Medium vs Personal Blog"
       }
      },
      "text/html": [
       "<div id=\"cd2b0fb3-6d59-439c-8f86-6f62855c9592\" style=\"height: 525px; width: 100%;\" class=\"plotly-graph-div\"></div><script type=\"text/javascript\">require([\"plotly\"], function(Plotly) { window.PLOTLYENV=window.PLOTLYENV || {};window.PLOTLYENV.BASE_URL=\"https://plot.ly\";Plotly.newPlot(\"cd2b0fb3-6d59-439c-8f86-6f62855c9592\", [{\"type\": \"scatterpolar\", \"r\": [3, 2, 10, 8, 10], \"theta\": [\"Typography\", \"Animation\", \"Reach\", \"Feedback\", \"Polish\"], \"fill\": \"toself\", \"hoverinfo\": \"r\", \"name\": \"Medium\", \"marker\": {\"symbol\": \"square\", \"size\": 8}}, {\"type\": \"scatterpolar\", \"r\": [8, 10, 5, 9, 8], \"theta\": [\"Typography\", \"Animation\", \"Reach\", \"Feedback\", \"Polish\"], \"fill\": \"toself\", \"hoverinfo\": \"r\", \"name\": \"Personal Blog\", \"marker\": {\"symbol\": \"square\", \"size\": 8}}], {\"polar\": {\"radialaxis\": {\"visible\": true, \"range\": [0, 10], \"tickangle\": 0}, \"angularaxis\": {\"visible\": true}}, \"showlegend\": true, \"annotations\": [], \"title\": \"Medium vs Personal Blog\"}, {\"showLink\": true, \"linkText\": \"Export to plot.ly\"})});</script>"
      ],
      "text/vnd.plotly.v1+html": [
       "<div id=\"cd2b0fb3-6d59-439c-8f86-6f62855c9592\" style=\"height: 525px; width: 100%;\" class=\"plotly-graph-div\"></div><script type=\"text/javascript\">require([\"plotly\"], function(Plotly) { window.PLOTLYENV=window.PLOTLYENV || {};window.PLOTLYENV.BASE_URL=\"https://plot.ly\";Plotly.newPlot(\"cd2b0fb3-6d59-439c-8f86-6f62855c9592\", [{\"type\": \"scatterpolar\", \"r\": [3, 2, 10, 8, 10], \"theta\": [\"Typography\", \"Animation\", \"Reach\", \"Feedback\", \"Polish\"], \"fill\": \"toself\", \"hoverinfo\": \"r\", \"name\": \"Medium\", \"marker\": {\"symbol\": \"square\", \"size\": 8}}, {\"type\": \"scatterpolar\", \"r\": [8, 10, 5, 9, 8], \"theta\": [\"Typography\", \"Animation\", \"Reach\", \"Feedback\", \"Polish\"], \"fill\": \"toself\", \"hoverinfo\": \"r\", \"name\": \"Personal Blog\", \"marker\": {\"symbol\": \"square\", \"size\": 8}}], {\"polar\": {\"radialaxis\": {\"visible\": true, \"range\": [0, 10], \"tickangle\": 0}, \"angularaxis\": {\"visible\": true}}, \"showlegend\": true, \"annotations\": [], \"title\": \"Medium vs Personal Blog\"}, {\"showLink\": true, \"linkText\": \"Export to plot.ly\"})});</script>"
      ]
     },
     "metadata": {},
     "output_type": "display_data"
    }
   ],
   "source": [
    "# create overlays of the ones you'd like to compare. \n",
    "for index, row in dfoy.iterrows():\n",
    "#     display(row)\n",
    "    d = []\n",
    "    \n",
    "    row = row[~pd.isnull(row)] # drop any NANs that arise from uneven row length\n",
    "    title = ''\n",
    "    for ind, idd in enumerate(row):\n",
    "#         display(idd)\n",
    "        row_stats = dfrt.iloc[int(idd-2)]\n",
    "#         display(row_stats)\n",
    "        idea= row_stats['idea']\n",
    "        title += \" vs \" + idea if ind > 0 else idea\n",
    "        stats = row_stats.drop('idea').drop('notes')\n",
    "        d.append(Scatterpolar(\n",
    "          r = stats,\n",
    "          theta = attrs,\n",
    "          fill = 'toself',\n",
    "          hoverinfo='r',\n",
    "          name=idea,\n",
    "          marker = dict(\n",
    "            symbol = \"square\",\n",
    "            size = 8\n",
    "          )\n",
    "        ))\n",
    "\n",
    "    annot=[]\n",
    "\n",
    "    layout = go.Layout(\n",
    "      polar = dict(\n",
    "        radialaxis = dict(\n",
    "          visible = True,\n",
    "          range = [0, rating_range],\n",
    "          tickangle=0,\n",
    "#           angle=90,\n",
    "        ),\n",
    "        angularaxis = dict(\n",
    "          visible = True,\n",
    "        ),\n",
    "      ),\n",
    "      showlegend = True,\n",
    "      annotations=annot,\n",
    "      title=title\n",
    "    )\n",
    "\n",
    "    fig = Figure(data=d, layout=layout)\n",
    "    iplot(fig)"
   ]
  },
  {
   "cell_type": "code",
   "execution_count": null,
   "metadata": {},
   "outputs": [],
   "source": []
  },
  {
   "cell_type": "code",
   "execution_count": null,
   "metadata": {
    "collapsed": true
   },
   "outputs": [],
   "source": []
  }
 ],
 "metadata": {
  "kernelspec": {
   "display_name": "Python 3",
   "language": "python",
   "name": "python3"
  },
  "language_info": {
   "codemirror_mode": {
    "name": "ipython",
    "version": 3
   },
   "file_extension": ".py",
   "mimetype": "text/x-python",
   "name": "python",
   "nbconvert_exporter": "python",
   "pygments_lexer": "ipython3",
   "version": "3.6.3"
  }
 },
 "nbformat": 4,
 "nbformat_minor": 2
}
