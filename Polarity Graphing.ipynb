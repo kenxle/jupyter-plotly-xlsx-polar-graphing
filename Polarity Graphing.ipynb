{
 "cells": [
  {
   "cell_type": "code",
   "execution_count": 4,
   "metadata": {},
   "outputs": [
    {
     "data": {
      "text/html": [
       "<script>requirejs.config({paths: { 'plotly': ['https://cdn.plot.ly/plotly-latest.min']},});if(!window.Plotly) {{require(['plotly'],function(plotly) {window.Plotly=plotly;});}}</script>"
      ],
      "text/vnd.plotly.v1+html": [
       "<script>requirejs.config({paths: { 'plotly': ['https://cdn.plot.ly/plotly-latest.min']},});if(!window.Plotly) {{require(['plotly'],function(plotly) {window.Plotly=plotly;});}}</script>"
      ]
     },
     "metadata": {},
     "output_type": "display_data"
    },
    {
     "data": {
      "text/html": [
       "<div>\n",
       "<style scoped>\n",
       "    .dataframe tbody tr th:only-of-type {\n",
       "        vertical-align: middle;\n",
       "    }\n",
       "\n",
       "    .dataframe tbody tr th {\n",
       "        vertical-align: top;\n",
       "    }\n",
       "\n",
       "    .dataframe thead th {\n",
       "        text-align: right;\n",
       "    }\n",
       "</style>\n",
       "<table border=\"1\" class=\"dataframe\">\n",
       "  <thead>\n",
       "    <tr style=\"text-align: right;\">\n",
       "      <th></th>\n",
       "      <th>Idea/Example</th>\n",
       "      <th>Atomicity (1) - Redundancy (10)</th>\n",
       "      <th>Inefficiency (1) - Efficiency (10)</th>\n",
       "      <th>Custom (1) - Standard (10)</th>\n",
       "      <th>Ad Hoc (1) - Contingency (10)</th>\n",
       "      <th>Top down (1) - Bottom Up (10)</th>\n",
       "      <th>Manual (1) - Automatic (10)</th>\n",
       "      <th>Wasteful (1) - Resourceful (10)</th>\n",
       "      <th>Obscurity (1) - Clarity (10)</th>\n",
       "      <th>Singular (1) - Multimodal (10)</th>\n",
       "      <th>Jarring (1) - Seamless (10)</th>\n",
       "      <th>Notes</th>\n",
       "    </tr>\n",
       "  </thead>\n",
       "  <tbody>\n",
       "    <tr>\n",
       "      <th>0</th>\n",
       "      <td>By the Book</td>\n",
       "      <td>5</td>\n",
       "      <td>5</td>\n",
       "      <td>6</td>\n",
       "      <td>7</td>\n",
       "      <td>3</td>\n",
       "      <td>5</td>\n",
       "      <td>5</td>\n",
       "      <td>5</td>\n",
       "      <td>5</td>\n",
       "      <td>6</td>\n",
       "      <td>NaN</td>\n",
       "    </tr>\n",
       "    <tr>\n",
       "      <th>1</th>\n",
       "      <td>Firing Room</td>\n",
       "      <td>10</td>\n",
       "      <td>10</td>\n",
       "      <td>2</td>\n",
       "      <td>2</td>\n",
       "      <td>8</td>\n",
       "      <td>2</td>\n",
       "      <td>1</td>\n",
       "      <td>10</td>\n",
       "      <td>10</td>\n",
       "      <td>10</td>\n",
       "      <td>Redundancy reflects the number of people &lt;br&gt;f...</td>\n",
       "    </tr>\n",
       "    <tr>\n",
       "      <th>2</th>\n",
       "      <td>Test Facility</td>\n",
       "      <td>2</td>\n",
       "      <td>7</td>\n",
       "      <td>5</td>\n",
       "      <td>3</td>\n",
       "      <td>5</td>\n",
       "      <td>3</td>\n",
       "      <td>5</td>\n",
       "      <td>3</td>\n",
       "      <td>7</td>\n",
       "      <td>6</td>\n",
       "      <td>NaN</td>\n",
       "    </tr>\n",
       "    <tr>\n",
       "      <th>3</th>\n",
       "      <td>Tank</td>\n",
       "      <td>2</td>\n",
       "      <td>2</td>\n",
       "      <td>4</td>\n",
       "      <td>5</td>\n",
       "      <td>2</td>\n",
       "      <td>3</td>\n",
       "      <td>2</td>\n",
       "      <td>2</td>\n",
       "      <td>5</td>\n",
       "      <td>3</td>\n",
       "      <td>NaN</td>\n",
       "    </tr>\n",
       "    <tr>\n",
       "      <th>4</th>\n",
       "      <td>Recommended Docs &lt;br&gt; During Authoring</td>\n",
       "      <td>8</td>\n",
       "      <td>8</td>\n",
       "      <td>7</td>\n",
       "      <td>8</td>\n",
       "      <td>7</td>\n",
       "      <td>7</td>\n",
       "      <td>8</td>\n",
       "      <td>6</td>\n",
       "      <td>3</td>\n",
       "      <td>7</td>\n",
       "      <td>Redundancy: Docs' info becomes more&lt;br&gt; redund...</td>\n",
       "    </tr>\n",
       "    <tr>\n",
       "      <th>5</th>\n",
       "      <td>RFID-Tagged, Wristband Voice &lt;br&gt;Command Tech ...</td>\n",
       "      <td>8</td>\n",
       "      <td>6</td>\n",
       "      <td>8</td>\n",
       "      <td>7</td>\n",
       "      <td>5</td>\n",
       "      <td>7</td>\n",
       "      <td>7</td>\n",
       "      <td>5</td>\n",
       "      <td>8</td>\n",
       "      <td>7</td>\n",
       "      <td>Redundancy: Feedback on Docs is&lt;br&gt;logged and ...</td>\n",
       "    </tr>\n",
       "  </tbody>\n",
       "</table>\n",
       "</div>"
      ],
      "text/plain": [
       "                                        Idea/Example  \\\n",
       "0                                        By the Book   \n",
       "1                                        Firing Room   \n",
       "2                                      Test Facility   \n",
       "3                                               Tank   \n",
       "4             Recommended Docs <br> During Authoring   \n",
       "5  RFID-Tagged, Wristband Voice <br>Command Tech ...   \n",
       "\n",
       "   Atomicity (1) - Redundancy (10)  Inefficiency (1) - Efficiency (10)  \\\n",
       "0                                5                                   5   \n",
       "1                               10                                  10   \n",
       "2                                2                                   7   \n",
       "3                                2                                   2   \n",
       "4                                8                                   8   \n",
       "5                                8                                   6   \n",
       "\n",
       "   Custom (1) - Standard (10)  Ad Hoc (1) - Contingency (10)  \\\n",
       "0                           6                              7   \n",
       "1                           2                              2   \n",
       "2                           5                              3   \n",
       "3                           4                              5   \n",
       "4                           7                              8   \n",
       "5                           8                              7   \n",
       "\n",
       "   Top down (1) - Bottom Up (10)  Manual (1) - Automatic (10)  \\\n",
       "0                              3                            5   \n",
       "1                              8                            2   \n",
       "2                              5                            3   \n",
       "3                              2                            3   \n",
       "4                              7                            7   \n",
       "5                              5                            7   \n",
       "\n",
       "   Wasteful (1) - Resourceful (10)  Obscurity (1) - Clarity (10)  \\\n",
       "0                                5                             5   \n",
       "1                                1                            10   \n",
       "2                                5                             3   \n",
       "3                                2                             2   \n",
       "4                                8                             6   \n",
       "5                                7                             5   \n",
       "\n",
       "   Singular (1) - Multimodal (10)  Jarring (1) - Seamless (10)  \\\n",
       "0                               5                            6   \n",
       "1                              10                           10   \n",
       "2                               7                            6   \n",
       "3                               5                            3   \n",
       "4                               3                            7   \n",
       "5                               8                            7   \n",
       "\n",
       "                                               Notes  \n",
       "0                                                NaN  \n",
       "1  Redundancy reflects the number of people <br>f...  \n",
       "2                                                NaN  \n",
       "3                                                NaN  \n",
       "4  Redundancy: Docs' info becomes more<br> redund...  \n",
       "5  Redundancy: Feedback on Docs is<br>logged and ...  "
      ]
     },
     "metadata": {},
     "output_type": "display_data"
    },
    {
     "data": {
      "text/html": [
       "<div>\n",
       "<style scoped>\n",
       "    .dataframe tbody tr th:only-of-type {\n",
       "        vertical-align: middle;\n",
       "    }\n",
       "\n",
       "    .dataframe tbody tr th {\n",
       "        vertical-align: top;\n",
       "    }\n",
       "\n",
       "    .dataframe thead th {\n",
       "        text-align: right;\n",
       "    }\n",
       "</style>\n",
       "<table border=\"1\" class=\"dataframe\">\n",
       "  <thead>\n",
       "    <tr style=\"text-align: right;\">\n",
       "      <th></th>\n",
       "      <th>Left</th>\n",
       "      <th>Right</th>\n",
       "      <th>Abbv</th>\n",
       "    </tr>\n",
       "  </thead>\n",
       "  <tbody>\n",
       "    <tr>\n",
       "      <th>0</th>\n",
       "      <td>Atomicity</td>\n",
       "      <td>Redundancy</td>\n",
       "      <td>ar</td>\n",
       "    </tr>\n",
       "    <tr>\n",
       "      <th>1</th>\n",
       "      <td>Inefficiency</td>\n",
       "      <td>Efficiency</td>\n",
       "      <td>ei</td>\n",
       "    </tr>\n",
       "    <tr>\n",
       "      <th>2</th>\n",
       "      <td>Custom</td>\n",
       "      <td>Standard</td>\n",
       "      <td>sc</td>\n",
       "    </tr>\n",
       "    <tr>\n",
       "      <th>3</th>\n",
       "      <td>Ad Hoc</td>\n",
       "      <td>Contingency</td>\n",
       "      <td>ci</td>\n",
       "    </tr>\n",
       "    <tr>\n",
       "      <th>4</th>\n",
       "      <td>Top Down</td>\n",
       "      <td>Bottom Up</td>\n",
       "      <td>tb</td>\n",
       "    </tr>\n",
       "    <tr>\n",
       "      <th>5</th>\n",
       "      <td>Manual</td>\n",
       "      <td>Automatic</td>\n",
       "      <td>am</td>\n",
       "    </tr>\n",
       "    <tr>\n",
       "      <th>6</th>\n",
       "      <td>Wasteful</td>\n",
       "      <td>Resourceful</td>\n",
       "      <td>wr</td>\n",
       "    </tr>\n",
       "    <tr>\n",
       "      <th>7</th>\n",
       "      <td>Obscurity</td>\n",
       "      <td>Clarity</td>\n",
       "      <td>oc</td>\n",
       "    </tr>\n",
       "    <tr>\n",
       "      <th>8</th>\n",
       "      <td>Singular</td>\n",
       "      <td>Multimodal</td>\n",
       "      <td>sm</td>\n",
       "    </tr>\n",
       "    <tr>\n",
       "      <th>9</th>\n",
       "      <td>Jarring</td>\n",
       "      <td>Seamless</td>\n",
       "      <td>js</td>\n",
       "    </tr>\n",
       "  </tbody>\n",
       "</table>\n",
       "</div>"
      ],
      "text/plain": [
       "           Left        Right Abbv\n",
       "0     Atomicity   Redundancy   ar\n",
       "1  Inefficiency   Efficiency   ei\n",
       "2        Custom     Standard   sc\n",
       "3        Ad Hoc  Contingency   ci\n",
       "4      Top Down    Bottom Up   tb\n",
       "5        Manual    Automatic   am\n",
       "6      Wasteful  Resourceful   wr\n",
       "7     Obscurity      Clarity   oc\n",
       "8      Singular   Multimodal   sm\n",
       "9       Jarring     Seamless   js"
      ]
     },
     "metadata": {},
     "output_type": "display_data"
    },
    {
     "data": {
      "text/html": [
       "<div>\n",
       "<style scoped>\n",
       "    .dataframe tbody tr th:only-of-type {\n",
       "        vertical-align: middle;\n",
       "    }\n",
       "\n",
       "    .dataframe tbody tr th {\n",
       "        vertical-align: top;\n",
       "    }\n",
       "\n",
       "    .dataframe thead th {\n",
       "        text-align: right;\n",
       "    }\n",
       "</style>\n",
       "<table border=\"1\" class=\"dataframe\">\n",
       "  <thead>\n",
       "    <tr style=\"text-align: right;\">\n",
       "      <th></th>\n",
       "      <th>idea</th>\n",
       "      <th>ar</th>\n",
       "      <th>ei</th>\n",
       "      <th>sc</th>\n",
       "      <th>ci</th>\n",
       "      <th>tb</th>\n",
       "      <th>am</th>\n",
       "      <th>wr</th>\n",
       "      <th>oc</th>\n",
       "      <th>sm</th>\n",
       "      <th>js</th>\n",
       "      <th>notes</th>\n",
       "    </tr>\n",
       "  </thead>\n",
       "  <tbody>\n",
       "    <tr>\n",
       "      <th>0</th>\n",
       "      <td>By the Book</td>\n",
       "      <td>5</td>\n",
       "      <td>5</td>\n",
       "      <td>6</td>\n",
       "      <td>7</td>\n",
       "      <td>3</td>\n",
       "      <td>5</td>\n",
       "      <td>5</td>\n",
       "      <td>5</td>\n",
       "      <td>5</td>\n",
       "      <td>6</td>\n",
       "      <td>NaN</td>\n",
       "    </tr>\n",
       "    <tr>\n",
       "      <th>1</th>\n",
       "      <td>Firing Room</td>\n",
       "      <td>10</td>\n",
       "      <td>10</td>\n",
       "      <td>2</td>\n",
       "      <td>2</td>\n",
       "      <td>8</td>\n",
       "      <td>2</td>\n",
       "      <td>1</td>\n",
       "      <td>10</td>\n",
       "      <td>10</td>\n",
       "      <td>10</td>\n",
       "      <td>Redundancy reflects the number of people &lt;br&gt;f...</td>\n",
       "    </tr>\n",
       "    <tr>\n",
       "      <th>2</th>\n",
       "      <td>Test Facility</td>\n",
       "      <td>2</td>\n",
       "      <td>7</td>\n",
       "      <td>5</td>\n",
       "      <td>3</td>\n",
       "      <td>5</td>\n",
       "      <td>3</td>\n",
       "      <td>5</td>\n",
       "      <td>3</td>\n",
       "      <td>7</td>\n",
       "      <td>6</td>\n",
       "      <td>NaN</td>\n",
       "    </tr>\n",
       "    <tr>\n",
       "      <th>3</th>\n",
       "      <td>Tank</td>\n",
       "      <td>2</td>\n",
       "      <td>2</td>\n",
       "      <td>4</td>\n",
       "      <td>5</td>\n",
       "      <td>2</td>\n",
       "      <td>3</td>\n",
       "      <td>2</td>\n",
       "      <td>2</td>\n",
       "      <td>5</td>\n",
       "      <td>3</td>\n",
       "      <td>NaN</td>\n",
       "    </tr>\n",
       "    <tr>\n",
       "      <th>4</th>\n",
       "      <td>Recommended Docs &lt;br&gt; During Authoring</td>\n",
       "      <td>8</td>\n",
       "      <td>8</td>\n",
       "      <td>7</td>\n",
       "      <td>8</td>\n",
       "      <td>7</td>\n",
       "      <td>7</td>\n",
       "      <td>8</td>\n",
       "      <td>6</td>\n",
       "      <td>3</td>\n",
       "      <td>7</td>\n",
       "      <td>Redundancy: Docs' info becomes more&lt;br&gt; redund...</td>\n",
       "    </tr>\n",
       "    <tr>\n",
       "      <th>5</th>\n",
       "      <td>RFID-Tagged, Wristband Voice &lt;br&gt;Command Tech ...</td>\n",
       "      <td>8</td>\n",
       "      <td>6</td>\n",
       "      <td>8</td>\n",
       "      <td>7</td>\n",
       "      <td>5</td>\n",
       "      <td>7</td>\n",
       "      <td>7</td>\n",
       "      <td>5</td>\n",
       "      <td>8</td>\n",
       "      <td>7</td>\n",
       "      <td>Redundancy: Feedback on Docs is&lt;br&gt;logged and ...</td>\n",
       "    </tr>\n",
       "  </tbody>\n",
       "</table>\n",
       "</div>"
      ],
      "text/plain": [
       "                                                idea  ar  ei  sc  ci  tb  am  \\\n",
       "0                                        By the Book   5   5   6   7   3   5   \n",
       "1                                        Firing Room  10  10   2   2   8   2   \n",
       "2                                      Test Facility   2   7   5   3   5   3   \n",
       "3                                               Tank   2   2   4   5   2   3   \n",
       "4             Recommended Docs <br> During Authoring   8   8   7   8   7   7   \n",
       "5  RFID-Tagged, Wristband Voice <br>Command Tech ...   8   6   8   7   5   7   \n",
       "\n",
       "   wr  oc  sm  js                                              notes  \n",
       "0   5   5   5   6                                                NaN  \n",
       "1   1  10  10  10  Redundancy reflects the number of people <br>f...  \n",
       "2   5   3   7   6                                                NaN  \n",
       "3   2   2   5   3                                                NaN  \n",
       "4   8   6   3   7  Redundancy: Docs' info becomes more<br> redund...  \n",
       "5   7   5   8   7  Redundancy: Feedback on Docs is<br>logged and ...  "
      ]
     },
     "metadata": {},
     "output_type": "display_data"
    }
   ],
   "source": [
    "import numpy as np\n",
    "import pandas as pd\n",
    "from pandas import ExcelWriter\n",
    "from pandas import ExcelFile\n",
    "import matplotlib\n",
    "import matplotlib.pyplot as plt\n",
    "%matplotlib inline\n",
    "import plotly.plotly as py\n",
    "import plotly.graph_objs as go\n",
    "from plotly.graph_objs import *\n",
    "# from plotly import __version__\n",
    "from plotly.offline import download_plotlyjs, init_notebook_mode, plot, iplot\n",
    "init_notebook_mode(connected=True)\n",
    "\n",
    "#file setup\n",
    "sdir=''\n",
    "filename='Polarities.xlsx'\n",
    "sheet = \"Ratings\"\n",
    "dfrt = pd.read_excel(sdir+filename, sheet_name=sheet)\n",
    "sheet = \"Ranges\"\n",
    "dfrn = pd.read_excel(sdir+filename, sheet_name=sheet)\n",
    "\n",
    "display(dfrt)\n",
    "display(dfrn)\n",
    "\n",
    "attrs = dfrt.columns\n",
    "# these columns must match the abbreviations on sheet two of the excel data\n",
    "dfrt.columns = ['idea', 'ar', 'ei', 'sc', 'ci', 'tb', 'am', 'wr', 'oc', 'sm', 'js', 'notes']\n",
    "display(dfrt)\n"
   ]
  },
  {
   "cell_type": "code",
   "execution_count": 2,
   "metadata": {
    "scrolled": false
   },
   "outputs": [
    {
     "data": {
      "application/vnd.plotly.v1+json": {
       "data": [
        {
         "fill": "toself",
         "hoverinfo": "r",
         "marker": {
          "color": "#8090c7",
          "size": 8,
          "symbol": "square"
         },
         "r": [
          5,
          5,
          6,
          7,
          3,
          5,
          5,
          5,
          5,
          6
         ],
         "theta": [
          "Redundancy (10)",
          "Efficiency (10)",
          "Standard (10)",
          "Contingency (10)",
          "Bottom Up (10)",
          "Automatic (10)",
          "Resourceful (10)",
          "Clarity (10)",
          "Multimodal (10)",
          "Seamless (10)",
          null
         ],
         "type": "scatterpolar"
        }
       ],
       "layout": {
        "annotations": [
         {
          "borderpad": 0,
          "font": {
           "color": "rgba(0,0,0,0.4)"
          },
          "showarrow": false,
          "text": "<b>Atomicity (1)</b>",
          "textangle": 360,
          "x": 0.55,
          "xanchor": "left",
          "y": 0.5,
          "yanchor": "bottom"
         },
         {
          "borderpad": 0,
          "font": {
           "color": "rgba(0,0,0,0.4)"
          },
          "showarrow": false,
          "text": "<b>Inefficiency (1)</b>",
          "textangle": 324,
          "x": 0.5355967477524977,
          "xanchor": "left",
          "y": 0.5620701226420852,
          "yanchor": "bottom"
         },
         {
          "borderpad": 0,
          "font": {
           "color": "rgba(0,0,0,0.4)"
          },
          "showarrow": false,
          "text": "<b>Custom (1)</b>",
          "textangle": 288,
          "x": 0.5,
          "xanchor": "left",
          "y": 0.62,
          "yanchor": "bottom"
         },
         {
          "borderpad": 0,
          "font": {
           "color": "rgba(0,0,0,0.4)"
          },
          "showarrow": false,
          "text": "<b>Ad Hoc (1)</b>",
          "textangle": 72,
          "x": 0.4845491502812526,
          "xanchor": "right",
          "y": 0.6141267819554185,
          "yanchor": "bottom"
         },
         {
          "borderpad": 0,
          "font": {
           "color": "rgba(0,0,0,0.4)"
          },
          "showarrow": false,
          "text": "<b>Top down (1)</b>",
          "textangle": 36,
          "x": 0.45815351328301324,
          "xanchor": "right",
          "y": 0.5326321946059944,
          "yanchor": "bottom"
         },
         {
          "borderpad": 0,
          "font": {
           "color": "rgba(0,0,0,0.4)"
          },
          "showarrow": false,
          "text": "<b>Manual (1)</b>",
          "textangle": 0,
          "x": 0.45,
          "xanchor": "right",
          "y": 0.5,
          "yanchor": "top"
         },
         {
          "borderpad": 0,
          "font": {
           "color": "rgba(0,0,0,0.4)"
          },
          "showarrow": false,
          "text": "<b>Wasteful (1)</b>",
          "textangle": -36,
          "x": 0.4644032522475023,
          "xanchor": "right",
          "y": 0.43792987735791483,
          "yanchor": "top"
         },
         {
          "borderpad": 0,
          "font": {
           "color": "rgba(0,0,0,0.4)"
          },
          "showarrow": false,
          "text": "<b>Obscurity (1)</b>",
          "textangle": -72,
          "x": 0.5,
          "xanchor": "right",
          "y": 0.38,
          "yanchor": "top"
         },
         {
          "borderpad": 0,
          "font": {
           "color": "rgba(0,0,0,0.4)"
          },
          "showarrow": false,
          "text": "<b>Singular (1)</b>",
          "textangle": 72,
          "x": 0.5154508497187473,
          "xanchor": "left",
          "y": 0.3858732180445816,
          "yanchor": "top"
         },
         {
          "borderpad": 0,
          "font": {
           "color": "rgba(0,0,0,0.4)"
          },
          "showarrow": false,
          "text": "<b>Jarring (1)</b>",
          "textangle": 36,
          "x": 0.5418464867169868,
          "xanchor": "left",
          "y": 0.4673678053940055,
          "yanchor": "top"
         },
         {
          "align": "left",
          "showarrow": false,
          "text": "<b>Ratings (1/10):</b> <br>Atomicity/Redundancy:  <br>Inefficiency/Efficiency:  <br>Custom/Standard:  <br>Ad Hoc/Contingency:  <br>Top Down/Bottom Up:  <br>Manual/Automatic:  <br>Wasteful/Resourceful:  <br>Obscurity/Clarity:  <br>Singular/Multimodal:  <br>Jarring/Seamless:  <br>",
          "x": -0.1,
          "y": 1
         },
         {
          "align": "left",
          "showarrow": false,
          "text": "<br>5<br>5<br>6<br>7<br>3<br>5<br>5<br>5<br>5<br>6<br>",
          "x": 0.07,
          "y": 0.95507
         }
        ],
        "polar": {
         "angularaxis": {
          "visible": true
         },
         "radialaxis": {
          "range": [
           0,
           10
          ],
          "tickangle": 0,
          "visible": true
         }
        },
        "showlegend": false,
        "title": "By the Book"
       }
      },
      "text/html": [
       "<div id=\"352e4b62-f548-4d37-a9e1-3012d5e5b97d\" style=\"height: 525px; width: 100%;\" class=\"plotly-graph-div\"></div><script type=\"text/javascript\">require([\"plotly\"], function(Plotly) { window.PLOTLYENV=window.PLOTLYENV || {};window.PLOTLYENV.BASE_URL=\"https://plot.ly\";Plotly.newPlot(\"352e4b62-f548-4d37-a9e1-3012d5e5b97d\", [{\"type\": \"scatterpolar\", \"r\": [5, 5, 6, 7, 3, 5, 5, 5, 5, 6], \"theta\": [\"Redundancy (10)\", \"Efficiency (10)\", \"Standard (10)\", \"Contingency (10)\", \"Bottom Up (10)\", \"Automatic (10)\", \"Resourceful (10)\", \"Clarity (10)\", \"Multimodal (10)\", \"Seamless (10)\", null], \"fill\": \"toself\", \"hoverinfo\": \"r\", \"marker\": {\"color\": \"#8090c7\", \"symbol\": \"square\", \"size\": 8}}], {\"polar\": {\"radialaxis\": {\"visible\": true, \"range\": [0, 10], \"tickangle\": 0}, \"angularaxis\": {\"visible\": true}}, \"showlegend\": false, \"annotations\": [{\"text\": \"<b>Atomicity (1)</b>\", \"x\": 0.55, \"y\": 0.5, \"xanchor\": \"left\", \"yanchor\": \"bottom\", \"borderpad\": 0, \"showarrow\": false, \"textangle\": 360.0, \"font\": {\"color\": \"rgba(0,0,0,0.4)\"}}, {\"text\": \"<b>Inefficiency (1)</b>\", \"x\": 0.5355967477524977, \"y\": 0.5620701226420852, \"xanchor\": \"left\", \"yanchor\": \"bottom\", \"borderpad\": 0, \"showarrow\": false, \"textangle\": 324.0, \"font\": {\"color\": \"rgba(0,0,0,0.4)\"}}, {\"text\": \"<b>Custom (1)</b>\", \"x\": 0.5, \"y\": 0.62, \"xanchor\": \"left\", \"yanchor\": \"bottom\", \"borderpad\": 0, \"showarrow\": false, \"textangle\": 288.0, \"font\": {\"color\": \"rgba(0,0,0,0.4)\"}}, {\"text\": \"<b>Ad Hoc (1)</b>\", \"x\": 0.4845491502812526, \"y\": 0.6141267819554185, \"xanchor\": \"right\", \"yanchor\": \"bottom\", \"borderpad\": 0, \"showarrow\": false, \"textangle\": 72.0, \"font\": {\"color\": \"rgba(0,0,0,0.4)\"}}, {\"text\": \"<b>Top down (1)</b>\", \"x\": 0.45815351328301324, \"y\": 0.5326321946059944, \"xanchor\": \"right\", \"yanchor\": \"bottom\", \"borderpad\": 0, \"showarrow\": false, \"textangle\": 36.0, \"font\": {\"color\": \"rgba(0,0,0,0.4)\"}}, {\"text\": \"<b>Manual (1)</b>\", \"x\": 0.45, \"y\": 0.5, \"xanchor\": \"right\", \"yanchor\": \"top\", \"borderpad\": 0, \"showarrow\": false, \"textangle\": 0.0, \"font\": {\"color\": \"rgba(0,0,0,0.4)\"}}, {\"text\": \"<b>Wasteful (1)</b>\", \"x\": 0.4644032522475023, \"y\": 0.43792987735791483, \"xanchor\": \"right\", \"yanchor\": \"top\", \"borderpad\": 0, \"showarrow\": false, \"textangle\": -36.0, \"font\": {\"color\": \"rgba(0,0,0,0.4)\"}}, {\"text\": \"<b>Obscurity (1)</b>\", \"x\": 0.5, \"y\": 0.38, \"xanchor\": \"right\", \"yanchor\": \"top\", \"borderpad\": 0, \"showarrow\": false, \"textangle\": -72.0, \"font\": {\"color\": \"rgba(0,0,0,0.4)\"}}, {\"text\": \"<b>Singular (1)</b>\", \"x\": 0.5154508497187473, \"y\": 0.3858732180445816, \"xanchor\": \"left\", \"yanchor\": \"top\", \"borderpad\": 0, \"showarrow\": false, \"textangle\": 72.0, \"font\": {\"color\": \"rgba(0,0,0,0.4)\"}}, {\"text\": \"<b>Jarring (1)</b>\", \"x\": 0.5418464867169868, \"y\": 0.4673678053940055, \"xanchor\": \"left\", \"yanchor\": \"top\", \"borderpad\": 0, \"showarrow\": false, \"textangle\": 36.0, \"font\": {\"color\": \"rgba(0,0,0,0.4)\"}}, {\"text\": \"<b>Ratings (1/10):</b> <br>Atomicity/Redundancy:  <br>Inefficiency/Efficiency:  <br>Custom/Standard:  <br>Ad Hoc/Contingency:  <br>Top Down/Bottom Up:  <br>Manual/Automatic:  <br>Wasteful/Resourceful:  <br>Obscurity/Clarity:  <br>Singular/Multimodal:  <br>Jarring/Seamless:  <br>\", \"x\": -0.1, \"y\": 1, \"showarrow\": false, \"align\": \"left\"}, {\"text\": \"<br>5<br>5<br>6<br>7<br>3<br>5<br>5<br>5<br>5<br>6<br>\", \"x\": 0.07, \"y\": 0.95507, \"showarrow\": false, \"align\": \"left\"}], \"title\": \"By the Book\"}, {\"showLink\": true, \"linkText\": \"Export to plot.ly\"})});</script>"
      ],
      "text/vnd.plotly.v1+html": [
       "<div id=\"352e4b62-f548-4d37-a9e1-3012d5e5b97d\" style=\"height: 525px; width: 100%;\" class=\"plotly-graph-div\"></div><script type=\"text/javascript\">require([\"plotly\"], function(Plotly) { window.PLOTLYENV=window.PLOTLYENV || {};window.PLOTLYENV.BASE_URL=\"https://plot.ly\";Plotly.newPlot(\"352e4b62-f548-4d37-a9e1-3012d5e5b97d\", [{\"type\": \"scatterpolar\", \"r\": [5, 5, 6, 7, 3, 5, 5, 5, 5, 6], \"theta\": [\"Redundancy (10)\", \"Efficiency (10)\", \"Standard (10)\", \"Contingency (10)\", \"Bottom Up (10)\", \"Automatic (10)\", \"Resourceful (10)\", \"Clarity (10)\", \"Multimodal (10)\", \"Seamless (10)\", null], \"fill\": \"toself\", \"hoverinfo\": \"r\", \"marker\": {\"color\": \"#8090c7\", \"symbol\": \"square\", \"size\": 8}}], {\"polar\": {\"radialaxis\": {\"visible\": true, \"range\": [0, 10], \"tickangle\": 0}, \"angularaxis\": {\"visible\": true}}, \"showlegend\": false, \"annotations\": [{\"text\": \"<b>Atomicity (1)</b>\", \"x\": 0.55, \"y\": 0.5, \"xanchor\": \"left\", \"yanchor\": \"bottom\", \"borderpad\": 0, \"showarrow\": false, \"textangle\": 360.0, \"font\": {\"color\": \"rgba(0,0,0,0.4)\"}}, {\"text\": \"<b>Inefficiency (1)</b>\", \"x\": 0.5355967477524977, \"y\": 0.5620701226420852, \"xanchor\": \"left\", \"yanchor\": \"bottom\", \"borderpad\": 0, \"showarrow\": false, \"textangle\": 324.0, \"font\": {\"color\": \"rgba(0,0,0,0.4)\"}}, {\"text\": \"<b>Custom (1)</b>\", \"x\": 0.5, \"y\": 0.62, \"xanchor\": \"left\", \"yanchor\": \"bottom\", \"borderpad\": 0, \"showarrow\": false, \"textangle\": 288.0, \"font\": {\"color\": \"rgba(0,0,0,0.4)\"}}, {\"text\": \"<b>Ad Hoc (1)</b>\", \"x\": 0.4845491502812526, \"y\": 0.6141267819554185, \"xanchor\": \"right\", \"yanchor\": \"bottom\", \"borderpad\": 0, \"showarrow\": false, \"textangle\": 72.0, \"font\": {\"color\": \"rgba(0,0,0,0.4)\"}}, {\"text\": \"<b>Top down (1)</b>\", \"x\": 0.45815351328301324, \"y\": 0.5326321946059944, \"xanchor\": \"right\", \"yanchor\": \"bottom\", \"borderpad\": 0, \"showarrow\": false, \"textangle\": 36.0, \"font\": {\"color\": \"rgba(0,0,0,0.4)\"}}, {\"text\": \"<b>Manual (1)</b>\", \"x\": 0.45, \"y\": 0.5, \"xanchor\": \"right\", \"yanchor\": \"top\", \"borderpad\": 0, \"showarrow\": false, \"textangle\": 0.0, \"font\": {\"color\": \"rgba(0,0,0,0.4)\"}}, {\"text\": \"<b>Wasteful (1)</b>\", \"x\": 0.4644032522475023, \"y\": 0.43792987735791483, \"xanchor\": \"right\", \"yanchor\": \"top\", \"borderpad\": 0, \"showarrow\": false, \"textangle\": -36.0, \"font\": {\"color\": \"rgba(0,0,0,0.4)\"}}, {\"text\": \"<b>Obscurity (1)</b>\", \"x\": 0.5, \"y\": 0.38, \"xanchor\": \"right\", \"yanchor\": \"top\", \"borderpad\": 0, \"showarrow\": false, \"textangle\": -72.0, \"font\": {\"color\": \"rgba(0,0,0,0.4)\"}}, {\"text\": \"<b>Singular (1)</b>\", \"x\": 0.5154508497187473, \"y\": 0.3858732180445816, \"xanchor\": \"left\", \"yanchor\": \"top\", \"borderpad\": 0, \"showarrow\": false, \"textangle\": 72.0, \"font\": {\"color\": \"rgba(0,0,0,0.4)\"}}, {\"text\": \"<b>Jarring (1)</b>\", \"x\": 0.5418464867169868, \"y\": 0.4673678053940055, \"xanchor\": \"left\", \"yanchor\": \"top\", \"borderpad\": 0, \"showarrow\": false, \"textangle\": 36.0, \"font\": {\"color\": \"rgba(0,0,0,0.4)\"}}, {\"text\": \"<b>Ratings (1/10):</b> <br>Atomicity/Redundancy:  <br>Inefficiency/Efficiency:  <br>Custom/Standard:  <br>Ad Hoc/Contingency:  <br>Top Down/Bottom Up:  <br>Manual/Automatic:  <br>Wasteful/Resourceful:  <br>Obscurity/Clarity:  <br>Singular/Multimodal:  <br>Jarring/Seamless:  <br>\", \"x\": -0.1, \"y\": 1, \"showarrow\": false, \"align\": \"left\"}, {\"text\": \"<br>5<br>5<br>6<br>7<br>3<br>5<br>5<br>5<br>5<br>6<br>\", \"x\": 0.07, \"y\": 0.95507, \"showarrow\": false, \"align\": \"left\"}], \"title\": \"By the Book\"}, {\"showLink\": true, \"linkText\": \"Export to plot.ly\"})});</script>"
      ]
     },
     "metadata": {},
     "output_type": "display_data"
    },
    {
     "data": {
      "application/vnd.plotly.v1+json": {
       "data": [
        {
         "fill": "toself",
         "hoverinfo": "r",
         "marker": {
          "color": "#8090c7",
          "size": 8,
          "symbol": "square"
         },
         "r": [
          10,
          10,
          2,
          2,
          8,
          2,
          1,
          10,
          10,
          10
         ],
         "theta": [
          "Redundancy (10)",
          "Efficiency (10)",
          "Standard (10)",
          "Contingency (10)",
          "Bottom Up (10)",
          "Automatic (10)",
          "Resourceful (10)",
          "Clarity (10)",
          "Multimodal (10)",
          "Seamless (10)",
          null
         ],
         "type": "scatterpolar"
        }
       ],
       "layout": {
        "annotations": [
         {
          "borderpad": 0,
          "font": {
           "color": "rgba(0,0,0,0.4)"
          },
          "showarrow": false,
          "text": "<b>Atomicity (1)</b>",
          "textangle": 360,
          "x": 0.55,
          "xanchor": "left",
          "y": 0.5,
          "yanchor": "bottom"
         },
         {
          "borderpad": 0,
          "font": {
           "color": "rgba(0,0,0,0.4)"
          },
          "showarrow": false,
          "text": "<b>Inefficiency (1)</b>",
          "textangle": 324,
          "x": 0.5355967477524977,
          "xanchor": "left",
          "y": 0.5620701226420852,
          "yanchor": "bottom"
         },
         {
          "borderpad": 0,
          "font": {
           "color": "rgba(0,0,0,0.4)"
          },
          "showarrow": false,
          "text": "<b>Custom (1)</b>",
          "textangle": 288,
          "x": 0.5,
          "xanchor": "left",
          "y": 0.62,
          "yanchor": "bottom"
         },
         {
          "borderpad": 0,
          "font": {
           "color": "rgba(0,0,0,0.4)"
          },
          "showarrow": false,
          "text": "<b>Ad Hoc (1)</b>",
          "textangle": 72,
          "x": 0.4845491502812526,
          "xanchor": "right",
          "y": 0.6141267819554185,
          "yanchor": "bottom"
         },
         {
          "borderpad": 0,
          "font": {
           "color": "rgba(0,0,0,0.4)"
          },
          "showarrow": false,
          "text": "<b>Top down (1)</b>",
          "textangle": 36,
          "x": 0.45815351328301324,
          "xanchor": "right",
          "y": 0.5326321946059944,
          "yanchor": "bottom"
         },
         {
          "borderpad": 0,
          "font": {
           "color": "rgba(0,0,0,0.4)"
          },
          "showarrow": false,
          "text": "<b>Manual (1)</b>",
          "textangle": 0,
          "x": 0.45,
          "xanchor": "right",
          "y": 0.5,
          "yanchor": "top"
         },
         {
          "borderpad": 0,
          "font": {
           "color": "rgba(0,0,0,0.4)"
          },
          "showarrow": false,
          "text": "<b>Wasteful (1)</b>",
          "textangle": -36,
          "x": 0.4644032522475023,
          "xanchor": "right",
          "y": 0.43792987735791483,
          "yanchor": "top"
         },
         {
          "borderpad": 0,
          "font": {
           "color": "rgba(0,0,0,0.4)"
          },
          "showarrow": false,
          "text": "<b>Obscurity (1)</b>",
          "textangle": -72,
          "x": 0.5,
          "xanchor": "right",
          "y": 0.38,
          "yanchor": "top"
         },
         {
          "borderpad": 0,
          "font": {
           "color": "rgba(0,0,0,0.4)"
          },
          "showarrow": false,
          "text": "<b>Singular (1)</b>",
          "textangle": 72,
          "x": 0.5154508497187473,
          "xanchor": "left",
          "y": 0.3858732180445816,
          "yanchor": "top"
         },
         {
          "borderpad": 0,
          "font": {
           "color": "rgba(0,0,0,0.4)"
          },
          "showarrow": false,
          "text": "<b>Jarring (1)</b>",
          "textangle": 36,
          "x": 0.5418464867169868,
          "xanchor": "left",
          "y": 0.4673678053940055,
          "yanchor": "top"
         },
         {
          "align": "left",
          "showarrow": false,
          "text": "Notes: Redundancy reflects the number of people <br>from various areas available. ",
          "x": -0.1,
          "y": 0.3
         },
         {
          "align": "left",
          "showarrow": false,
          "text": "<b>Ratings (1/10):</b> <br>Atomicity/Redundancy:  <br>Inefficiency/Efficiency:  <br>Custom/Standard:  <br>Ad Hoc/Contingency:  <br>Top Down/Bottom Up:  <br>Manual/Automatic:  <br>Wasteful/Resourceful:  <br>Obscurity/Clarity:  <br>Singular/Multimodal:  <br>Jarring/Seamless:  <br>",
          "x": -0.1,
          "y": 1
         },
         {
          "align": "left",
          "showarrow": false,
          "text": "<br>10<br>10<br>2<br>2<br>8<br>2<br>1<br>10<br>10<br>10<br>",
          "x": 0.07,
          "y": 0.95507
         }
        ],
        "polar": {
         "angularaxis": {
          "visible": true
         },
         "radialaxis": {
          "range": [
           0,
           10
          ],
          "tickangle": 0,
          "visible": true
         }
        },
        "showlegend": false,
        "title": "Firing Room"
       }
      },
      "text/html": [
       "<div id=\"0831b9ea-cfb5-4a4e-a038-0b4fedc864eb\" style=\"height: 525px; width: 100%;\" class=\"plotly-graph-div\"></div><script type=\"text/javascript\">require([\"plotly\"], function(Plotly) { window.PLOTLYENV=window.PLOTLYENV || {};window.PLOTLYENV.BASE_URL=\"https://plot.ly\";Plotly.newPlot(\"0831b9ea-cfb5-4a4e-a038-0b4fedc864eb\", [{\"type\": \"scatterpolar\", \"r\": [10, 10, 2, 2, 8, 2, 1, 10, 10, 10], \"theta\": [\"Redundancy (10)\", \"Efficiency (10)\", \"Standard (10)\", \"Contingency (10)\", \"Bottom Up (10)\", \"Automatic (10)\", \"Resourceful (10)\", \"Clarity (10)\", \"Multimodal (10)\", \"Seamless (10)\", null], \"fill\": \"toself\", \"hoverinfo\": \"r\", \"marker\": {\"color\": \"#8090c7\", \"symbol\": \"square\", \"size\": 8}}], {\"polar\": {\"radialaxis\": {\"visible\": true, \"range\": [0, 10], \"tickangle\": 0}, \"angularaxis\": {\"visible\": true}}, \"showlegend\": false, \"annotations\": [{\"text\": \"<b>Atomicity (1)</b>\", \"x\": 0.55, \"y\": 0.5, \"xanchor\": \"left\", \"yanchor\": \"bottom\", \"borderpad\": 0, \"showarrow\": false, \"textangle\": 360.0, \"font\": {\"color\": \"rgba(0,0,0,0.4)\"}}, {\"text\": \"<b>Inefficiency (1)</b>\", \"x\": 0.5355967477524977, \"y\": 0.5620701226420852, \"xanchor\": \"left\", \"yanchor\": \"bottom\", \"borderpad\": 0, \"showarrow\": false, \"textangle\": 324.0, \"font\": {\"color\": \"rgba(0,0,0,0.4)\"}}, {\"text\": \"<b>Custom (1)</b>\", \"x\": 0.5, \"y\": 0.62, \"xanchor\": \"left\", \"yanchor\": \"bottom\", \"borderpad\": 0, \"showarrow\": false, \"textangle\": 288.0, \"font\": {\"color\": \"rgba(0,0,0,0.4)\"}}, {\"text\": \"<b>Ad Hoc (1)</b>\", \"x\": 0.4845491502812526, \"y\": 0.6141267819554185, \"xanchor\": \"right\", \"yanchor\": \"bottom\", \"borderpad\": 0, \"showarrow\": false, \"textangle\": 72.0, \"font\": {\"color\": \"rgba(0,0,0,0.4)\"}}, {\"text\": \"<b>Top down (1)</b>\", \"x\": 0.45815351328301324, \"y\": 0.5326321946059944, \"xanchor\": \"right\", \"yanchor\": \"bottom\", \"borderpad\": 0, \"showarrow\": false, \"textangle\": 36.0, \"font\": {\"color\": \"rgba(0,0,0,0.4)\"}}, {\"text\": \"<b>Manual (1)</b>\", \"x\": 0.45, \"y\": 0.5, \"xanchor\": \"right\", \"yanchor\": \"top\", \"borderpad\": 0, \"showarrow\": false, \"textangle\": 0.0, \"font\": {\"color\": \"rgba(0,0,0,0.4)\"}}, {\"text\": \"<b>Wasteful (1)</b>\", \"x\": 0.4644032522475023, \"y\": 0.43792987735791483, \"xanchor\": \"right\", \"yanchor\": \"top\", \"borderpad\": 0, \"showarrow\": false, \"textangle\": -36.0, \"font\": {\"color\": \"rgba(0,0,0,0.4)\"}}, {\"text\": \"<b>Obscurity (1)</b>\", \"x\": 0.5, \"y\": 0.38, \"xanchor\": \"right\", \"yanchor\": \"top\", \"borderpad\": 0, \"showarrow\": false, \"textangle\": -72.0, \"font\": {\"color\": \"rgba(0,0,0,0.4)\"}}, {\"text\": \"<b>Singular (1)</b>\", \"x\": 0.5154508497187473, \"y\": 0.3858732180445816, \"xanchor\": \"left\", \"yanchor\": \"top\", \"borderpad\": 0, \"showarrow\": false, \"textangle\": 72.0, \"font\": {\"color\": \"rgba(0,0,0,0.4)\"}}, {\"text\": \"<b>Jarring (1)</b>\", \"x\": 0.5418464867169868, \"y\": 0.4673678053940055, \"xanchor\": \"left\", \"yanchor\": \"top\", \"borderpad\": 0, \"showarrow\": false, \"textangle\": 36.0, \"font\": {\"color\": \"rgba(0,0,0,0.4)\"}}, {\"text\": \"Notes: Redundancy reflects the number of people <br>from various areas available. \", \"x\": -0.1, \"y\": 0.3, \"showarrow\": false, \"align\": \"left\"}, {\"text\": \"<b>Ratings (1/10):</b> <br>Atomicity/Redundancy:  <br>Inefficiency/Efficiency:  <br>Custom/Standard:  <br>Ad Hoc/Contingency:  <br>Top Down/Bottom Up:  <br>Manual/Automatic:  <br>Wasteful/Resourceful:  <br>Obscurity/Clarity:  <br>Singular/Multimodal:  <br>Jarring/Seamless:  <br>\", \"x\": -0.1, \"y\": 1, \"showarrow\": false, \"align\": \"left\"}, {\"text\": \"<br>10<br>10<br>2<br>2<br>8<br>2<br>1<br>10<br>10<br>10<br>\", \"x\": 0.07, \"y\": 0.95507, \"showarrow\": false, \"align\": \"left\"}], \"title\": \"Firing Room\"}, {\"showLink\": true, \"linkText\": \"Export to plot.ly\"})});</script>"
      ],
      "text/vnd.plotly.v1+html": [
       "<div id=\"0831b9ea-cfb5-4a4e-a038-0b4fedc864eb\" style=\"height: 525px; width: 100%;\" class=\"plotly-graph-div\"></div><script type=\"text/javascript\">require([\"plotly\"], function(Plotly) { window.PLOTLYENV=window.PLOTLYENV || {};window.PLOTLYENV.BASE_URL=\"https://plot.ly\";Plotly.newPlot(\"0831b9ea-cfb5-4a4e-a038-0b4fedc864eb\", [{\"type\": \"scatterpolar\", \"r\": [10, 10, 2, 2, 8, 2, 1, 10, 10, 10], \"theta\": [\"Redundancy (10)\", \"Efficiency (10)\", \"Standard (10)\", \"Contingency (10)\", \"Bottom Up (10)\", \"Automatic (10)\", \"Resourceful (10)\", \"Clarity (10)\", \"Multimodal (10)\", \"Seamless (10)\", null], \"fill\": \"toself\", \"hoverinfo\": \"r\", \"marker\": {\"color\": \"#8090c7\", \"symbol\": \"square\", \"size\": 8}}], {\"polar\": {\"radialaxis\": {\"visible\": true, \"range\": [0, 10], \"tickangle\": 0}, \"angularaxis\": {\"visible\": true}}, \"showlegend\": false, \"annotations\": [{\"text\": \"<b>Atomicity (1)</b>\", \"x\": 0.55, \"y\": 0.5, \"xanchor\": \"left\", \"yanchor\": \"bottom\", \"borderpad\": 0, \"showarrow\": false, \"textangle\": 360.0, \"font\": {\"color\": \"rgba(0,0,0,0.4)\"}}, {\"text\": \"<b>Inefficiency (1)</b>\", \"x\": 0.5355967477524977, \"y\": 0.5620701226420852, \"xanchor\": \"left\", \"yanchor\": \"bottom\", \"borderpad\": 0, \"showarrow\": false, \"textangle\": 324.0, \"font\": {\"color\": \"rgba(0,0,0,0.4)\"}}, {\"text\": \"<b>Custom (1)</b>\", \"x\": 0.5, \"y\": 0.62, \"xanchor\": \"left\", \"yanchor\": \"bottom\", \"borderpad\": 0, \"showarrow\": false, \"textangle\": 288.0, \"font\": {\"color\": \"rgba(0,0,0,0.4)\"}}, {\"text\": \"<b>Ad Hoc (1)</b>\", \"x\": 0.4845491502812526, \"y\": 0.6141267819554185, \"xanchor\": \"right\", \"yanchor\": \"bottom\", \"borderpad\": 0, \"showarrow\": false, \"textangle\": 72.0, \"font\": {\"color\": \"rgba(0,0,0,0.4)\"}}, {\"text\": \"<b>Top down (1)</b>\", \"x\": 0.45815351328301324, \"y\": 0.5326321946059944, \"xanchor\": \"right\", \"yanchor\": \"bottom\", \"borderpad\": 0, \"showarrow\": false, \"textangle\": 36.0, \"font\": {\"color\": \"rgba(0,0,0,0.4)\"}}, {\"text\": \"<b>Manual (1)</b>\", \"x\": 0.45, \"y\": 0.5, \"xanchor\": \"right\", \"yanchor\": \"top\", \"borderpad\": 0, \"showarrow\": false, \"textangle\": 0.0, \"font\": {\"color\": \"rgba(0,0,0,0.4)\"}}, {\"text\": \"<b>Wasteful (1)</b>\", \"x\": 0.4644032522475023, \"y\": 0.43792987735791483, \"xanchor\": \"right\", \"yanchor\": \"top\", \"borderpad\": 0, \"showarrow\": false, \"textangle\": -36.0, \"font\": {\"color\": \"rgba(0,0,0,0.4)\"}}, {\"text\": \"<b>Obscurity (1)</b>\", \"x\": 0.5, \"y\": 0.38, \"xanchor\": \"right\", \"yanchor\": \"top\", \"borderpad\": 0, \"showarrow\": false, \"textangle\": -72.0, \"font\": {\"color\": \"rgba(0,0,0,0.4)\"}}, {\"text\": \"<b>Singular (1)</b>\", \"x\": 0.5154508497187473, \"y\": 0.3858732180445816, \"xanchor\": \"left\", \"yanchor\": \"top\", \"borderpad\": 0, \"showarrow\": false, \"textangle\": 72.0, \"font\": {\"color\": \"rgba(0,0,0,0.4)\"}}, {\"text\": \"<b>Jarring (1)</b>\", \"x\": 0.5418464867169868, \"y\": 0.4673678053940055, \"xanchor\": \"left\", \"yanchor\": \"top\", \"borderpad\": 0, \"showarrow\": false, \"textangle\": 36.0, \"font\": {\"color\": \"rgba(0,0,0,0.4)\"}}, {\"text\": \"Notes: Redundancy reflects the number of people <br>from various areas available. \", \"x\": -0.1, \"y\": 0.3, \"showarrow\": false, \"align\": \"left\"}, {\"text\": \"<b>Ratings (1/10):</b> <br>Atomicity/Redundancy:  <br>Inefficiency/Efficiency:  <br>Custom/Standard:  <br>Ad Hoc/Contingency:  <br>Top Down/Bottom Up:  <br>Manual/Automatic:  <br>Wasteful/Resourceful:  <br>Obscurity/Clarity:  <br>Singular/Multimodal:  <br>Jarring/Seamless:  <br>\", \"x\": -0.1, \"y\": 1, \"showarrow\": false, \"align\": \"left\"}, {\"text\": \"<br>10<br>10<br>2<br>2<br>8<br>2<br>1<br>10<br>10<br>10<br>\", \"x\": 0.07, \"y\": 0.95507, \"showarrow\": false, \"align\": \"left\"}], \"title\": \"Firing Room\"}, {\"showLink\": true, \"linkText\": \"Export to plot.ly\"})});</script>"
      ]
     },
     "metadata": {},
     "output_type": "display_data"
    },
    {
     "data": {
      "application/vnd.plotly.v1+json": {
       "data": [
        {
         "fill": "toself",
         "hoverinfo": "r",
         "marker": {
          "color": "#8090c7",
          "size": 8,
          "symbol": "square"
         },
         "r": [
          2,
          7,
          5,
          3,
          5,
          3,
          5,
          3,
          7,
          6
         ],
         "theta": [
          "Redundancy (10)",
          "Efficiency (10)",
          "Standard (10)",
          "Contingency (10)",
          "Bottom Up (10)",
          "Automatic (10)",
          "Resourceful (10)",
          "Clarity (10)",
          "Multimodal (10)",
          "Seamless (10)",
          null
         ],
         "type": "scatterpolar"
        }
       ],
       "layout": {
        "annotations": [
         {
          "borderpad": 0,
          "font": {
           "color": "rgba(0,0,0,0.4)"
          },
          "showarrow": false,
          "text": "<b>Atomicity (1)</b>",
          "textangle": 360,
          "x": 0.55,
          "xanchor": "left",
          "y": 0.5,
          "yanchor": "bottom"
         },
         {
          "borderpad": 0,
          "font": {
           "color": "rgba(0,0,0,0.4)"
          },
          "showarrow": false,
          "text": "<b>Inefficiency (1)</b>",
          "textangle": 324,
          "x": 0.5355967477524977,
          "xanchor": "left",
          "y": 0.5620701226420852,
          "yanchor": "bottom"
         },
         {
          "borderpad": 0,
          "font": {
           "color": "rgba(0,0,0,0.4)"
          },
          "showarrow": false,
          "text": "<b>Custom (1)</b>",
          "textangle": 288,
          "x": 0.5,
          "xanchor": "left",
          "y": 0.62,
          "yanchor": "bottom"
         },
         {
          "borderpad": 0,
          "font": {
           "color": "rgba(0,0,0,0.4)"
          },
          "showarrow": false,
          "text": "<b>Ad Hoc (1)</b>",
          "textangle": 72,
          "x": 0.4845491502812526,
          "xanchor": "right",
          "y": 0.6141267819554185,
          "yanchor": "bottom"
         },
         {
          "borderpad": 0,
          "font": {
           "color": "rgba(0,0,0,0.4)"
          },
          "showarrow": false,
          "text": "<b>Top down (1)</b>",
          "textangle": 36,
          "x": 0.45815351328301324,
          "xanchor": "right",
          "y": 0.5326321946059944,
          "yanchor": "bottom"
         },
         {
          "borderpad": 0,
          "font": {
           "color": "rgba(0,0,0,0.4)"
          },
          "showarrow": false,
          "text": "<b>Manual (1)</b>",
          "textangle": 0,
          "x": 0.45,
          "xanchor": "right",
          "y": 0.5,
          "yanchor": "top"
         },
         {
          "borderpad": 0,
          "font": {
           "color": "rgba(0,0,0,0.4)"
          },
          "showarrow": false,
          "text": "<b>Wasteful (1)</b>",
          "textangle": -36,
          "x": 0.4644032522475023,
          "xanchor": "right",
          "y": 0.43792987735791483,
          "yanchor": "top"
         },
         {
          "borderpad": 0,
          "font": {
           "color": "rgba(0,0,0,0.4)"
          },
          "showarrow": false,
          "text": "<b>Obscurity (1)</b>",
          "textangle": -72,
          "x": 0.5,
          "xanchor": "right",
          "y": 0.38,
          "yanchor": "top"
         },
         {
          "borderpad": 0,
          "font": {
           "color": "rgba(0,0,0,0.4)"
          },
          "showarrow": false,
          "text": "<b>Singular (1)</b>",
          "textangle": 72,
          "x": 0.5154508497187473,
          "xanchor": "left",
          "y": 0.3858732180445816,
          "yanchor": "top"
         },
         {
          "borderpad": 0,
          "font": {
           "color": "rgba(0,0,0,0.4)"
          },
          "showarrow": false,
          "text": "<b>Jarring (1)</b>",
          "textangle": 36,
          "x": 0.5418464867169868,
          "xanchor": "left",
          "y": 0.4673678053940055,
          "yanchor": "top"
         },
         {
          "align": "left",
          "showarrow": false,
          "text": "<b>Ratings (1/10):</b> <br>Atomicity/Redundancy:  <br>Inefficiency/Efficiency:  <br>Custom/Standard:  <br>Ad Hoc/Contingency:  <br>Top Down/Bottom Up:  <br>Manual/Automatic:  <br>Wasteful/Resourceful:  <br>Obscurity/Clarity:  <br>Singular/Multimodal:  <br>Jarring/Seamless:  <br>",
          "x": -0.1,
          "y": 1
         },
         {
          "align": "left",
          "showarrow": false,
          "text": "<br>2<br>7<br>5<br>3<br>5<br>3<br>5<br>3<br>7<br>6<br>",
          "x": 0.07,
          "y": 0.95507
         }
        ],
        "polar": {
         "angularaxis": {
          "visible": true
         },
         "radialaxis": {
          "range": [
           0,
           10
          ],
          "tickangle": 0,
          "visible": true
         }
        },
        "showlegend": false,
        "title": "LETF"
       }
      },
      "text/html": [
       "<div id=\"ade64f58-2ab1-40dc-b5b3-f93ac44f21c9\" style=\"height: 525px; width: 100%;\" class=\"plotly-graph-div\"></div><script type=\"text/javascript\">require([\"plotly\"], function(Plotly) { window.PLOTLYENV=window.PLOTLYENV || {};window.PLOTLYENV.BASE_URL=\"https://plot.ly\";Plotly.newPlot(\"ade64f58-2ab1-40dc-b5b3-f93ac44f21c9\", [{\"type\": \"scatterpolar\", \"r\": [2, 7, 5, 3, 5, 3, 5, 3, 7, 6], \"theta\": [\"Redundancy (10)\", \"Efficiency (10)\", \"Standard (10)\", \"Contingency (10)\", \"Bottom Up (10)\", \"Automatic (10)\", \"Resourceful (10)\", \"Clarity (10)\", \"Multimodal (10)\", \"Seamless (10)\", null], \"fill\": \"toself\", \"hoverinfo\": \"r\", \"marker\": {\"color\": \"#8090c7\", \"symbol\": \"square\", \"size\": 8}}], {\"polar\": {\"radialaxis\": {\"visible\": true, \"range\": [0, 10], \"tickangle\": 0}, \"angularaxis\": {\"visible\": true}}, \"showlegend\": false, \"annotations\": [{\"text\": \"<b>Atomicity (1)</b>\", \"x\": 0.55, \"y\": 0.5, \"xanchor\": \"left\", \"yanchor\": \"bottom\", \"borderpad\": 0, \"showarrow\": false, \"textangle\": 360.0, \"font\": {\"color\": \"rgba(0,0,0,0.4)\"}}, {\"text\": \"<b>Inefficiency (1)</b>\", \"x\": 0.5355967477524977, \"y\": 0.5620701226420852, \"xanchor\": \"left\", \"yanchor\": \"bottom\", \"borderpad\": 0, \"showarrow\": false, \"textangle\": 324.0, \"font\": {\"color\": \"rgba(0,0,0,0.4)\"}}, {\"text\": \"<b>Custom (1)</b>\", \"x\": 0.5, \"y\": 0.62, \"xanchor\": \"left\", \"yanchor\": \"bottom\", \"borderpad\": 0, \"showarrow\": false, \"textangle\": 288.0, \"font\": {\"color\": \"rgba(0,0,0,0.4)\"}}, {\"text\": \"<b>Ad Hoc (1)</b>\", \"x\": 0.4845491502812526, \"y\": 0.6141267819554185, \"xanchor\": \"right\", \"yanchor\": \"bottom\", \"borderpad\": 0, \"showarrow\": false, \"textangle\": 72.0, \"font\": {\"color\": \"rgba(0,0,0,0.4)\"}}, {\"text\": \"<b>Top down (1)</b>\", \"x\": 0.45815351328301324, \"y\": 0.5326321946059944, \"xanchor\": \"right\", \"yanchor\": \"bottom\", \"borderpad\": 0, \"showarrow\": false, \"textangle\": 36.0, \"font\": {\"color\": \"rgba(0,0,0,0.4)\"}}, {\"text\": \"<b>Manual (1)</b>\", \"x\": 0.45, \"y\": 0.5, \"xanchor\": \"right\", \"yanchor\": \"top\", \"borderpad\": 0, \"showarrow\": false, \"textangle\": 0.0, \"font\": {\"color\": \"rgba(0,0,0,0.4)\"}}, {\"text\": \"<b>Wasteful (1)</b>\", \"x\": 0.4644032522475023, \"y\": 0.43792987735791483, \"xanchor\": \"right\", \"yanchor\": \"top\", \"borderpad\": 0, \"showarrow\": false, \"textangle\": -36.0, \"font\": {\"color\": \"rgba(0,0,0,0.4)\"}}, {\"text\": \"<b>Obscurity (1)</b>\", \"x\": 0.5, \"y\": 0.38, \"xanchor\": \"right\", \"yanchor\": \"top\", \"borderpad\": 0, \"showarrow\": false, \"textangle\": -72.0, \"font\": {\"color\": \"rgba(0,0,0,0.4)\"}}, {\"text\": \"<b>Singular (1)</b>\", \"x\": 0.5154508497187473, \"y\": 0.3858732180445816, \"xanchor\": \"left\", \"yanchor\": \"top\", \"borderpad\": 0, \"showarrow\": false, \"textangle\": 72.0, \"font\": {\"color\": \"rgba(0,0,0,0.4)\"}}, {\"text\": \"<b>Jarring (1)</b>\", \"x\": 0.5418464867169868, \"y\": 0.4673678053940055, \"xanchor\": \"left\", \"yanchor\": \"top\", \"borderpad\": 0, \"showarrow\": false, \"textangle\": 36.0, \"font\": {\"color\": \"rgba(0,0,0,0.4)\"}}, {\"text\": \"<b>Ratings (1/10):</b> <br>Atomicity/Redundancy:  <br>Inefficiency/Efficiency:  <br>Custom/Standard:  <br>Ad Hoc/Contingency:  <br>Top Down/Bottom Up:  <br>Manual/Automatic:  <br>Wasteful/Resourceful:  <br>Obscurity/Clarity:  <br>Singular/Multimodal:  <br>Jarring/Seamless:  <br>\", \"x\": -0.1, \"y\": 1, \"showarrow\": false, \"align\": \"left\"}, {\"text\": \"<br>2<br>7<br>5<br>3<br>5<br>3<br>5<br>3<br>7<br>6<br>\", \"x\": 0.07, \"y\": 0.95507, \"showarrow\": false, \"align\": \"left\"}], \"title\": \"LETF\"}, {\"showLink\": true, \"linkText\": \"Export to plot.ly\"})});</script>"
      ],
      "text/vnd.plotly.v1+html": [
       "<div id=\"ade64f58-2ab1-40dc-b5b3-f93ac44f21c9\" style=\"height: 525px; width: 100%;\" class=\"plotly-graph-div\"></div><script type=\"text/javascript\">require([\"plotly\"], function(Plotly) { window.PLOTLYENV=window.PLOTLYENV || {};window.PLOTLYENV.BASE_URL=\"https://plot.ly\";Plotly.newPlot(\"ade64f58-2ab1-40dc-b5b3-f93ac44f21c9\", [{\"type\": \"scatterpolar\", \"r\": [2, 7, 5, 3, 5, 3, 5, 3, 7, 6], \"theta\": [\"Redundancy (10)\", \"Efficiency (10)\", \"Standard (10)\", \"Contingency (10)\", \"Bottom Up (10)\", \"Automatic (10)\", \"Resourceful (10)\", \"Clarity (10)\", \"Multimodal (10)\", \"Seamless (10)\", null], \"fill\": \"toself\", \"hoverinfo\": \"r\", \"marker\": {\"color\": \"#8090c7\", \"symbol\": \"square\", \"size\": 8}}], {\"polar\": {\"radialaxis\": {\"visible\": true, \"range\": [0, 10], \"tickangle\": 0}, \"angularaxis\": {\"visible\": true}}, \"showlegend\": false, \"annotations\": [{\"text\": \"<b>Atomicity (1)</b>\", \"x\": 0.55, \"y\": 0.5, \"xanchor\": \"left\", \"yanchor\": \"bottom\", \"borderpad\": 0, \"showarrow\": false, \"textangle\": 360.0, \"font\": {\"color\": \"rgba(0,0,0,0.4)\"}}, {\"text\": \"<b>Inefficiency (1)</b>\", \"x\": 0.5355967477524977, \"y\": 0.5620701226420852, \"xanchor\": \"left\", \"yanchor\": \"bottom\", \"borderpad\": 0, \"showarrow\": false, \"textangle\": 324.0, \"font\": {\"color\": \"rgba(0,0,0,0.4)\"}}, {\"text\": \"<b>Custom (1)</b>\", \"x\": 0.5, \"y\": 0.62, \"xanchor\": \"left\", \"yanchor\": \"bottom\", \"borderpad\": 0, \"showarrow\": false, \"textangle\": 288.0, \"font\": {\"color\": \"rgba(0,0,0,0.4)\"}}, {\"text\": \"<b>Ad Hoc (1)</b>\", \"x\": 0.4845491502812526, \"y\": 0.6141267819554185, \"xanchor\": \"right\", \"yanchor\": \"bottom\", \"borderpad\": 0, \"showarrow\": false, \"textangle\": 72.0, \"font\": {\"color\": \"rgba(0,0,0,0.4)\"}}, {\"text\": \"<b>Top down (1)</b>\", \"x\": 0.45815351328301324, \"y\": 0.5326321946059944, \"xanchor\": \"right\", \"yanchor\": \"bottom\", \"borderpad\": 0, \"showarrow\": false, \"textangle\": 36.0, \"font\": {\"color\": \"rgba(0,0,0,0.4)\"}}, {\"text\": \"<b>Manual (1)</b>\", \"x\": 0.45, \"y\": 0.5, \"xanchor\": \"right\", \"yanchor\": \"top\", \"borderpad\": 0, \"showarrow\": false, \"textangle\": 0.0, \"font\": {\"color\": \"rgba(0,0,0,0.4)\"}}, {\"text\": \"<b>Wasteful (1)</b>\", \"x\": 0.4644032522475023, \"y\": 0.43792987735791483, \"xanchor\": \"right\", \"yanchor\": \"top\", \"borderpad\": 0, \"showarrow\": false, \"textangle\": -36.0, \"font\": {\"color\": \"rgba(0,0,0,0.4)\"}}, {\"text\": \"<b>Obscurity (1)</b>\", \"x\": 0.5, \"y\": 0.38, \"xanchor\": \"right\", \"yanchor\": \"top\", \"borderpad\": 0, \"showarrow\": false, \"textangle\": -72.0, \"font\": {\"color\": \"rgba(0,0,0,0.4)\"}}, {\"text\": \"<b>Singular (1)</b>\", \"x\": 0.5154508497187473, \"y\": 0.3858732180445816, \"xanchor\": \"left\", \"yanchor\": \"top\", \"borderpad\": 0, \"showarrow\": false, \"textangle\": 72.0, \"font\": {\"color\": \"rgba(0,0,0,0.4)\"}}, {\"text\": \"<b>Jarring (1)</b>\", \"x\": 0.5418464867169868, \"y\": 0.4673678053940055, \"xanchor\": \"left\", \"yanchor\": \"top\", \"borderpad\": 0, \"showarrow\": false, \"textangle\": 36.0, \"font\": {\"color\": \"rgba(0,0,0,0.4)\"}}, {\"text\": \"<b>Ratings (1/10):</b> <br>Atomicity/Redundancy:  <br>Inefficiency/Efficiency:  <br>Custom/Standard:  <br>Ad Hoc/Contingency:  <br>Top Down/Bottom Up:  <br>Manual/Automatic:  <br>Wasteful/Resourceful:  <br>Obscurity/Clarity:  <br>Singular/Multimodal:  <br>Jarring/Seamless:  <br>\", \"x\": -0.1, \"y\": 1, \"showarrow\": false, \"align\": \"left\"}, {\"text\": \"<br>2<br>7<br>5<br>3<br>5<br>3<br>5<br>3<br>7<br>6<br>\", \"x\": 0.07, \"y\": 0.95507, \"showarrow\": false, \"align\": \"left\"}], \"title\": \"LETF\"}, {\"showLink\": true, \"linkText\": \"Export to plot.ly\"})});</script>"
      ]
     },
     "metadata": {},
     "output_type": "display_data"
    },
    {
     "data": {
      "application/vnd.plotly.v1+json": {
       "data": [
        {
         "fill": "toself",
         "hoverinfo": "r",
         "marker": {
          "color": "#8090c7",
          "size": 8,
          "symbol": "square"
         },
         "r": [
          2,
          2,
          4,
          5,
          2,
          3,
          2,
          2,
          5,
          3
         ],
         "theta": [
          "Redundancy (10)",
          "Efficiency (10)",
          "Standard (10)",
          "Contingency (10)",
          "Bottom Up (10)",
          "Automatic (10)",
          "Resourceful (10)",
          "Clarity (10)",
          "Multimodal (10)",
          "Seamless (10)",
          null
         ],
         "type": "scatterpolar"
        }
       ],
       "layout": {
        "annotations": [
         {
          "borderpad": 0,
          "font": {
           "color": "rgba(0,0,0,0.4)"
          },
          "showarrow": false,
          "text": "<b>Atomicity (1)</b>",
          "textangle": 360,
          "x": 0.55,
          "xanchor": "left",
          "y": 0.5,
          "yanchor": "bottom"
         },
         {
          "borderpad": 0,
          "font": {
           "color": "rgba(0,0,0,0.4)"
          },
          "showarrow": false,
          "text": "<b>Inefficiency (1)</b>",
          "textangle": 324,
          "x": 0.5355967477524977,
          "xanchor": "left",
          "y": 0.5620701226420852,
          "yanchor": "bottom"
         },
         {
          "borderpad": 0,
          "font": {
           "color": "rgba(0,0,0,0.4)"
          },
          "showarrow": false,
          "text": "<b>Custom (1)</b>",
          "textangle": 288,
          "x": 0.5,
          "xanchor": "left",
          "y": 0.62,
          "yanchor": "bottom"
         },
         {
          "borderpad": 0,
          "font": {
           "color": "rgba(0,0,0,0.4)"
          },
          "showarrow": false,
          "text": "<b>Ad Hoc (1)</b>",
          "textangle": 72,
          "x": 0.4845491502812526,
          "xanchor": "right",
          "y": 0.6141267819554185,
          "yanchor": "bottom"
         },
         {
          "borderpad": 0,
          "font": {
           "color": "rgba(0,0,0,0.4)"
          },
          "showarrow": false,
          "text": "<b>Top down (1)</b>",
          "textangle": 36,
          "x": 0.45815351328301324,
          "xanchor": "right",
          "y": 0.5326321946059944,
          "yanchor": "bottom"
         },
         {
          "borderpad": 0,
          "font": {
           "color": "rgba(0,0,0,0.4)"
          },
          "showarrow": false,
          "text": "<b>Manual (1)</b>",
          "textangle": 0,
          "x": 0.45,
          "xanchor": "right",
          "y": 0.5,
          "yanchor": "top"
         },
         {
          "borderpad": 0,
          "font": {
           "color": "rgba(0,0,0,0.4)"
          },
          "showarrow": false,
          "text": "<b>Wasteful (1)</b>",
          "textangle": -36,
          "x": 0.4644032522475023,
          "xanchor": "right",
          "y": 0.43792987735791483,
          "yanchor": "top"
         },
         {
          "borderpad": 0,
          "font": {
           "color": "rgba(0,0,0,0.4)"
          },
          "showarrow": false,
          "text": "<b>Obscurity (1)</b>",
          "textangle": -72,
          "x": 0.5,
          "xanchor": "right",
          "y": 0.38,
          "yanchor": "top"
         },
         {
          "borderpad": 0,
          "font": {
           "color": "rgba(0,0,0,0.4)"
          },
          "showarrow": false,
          "text": "<b>Singular (1)</b>",
          "textangle": 72,
          "x": 0.5154508497187473,
          "xanchor": "left",
          "y": 0.3858732180445816,
          "yanchor": "top"
         },
         {
          "borderpad": 0,
          "font": {
           "color": "rgba(0,0,0,0.4)"
          },
          "showarrow": false,
          "text": "<b>Jarring (1)</b>",
          "textangle": 36,
          "x": 0.5418464867169868,
          "xanchor": "left",
          "y": 0.4673678053940055,
          "yanchor": "top"
         },
         {
          "align": "left",
          "showarrow": false,
          "text": "<b>Ratings (1/10):</b> <br>Atomicity/Redundancy:  <br>Inefficiency/Efficiency:  <br>Custom/Standard:  <br>Ad Hoc/Contingency:  <br>Top Down/Bottom Up:  <br>Manual/Automatic:  <br>Wasteful/Resourceful:  <br>Obscurity/Clarity:  <br>Singular/Multimodal:  <br>Jarring/Seamless:  <br>",
          "x": -0.1,
          "y": 1
         },
         {
          "align": "left",
          "showarrow": false,
          "text": "<br>2<br>2<br>4<br>5<br>2<br>3<br>2<br>2<br>5<br>3<br>",
          "x": 0.07,
          "y": 0.95507
         }
        ],
        "polar": {
         "angularaxis": {
          "visible": true
         },
         "radialaxis": {
          "range": [
           0,
           10
          ],
          "tickangle": 0,
          "visible": true
         }
        },
        "showlegend": false,
        "title": "Crawler"
       }
      },
      "text/html": [
       "<div id=\"0901ec34-9eb2-4bf8-8ac5-50a231f4dc4a\" style=\"height: 525px; width: 100%;\" class=\"plotly-graph-div\"></div><script type=\"text/javascript\">require([\"plotly\"], function(Plotly) { window.PLOTLYENV=window.PLOTLYENV || {};window.PLOTLYENV.BASE_URL=\"https://plot.ly\";Plotly.newPlot(\"0901ec34-9eb2-4bf8-8ac5-50a231f4dc4a\", [{\"type\": \"scatterpolar\", \"r\": [2, 2, 4, 5, 2, 3, 2, 2, 5, 3], \"theta\": [\"Redundancy (10)\", \"Efficiency (10)\", \"Standard (10)\", \"Contingency (10)\", \"Bottom Up (10)\", \"Automatic (10)\", \"Resourceful (10)\", \"Clarity (10)\", \"Multimodal (10)\", \"Seamless (10)\", null], \"fill\": \"toself\", \"hoverinfo\": \"r\", \"marker\": {\"color\": \"#8090c7\", \"symbol\": \"square\", \"size\": 8}}], {\"polar\": {\"radialaxis\": {\"visible\": true, \"range\": [0, 10], \"tickangle\": 0}, \"angularaxis\": {\"visible\": true}}, \"showlegend\": false, \"annotations\": [{\"text\": \"<b>Atomicity (1)</b>\", \"x\": 0.55, \"y\": 0.5, \"xanchor\": \"left\", \"yanchor\": \"bottom\", \"borderpad\": 0, \"showarrow\": false, \"textangle\": 360.0, \"font\": {\"color\": \"rgba(0,0,0,0.4)\"}}, {\"text\": \"<b>Inefficiency (1)</b>\", \"x\": 0.5355967477524977, \"y\": 0.5620701226420852, \"xanchor\": \"left\", \"yanchor\": \"bottom\", \"borderpad\": 0, \"showarrow\": false, \"textangle\": 324.0, \"font\": {\"color\": \"rgba(0,0,0,0.4)\"}}, {\"text\": \"<b>Custom (1)</b>\", \"x\": 0.5, \"y\": 0.62, \"xanchor\": \"left\", \"yanchor\": \"bottom\", \"borderpad\": 0, \"showarrow\": false, \"textangle\": 288.0, \"font\": {\"color\": \"rgba(0,0,0,0.4)\"}}, {\"text\": \"<b>Ad Hoc (1)</b>\", \"x\": 0.4845491502812526, \"y\": 0.6141267819554185, \"xanchor\": \"right\", \"yanchor\": \"bottom\", \"borderpad\": 0, \"showarrow\": false, \"textangle\": 72.0, \"font\": {\"color\": \"rgba(0,0,0,0.4)\"}}, {\"text\": \"<b>Top down (1)</b>\", \"x\": 0.45815351328301324, \"y\": 0.5326321946059944, \"xanchor\": \"right\", \"yanchor\": \"bottom\", \"borderpad\": 0, \"showarrow\": false, \"textangle\": 36.0, \"font\": {\"color\": \"rgba(0,0,0,0.4)\"}}, {\"text\": \"<b>Manual (1)</b>\", \"x\": 0.45, \"y\": 0.5, \"xanchor\": \"right\", \"yanchor\": \"top\", \"borderpad\": 0, \"showarrow\": false, \"textangle\": 0.0, \"font\": {\"color\": \"rgba(0,0,0,0.4)\"}}, {\"text\": \"<b>Wasteful (1)</b>\", \"x\": 0.4644032522475023, \"y\": 0.43792987735791483, \"xanchor\": \"right\", \"yanchor\": \"top\", \"borderpad\": 0, \"showarrow\": false, \"textangle\": -36.0, \"font\": {\"color\": \"rgba(0,0,0,0.4)\"}}, {\"text\": \"<b>Obscurity (1)</b>\", \"x\": 0.5, \"y\": 0.38, \"xanchor\": \"right\", \"yanchor\": \"top\", \"borderpad\": 0, \"showarrow\": false, \"textangle\": -72.0, \"font\": {\"color\": \"rgba(0,0,0,0.4)\"}}, {\"text\": \"<b>Singular (1)</b>\", \"x\": 0.5154508497187473, \"y\": 0.3858732180445816, \"xanchor\": \"left\", \"yanchor\": \"top\", \"borderpad\": 0, \"showarrow\": false, \"textangle\": 72.0, \"font\": {\"color\": \"rgba(0,0,0,0.4)\"}}, {\"text\": \"<b>Jarring (1)</b>\", \"x\": 0.5418464867169868, \"y\": 0.4673678053940055, \"xanchor\": \"left\", \"yanchor\": \"top\", \"borderpad\": 0, \"showarrow\": false, \"textangle\": 36.0, \"font\": {\"color\": \"rgba(0,0,0,0.4)\"}}, {\"text\": \"<b>Ratings (1/10):</b> <br>Atomicity/Redundancy:  <br>Inefficiency/Efficiency:  <br>Custom/Standard:  <br>Ad Hoc/Contingency:  <br>Top Down/Bottom Up:  <br>Manual/Automatic:  <br>Wasteful/Resourceful:  <br>Obscurity/Clarity:  <br>Singular/Multimodal:  <br>Jarring/Seamless:  <br>\", \"x\": -0.1, \"y\": 1, \"showarrow\": false, \"align\": \"left\"}, {\"text\": \"<br>2<br>2<br>4<br>5<br>2<br>3<br>2<br>2<br>5<br>3<br>\", \"x\": 0.07, \"y\": 0.95507, \"showarrow\": false, \"align\": \"left\"}], \"title\": \"Crawler\"}, {\"showLink\": true, \"linkText\": \"Export to plot.ly\"})});</script>"
      ],
      "text/vnd.plotly.v1+html": [
       "<div id=\"0901ec34-9eb2-4bf8-8ac5-50a231f4dc4a\" style=\"height: 525px; width: 100%;\" class=\"plotly-graph-div\"></div><script type=\"text/javascript\">require([\"plotly\"], function(Plotly) { window.PLOTLYENV=window.PLOTLYENV || {};window.PLOTLYENV.BASE_URL=\"https://plot.ly\";Plotly.newPlot(\"0901ec34-9eb2-4bf8-8ac5-50a231f4dc4a\", [{\"type\": \"scatterpolar\", \"r\": [2, 2, 4, 5, 2, 3, 2, 2, 5, 3], \"theta\": [\"Redundancy (10)\", \"Efficiency (10)\", \"Standard (10)\", \"Contingency (10)\", \"Bottom Up (10)\", \"Automatic (10)\", \"Resourceful (10)\", \"Clarity (10)\", \"Multimodal (10)\", \"Seamless (10)\", null], \"fill\": \"toself\", \"hoverinfo\": \"r\", \"marker\": {\"color\": \"#8090c7\", \"symbol\": \"square\", \"size\": 8}}], {\"polar\": {\"radialaxis\": {\"visible\": true, \"range\": [0, 10], \"tickangle\": 0}, \"angularaxis\": {\"visible\": true}}, \"showlegend\": false, \"annotations\": [{\"text\": \"<b>Atomicity (1)</b>\", \"x\": 0.55, \"y\": 0.5, \"xanchor\": \"left\", \"yanchor\": \"bottom\", \"borderpad\": 0, \"showarrow\": false, \"textangle\": 360.0, \"font\": {\"color\": \"rgba(0,0,0,0.4)\"}}, {\"text\": \"<b>Inefficiency (1)</b>\", \"x\": 0.5355967477524977, \"y\": 0.5620701226420852, \"xanchor\": \"left\", \"yanchor\": \"bottom\", \"borderpad\": 0, \"showarrow\": false, \"textangle\": 324.0, \"font\": {\"color\": \"rgba(0,0,0,0.4)\"}}, {\"text\": \"<b>Custom (1)</b>\", \"x\": 0.5, \"y\": 0.62, \"xanchor\": \"left\", \"yanchor\": \"bottom\", \"borderpad\": 0, \"showarrow\": false, \"textangle\": 288.0, \"font\": {\"color\": \"rgba(0,0,0,0.4)\"}}, {\"text\": \"<b>Ad Hoc (1)</b>\", \"x\": 0.4845491502812526, \"y\": 0.6141267819554185, \"xanchor\": \"right\", \"yanchor\": \"bottom\", \"borderpad\": 0, \"showarrow\": false, \"textangle\": 72.0, \"font\": {\"color\": \"rgba(0,0,0,0.4)\"}}, {\"text\": \"<b>Top down (1)</b>\", \"x\": 0.45815351328301324, \"y\": 0.5326321946059944, \"xanchor\": \"right\", \"yanchor\": \"bottom\", \"borderpad\": 0, \"showarrow\": false, \"textangle\": 36.0, \"font\": {\"color\": \"rgba(0,0,0,0.4)\"}}, {\"text\": \"<b>Manual (1)</b>\", \"x\": 0.45, \"y\": 0.5, \"xanchor\": \"right\", \"yanchor\": \"top\", \"borderpad\": 0, \"showarrow\": false, \"textangle\": 0.0, \"font\": {\"color\": \"rgba(0,0,0,0.4)\"}}, {\"text\": \"<b>Wasteful (1)</b>\", \"x\": 0.4644032522475023, \"y\": 0.43792987735791483, \"xanchor\": \"right\", \"yanchor\": \"top\", \"borderpad\": 0, \"showarrow\": false, \"textangle\": -36.0, \"font\": {\"color\": \"rgba(0,0,0,0.4)\"}}, {\"text\": \"<b>Obscurity (1)</b>\", \"x\": 0.5, \"y\": 0.38, \"xanchor\": \"right\", \"yanchor\": \"top\", \"borderpad\": 0, \"showarrow\": false, \"textangle\": -72.0, \"font\": {\"color\": \"rgba(0,0,0,0.4)\"}}, {\"text\": \"<b>Singular (1)</b>\", \"x\": 0.5154508497187473, \"y\": 0.3858732180445816, \"xanchor\": \"left\", \"yanchor\": \"top\", \"borderpad\": 0, \"showarrow\": false, \"textangle\": 72.0, \"font\": {\"color\": \"rgba(0,0,0,0.4)\"}}, {\"text\": \"<b>Jarring (1)</b>\", \"x\": 0.5418464867169868, \"y\": 0.4673678053940055, \"xanchor\": \"left\", \"yanchor\": \"top\", \"borderpad\": 0, \"showarrow\": false, \"textangle\": 36.0, \"font\": {\"color\": \"rgba(0,0,0,0.4)\"}}, {\"text\": \"<b>Ratings (1/10):</b> <br>Atomicity/Redundancy:  <br>Inefficiency/Efficiency:  <br>Custom/Standard:  <br>Ad Hoc/Contingency:  <br>Top Down/Bottom Up:  <br>Manual/Automatic:  <br>Wasteful/Resourceful:  <br>Obscurity/Clarity:  <br>Singular/Multimodal:  <br>Jarring/Seamless:  <br>\", \"x\": -0.1, \"y\": 1, \"showarrow\": false, \"align\": \"left\"}, {\"text\": \"<br>2<br>2<br>4<br>5<br>2<br>3<br>2<br>2<br>5<br>3<br>\", \"x\": 0.07, \"y\": 0.95507, \"showarrow\": false, \"align\": \"left\"}], \"title\": \"Crawler\"}, {\"showLink\": true, \"linkText\": \"Export to plot.ly\"})});</script>"
      ]
     },
     "metadata": {},
     "output_type": "display_data"
    },
    {
     "data": {
      "application/vnd.plotly.v1+json": {
       "data": [
        {
         "fill": "toself",
         "hoverinfo": "r",
         "marker": {
          "color": "#8090c7",
          "size": 8,
          "symbol": "square"
         },
         "r": [
          8,
          8,
          7,
          8,
          7,
          7,
          8,
          6,
          3,
          7
         ],
         "theta": [
          "Redundancy (10)",
          "Efficiency (10)",
          "Standard (10)",
          "Contingency (10)",
          "Bottom Up (10)",
          "Automatic (10)",
          "Resourceful (10)",
          "Clarity (10)",
          "Multimodal (10)",
          "Seamless (10)",
          null
         ],
         "type": "scatterpolar"
        }
       ],
       "layout": {
        "annotations": [
         {
          "borderpad": 0,
          "font": {
           "color": "rgba(0,0,0,0.4)"
          },
          "showarrow": false,
          "text": "<b>Atomicity (1)</b>",
          "textangle": 360,
          "x": 0.55,
          "xanchor": "left",
          "y": 0.5,
          "yanchor": "bottom"
         },
         {
          "borderpad": 0,
          "font": {
           "color": "rgba(0,0,0,0.4)"
          },
          "showarrow": false,
          "text": "<b>Inefficiency (1)</b>",
          "textangle": 324,
          "x": 0.5355967477524977,
          "xanchor": "left",
          "y": 0.5620701226420852,
          "yanchor": "bottom"
         },
         {
          "borderpad": 0,
          "font": {
           "color": "rgba(0,0,0,0.4)"
          },
          "showarrow": false,
          "text": "<b>Custom (1)</b>",
          "textangle": 288,
          "x": 0.5,
          "xanchor": "left",
          "y": 0.62,
          "yanchor": "bottom"
         },
         {
          "borderpad": 0,
          "font": {
           "color": "rgba(0,0,0,0.4)"
          },
          "showarrow": false,
          "text": "<b>Ad Hoc (1)</b>",
          "textangle": 72,
          "x": 0.4845491502812526,
          "xanchor": "right",
          "y": 0.6141267819554185,
          "yanchor": "bottom"
         },
         {
          "borderpad": 0,
          "font": {
           "color": "rgba(0,0,0,0.4)"
          },
          "showarrow": false,
          "text": "<b>Top down (1)</b>",
          "textangle": 36,
          "x": 0.45815351328301324,
          "xanchor": "right",
          "y": 0.5326321946059944,
          "yanchor": "bottom"
         },
         {
          "borderpad": 0,
          "font": {
           "color": "rgba(0,0,0,0.4)"
          },
          "showarrow": false,
          "text": "<b>Manual (1)</b>",
          "textangle": 0,
          "x": 0.45,
          "xanchor": "right",
          "y": 0.5,
          "yanchor": "top"
         },
         {
          "borderpad": 0,
          "font": {
           "color": "rgba(0,0,0,0.4)"
          },
          "showarrow": false,
          "text": "<b>Wasteful (1)</b>",
          "textangle": -36,
          "x": 0.4644032522475023,
          "xanchor": "right",
          "y": 0.43792987735791483,
          "yanchor": "top"
         },
         {
          "borderpad": 0,
          "font": {
           "color": "rgba(0,0,0,0.4)"
          },
          "showarrow": false,
          "text": "<b>Obscurity (1)</b>",
          "textangle": -72,
          "x": 0.5,
          "xanchor": "right",
          "y": 0.38,
          "yanchor": "top"
         },
         {
          "borderpad": 0,
          "font": {
           "color": "rgba(0,0,0,0.4)"
          },
          "showarrow": false,
          "text": "<b>Singular (1)</b>",
          "textangle": 72,
          "x": 0.5154508497187473,
          "xanchor": "left",
          "y": 0.3858732180445816,
          "yanchor": "top"
         },
         {
          "borderpad": 0,
          "font": {
           "color": "rgba(0,0,0,0.4)"
          },
          "showarrow": false,
          "text": "<b>Jarring (1)</b>",
          "textangle": 36,
          "x": 0.5418464867169868,
          "xanchor": "left",
          "y": 0.4673678053940055,
          "yanchor": "top"
         },
         {
          "align": "left",
          "showarrow": false,
          "text": "Notes: Redundancy: WADs' info becomes more<br> redundant as it gets reused",
          "x": -0.1,
          "y": 0.3
         },
         {
          "align": "left",
          "showarrow": false,
          "text": "<b>Ratings (1/10):</b> <br>Atomicity/Redundancy:  <br>Inefficiency/Efficiency:  <br>Custom/Standard:  <br>Ad Hoc/Contingency:  <br>Top Down/Bottom Up:  <br>Manual/Automatic:  <br>Wasteful/Resourceful:  <br>Obscurity/Clarity:  <br>Singular/Multimodal:  <br>Jarring/Seamless:  <br>",
          "x": -0.1,
          "y": 1
         },
         {
          "align": "left",
          "showarrow": false,
          "text": "<br>8<br>8<br>7<br>8<br>7<br>7<br>8<br>6<br>3<br>7<br>",
          "x": 0.07,
          "y": 0.95507
         }
        ],
        "polar": {
         "angularaxis": {
          "visible": true
         },
         "radialaxis": {
          "range": [
           0,
           10
          ],
          "tickangle": 0,
          "visible": true
         }
        },
        "showlegend": false,
        "title": "Solumina Recommended WADs <br> During Authoring"
       }
      },
      "text/html": [
       "<div id=\"5d1e6ed4-9ffb-4935-a85b-4eba96c9ec7e\" style=\"height: 525px; width: 100%;\" class=\"plotly-graph-div\"></div><script type=\"text/javascript\">require([\"plotly\"], function(Plotly) { window.PLOTLYENV=window.PLOTLYENV || {};window.PLOTLYENV.BASE_URL=\"https://plot.ly\";Plotly.newPlot(\"5d1e6ed4-9ffb-4935-a85b-4eba96c9ec7e\", [{\"type\": \"scatterpolar\", \"r\": [8, 8, 7, 8, 7, 7, 8, 6, 3, 7], \"theta\": [\"Redundancy (10)\", \"Efficiency (10)\", \"Standard (10)\", \"Contingency (10)\", \"Bottom Up (10)\", \"Automatic (10)\", \"Resourceful (10)\", \"Clarity (10)\", \"Multimodal (10)\", \"Seamless (10)\", null], \"fill\": \"toself\", \"hoverinfo\": \"r\", \"marker\": {\"color\": \"#8090c7\", \"symbol\": \"square\", \"size\": 8}}], {\"polar\": {\"radialaxis\": {\"visible\": true, \"range\": [0, 10], \"tickangle\": 0}, \"angularaxis\": {\"visible\": true}}, \"showlegend\": false, \"annotations\": [{\"text\": \"<b>Atomicity (1)</b>\", \"x\": 0.55, \"y\": 0.5, \"xanchor\": \"left\", \"yanchor\": \"bottom\", \"borderpad\": 0, \"showarrow\": false, \"textangle\": 360.0, \"font\": {\"color\": \"rgba(0,0,0,0.4)\"}}, {\"text\": \"<b>Inefficiency (1)</b>\", \"x\": 0.5355967477524977, \"y\": 0.5620701226420852, \"xanchor\": \"left\", \"yanchor\": \"bottom\", \"borderpad\": 0, \"showarrow\": false, \"textangle\": 324.0, \"font\": {\"color\": \"rgba(0,0,0,0.4)\"}}, {\"text\": \"<b>Custom (1)</b>\", \"x\": 0.5, \"y\": 0.62, \"xanchor\": \"left\", \"yanchor\": \"bottom\", \"borderpad\": 0, \"showarrow\": false, \"textangle\": 288.0, \"font\": {\"color\": \"rgba(0,0,0,0.4)\"}}, {\"text\": \"<b>Ad Hoc (1)</b>\", \"x\": 0.4845491502812526, \"y\": 0.6141267819554185, \"xanchor\": \"right\", \"yanchor\": \"bottom\", \"borderpad\": 0, \"showarrow\": false, \"textangle\": 72.0, \"font\": {\"color\": \"rgba(0,0,0,0.4)\"}}, {\"text\": \"<b>Top down (1)</b>\", \"x\": 0.45815351328301324, \"y\": 0.5326321946059944, \"xanchor\": \"right\", \"yanchor\": \"bottom\", \"borderpad\": 0, \"showarrow\": false, \"textangle\": 36.0, \"font\": {\"color\": \"rgba(0,0,0,0.4)\"}}, {\"text\": \"<b>Manual (1)</b>\", \"x\": 0.45, \"y\": 0.5, \"xanchor\": \"right\", \"yanchor\": \"top\", \"borderpad\": 0, \"showarrow\": false, \"textangle\": 0.0, \"font\": {\"color\": \"rgba(0,0,0,0.4)\"}}, {\"text\": \"<b>Wasteful (1)</b>\", \"x\": 0.4644032522475023, \"y\": 0.43792987735791483, \"xanchor\": \"right\", \"yanchor\": \"top\", \"borderpad\": 0, \"showarrow\": false, \"textangle\": -36.0, \"font\": {\"color\": \"rgba(0,0,0,0.4)\"}}, {\"text\": \"<b>Obscurity (1)</b>\", \"x\": 0.5, \"y\": 0.38, \"xanchor\": \"right\", \"yanchor\": \"top\", \"borderpad\": 0, \"showarrow\": false, \"textangle\": -72.0, \"font\": {\"color\": \"rgba(0,0,0,0.4)\"}}, {\"text\": \"<b>Singular (1)</b>\", \"x\": 0.5154508497187473, \"y\": 0.3858732180445816, \"xanchor\": \"left\", \"yanchor\": \"top\", \"borderpad\": 0, \"showarrow\": false, \"textangle\": 72.0, \"font\": {\"color\": \"rgba(0,0,0,0.4)\"}}, {\"text\": \"<b>Jarring (1)</b>\", \"x\": 0.5418464867169868, \"y\": 0.4673678053940055, \"xanchor\": \"left\", \"yanchor\": \"top\", \"borderpad\": 0, \"showarrow\": false, \"textangle\": 36.0, \"font\": {\"color\": \"rgba(0,0,0,0.4)\"}}, {\"text\": \"Notes: Redundancy: WADs' info becomes more<br> redundant as it gets reused\", \"x\": -0.1, \"y\": 0.3, \"showarrow\": false, \"align\": \"left\"}, {\"text\": \"<b>Ratings (1/10):</b> <br>Atomicity/Redundancy:  <br>Inefficiency/Efficiency:  <br>Custom/Standard:  <br>Ad Hoc/Contingency:  <br>Top Down/Bottom Up:  <br>Manual/Automatic:  <br>Wasteful/Resourceful:  <br>Obscurity/Clarity:  <br>Singular/Multimodal:  <br>Jarring/Seamless:  <br>\", \"x\": -0.1, \"y\": 1, \"showarrow\": false, \"align\": \"left\"}, {\"text\": \"<br>8<br>8<br>7<br>8<br>7<br>7<br>8<br>6<br>3<br>7<br>\", \"x\": 0.07, \"y\": 0.95507, \"showarrow\": false, \"align\": \"left\"}], \"title\": \"Solumina Recommended WADs <br> During Authoring\"}, {\"showLink\": true, \"linkText\": \"Export to plot.ly\"})});</script>"
      ],
      "text/vnd.plotly.v1+html": [
       "<div id=\"5d1e6ed4-9ffb-4935-a85b-4eba96c9ec7e\" style=\"height: 525px; width: 100%;\" class=\"plotly-graph-div\"></div><script type=\"text/javascript\">require([\"plotly\"], function(Plotly) { window.PLOTLYENV=window.PLOTLYENV || {};window.PLOTLYENV.BASE_URL=\"https://plot.ly\";Plotly.newPlot(\"5d1e6ed4-9ffb-4935-a85b-4eba96c9ec7e\", [{\"type\": \"scatterpolar\", \"r\": [8, 8, 7, 8, 7, 7, 8, 6, 3, 7], \"theta\": [\"Redundancy (10)\", \"Efficiency (10)\", \"Standard (10)\", \"Contingency (10)\", \"Bottom Up (10)\", \"Automatic (10)\", \"Resourceful (10)\", \"Clarity (10)\", \"Multimodal (10)\", \"Seamless (10)\", null], \"fill\": \"toself\", \"hoverinfo\": \"r\", \"marker\": {\"color\": \"#8090c7\", \"symbol\": \"square\", \"size\": 8}}], {\"polar\": {\"radialaxis\": {\"visible\": true, \"range\": [0, 10], \"tickangle\": 0}, \"angularaxis\": {\"visible\": true}}, \"showlegend\": false, \"annotations\": [{\"text\": \"<b>Atomicity (1)</b>\", \"x\": 0.55, \"y\": 0.5, \"xanchor\": \"left\", \"yanchor\": \"bottom\", \"borderpad\": 0, \"showarrow\": false, \"textangle\": 360.0, \"font\": {\"color\": \"rgba(0,0,0,0.4)\"}}, {\"text\": \"<b>Inefficiency (1)</b>\", \"x\": 0.5355967477524977, \"y\": 0.5620701226420852, \"xanchor\": \"left\", \"yanchor\": \"bottom\", \"borderpad\": 0, \"showarrow\": false, \"textangle\": 324.0, \"font\": {\"color\": \"rgba(0,0,0,0.4)\"}}, {\"text\": \"<b>Custom (1)</b>\", \"x\": 0.5, \"y\": 0.62, \"xanchor\": \"left\", \"yanchor\": \"bottom\", \"borderpad\": 0, \"showarrow\": false, \"textangle\": 288.0, \"font\": {\"color\": \"rgba(0,0,0,0.4)\"}}, {\"text\": \"<b>Ad Hoc (1)</b>\", \"x\": 0.4845491502812526, \"y\": 0.6141267819554185, \"xanchor\": \"right\", \"yanchor\": \"bottom\", \"borderpad\": 0, \"showarrow\": false, \"textangle\": 72.0, \"font\": {\"color\": \"rgba(0,0,0,0.4)\"}}, {\"text\": \"<b>Top down (1)</b>\", \"x\": 0.45815351328301324, \"y\": 0.5326321946059944, \"xanchor\": \"right\", \"yanchor\": \"bottom\", \"borderpad\": 0, \"showarrow\": false, \"textangle\": 36.0, \"font\": {\"color\": \"rgba(0,0,0,0.4)\"}}, {\"text\": \"<b>Manual (1)</b>\", \"x\": 0.45, \"y\": 0.5, \"xanchor\": \"right\", \"yanchor\": \"top\", \"borderpad\": 0, \"showarrow\": false, \"textangle\": 0.0, \"font\": {\"color\": \"rgba(0,0,0,0.4)\"}}, {\"text\": \"<b>Wasteful (1)</b>\", \"x\": 0.4644032522475023, \"y\": 0.43792987735791483, \"xanchor\": \"right\", \"yanchor\": \"top\", \"borderpad\": 0, \"showarrow\": false, \"textangle\": -36.0, \"font\": {\"color\": \"rgba(0,0,0,0.4)\"}}, {\"text\": \"<b>Obscurity (1)</b>\", \"x\": 0.5, \"y\": 0.38, \"xanchor\": \"right\", \"yanchor\": \"top\", \"borderpad\": 0, \"showarrow\": false, \"textangle\": -72.0, \"font\": {\"color\": \"rgba(0,0,0,0.4)\"}}, {\"text\": \"<b>Singular (1)</b>\", \"x\": 0.5154508497187473, \"y\": 0.3858732180445816, \"xanchor\": \"left\", \"yanchor\": \"top\", \"borderpad\": 0, \"showarrow\": false, \"textangle\": 72.0, \"font\": {\"color\": \"rgba(0,0,0,0.4)\"}}, {\"text\": \"<b>Jarring (1)</b>\", \"x\": 0.5418464867169868, \"y\": 0.4673678053940055, \"xanchor\": \"left\", \"yanchor\": \"top\", \"borderpad\": 0, \"showarrow\": false, \"textangle\": 36.0, \"font\": {\"color\": \"rgba(0,0,0,0.4)\"}}, {\"text\": \"Notes: Redundancy: WADs' info becomes more<br> redundant as it gets reused\", \"x\": -0.1, \"y\": 0.3, \"showarrow\": false, \"align\": \"left\"}, {\"text\": \"<b>Ratings (1/10):</b> <br>Atomicity/Redundancy:  <br>Inefficiency/Efficiency:  <br>Custom/Standard:  <br>Ad Hoc/Contingency:  <br>Top Down/Bottom Up:  <br>Manual/Automatic:  <br>Wasteful/Resourceful:  <br>Obscurity/Clarity:  <br>Singular/Multimodal:  <br>Jarring/Seamless:  <br>\", \"x\": -0.1, \"y\": 1, \"showarrow\": false, \"align\": \"left\"}, {\"text\": \"<br>8<br>8<br>7<br>8<br>7<br>7<br>8<br>6<br>3<br>7<br>\", \"x\": 0.07, \"y\": 0.95507, \"showarrow\": false, \"align\": \"left\"}], \"title\": \"Solumina Recommended WADs <br> During Authoring\"}, {\"showLink\": true, \"linkText\": \"Export to plot.ly\"})});</script>"
      ]
     },
     "metadata": {},
     "output_type": "display_data"
    },
    {
     "data": {
      "application/vnd.plotly.v1+json": {
       "data": [
        {
         "fill": "toself",
         "hoverinfo": "r",
         "marker": {
          "color": "#8090c7",
          "size": 8,
          "symbol": "square"
         },
         "r": [
          8,
          6,
          8,
          7,
          5,
          7,
          7,
          5,
          8,
          7
         ],
         "theta": [
          "Redundancy (10)",
          "Efficiency (10)",
          "Standard (10)",
          "Contingency (10)",
          "Bottom Up (10)",
          "Automatic (10)",
          "Resourceful (10)",
          "Clarity (10)",
          "Multimodal (10)",
          "Seamless (10)",
          null
         ],
         "type": "scatterpolar"
        }
       ],
       "layout": {
        "annotations": [
         {
          "borderpad": 0,
          "font": {
           "color": "rgba(0,0,0,0.4)"
          },
          "showarrow": false,
          "text": "<b>Atomicity (1)</b>",
          "textangle": 360,
          "x": 0.55,
          "xanchor": "left",
          "y": 0.5,
          "yanchor": "bottom"
         },
         {
          "borderpad": 0,
          "font": {
           "color": "rgba(0,0,0,0.4)"
          },
          "showarrow": false,
          "text": "<b>Inefficiency (1)</b>",
          "textangle": 324,
          "x": 0.5355967477524977,
          "xanchor": "left",
          "y": 0.5620701226420852,
          "yanchor": "bottom"
         },
         {
          "borderpad": 0,
          "font": {
           "color": "rgba(0,0,0,0.4)"
          },
          "showarrow": false,
          "text": "<b>Custom (1)</b>",
          "textangle": 288,
          "x": 0.5,
          "xanchor": "left",
          "y": 0.62,
          "yanchor": "bottom"
         },
         {
          "borderpad": 0,
          "font": {
           "color": "rgba(0,0,0,0.4)"
          },
          "showarrow": false,
          "text": "<b>Ad Hoc (1)</b>",
          "textangle": 72,
          "x": 0.4845491502812526,
          "xanchor": "right",
          "y": 0.6141267819554185,
          "yanchor": "bottom"
         },
         {
          "borderpad": 0,
          "font": {
           "color": "rgba(0,0,0,0.4)"
          },
          "showarrow": false,
          "text": "<b>Top down (1)</b>",
          "textangle": 36,
          "x": 0.45815351328301324,
          "xanchor": "right",
          "y": 0.5326321946059944,
          "yanchor": "bottom"
         },
         {
          "borderpad": 0,
          "font": {
           "color": "rgba(0,0,0,0.4)"
          },
          "showarrow": false,
          "text": "<b>Manual (1)</b>",
          "textangle": 0,
          "x": 0.45,
          "xanchor": "right",
          "y": 0.5,
          "yanchor": "top"
         },
         {
          "borderpad": 0,
          "font": {
           "color": "rgba(0,0,0,0.4)"
          },
          "showarrow": false,
          "text": "<b>Wasteful (1)</b>",
          "textangle": -36,
          "x": 0.4644032522475023,
          "xanchor": "right",
          "y": 0.43792987735791483,
          "yanchor": "top"
         },
         {
          "borderpad": 0,
          "font": {
           "color": "rgba(0,0,0,0.4)"
          },
          "showarrow": false,
          "text": "<b>Obscurity (1)</b>",
          "textangle": -72,
          "x": 0.5,
          "xanchor": "right",
          "y": 0.38,
          "yanchor": "top"
         },
         {
          "borderpad": 0,
          "font": {
           "color": "rgba(0,0,0,0.4)"
          },
          "showarrow": false,
          "text": "<b>Singular (1)</b>",
          "textangle": 72,
          "x": 0.5154508497187473,
          "xanchor": "left",
          "y": 0.3858732180445816,
          "yanchor": "top"
         },
         {
          "borderpad": 0,
          "font": {
           "color": "rgba(0,0,0,0.4)"
          },
          "showarrow": false,
          "text": "<b>Jarring (1)</b>",
          "textangle": 36,
          "x": 0.5418464867169868,
          "xanchor": "left",
          "y": 0.4673678053940055,
          "yanchor": "top"
         },
         {
          "align": "left",
          "showarrow": false,
          "text": "Notes: Redundancy: Feedback on WADs is<br>logged and kept for <br>future use.",
          "x": -0.1,
          "y": 0.3
         },
         {
          "align": "left",
          "showarrow": false,
          "text": "<b>Ratings (1/10):</b> <br>Atomicity/Redundancy:  <br>Inefficiency/Efficiency:  <br>Custom/Standard:  <br>Ad Hoc/Contingency:  <br>Top Down/Bottom Up:  <br>Manual/Automatic:  <br>Wasteful/Resourceful:  <br>Obscurity/Clarity:  <br>Singular/Multimodal:  <br>Jarring/Seamless:  <br>",
          "x": -0.1,
          "y": 1
         },
         {
          "align": "left",
          "showarrow": false,
          "text": "<br>8<br>6<br>8<br>7<br>5<br>7<br>7<br>5<br>8<br>7<br>",
          "x": 0.07,
          "y": 0.95507
         }
        ],
        "polar": {
         "angularaxis": {
          "visible": true
         },
         "radialaxis": {
          "range": [
           0,
           10
          ],
          "tickangle": 0,
          "visible": true
         }
        },
        "showlegend": false,
        "title": "RFID-Tagged, Wristband Voice <br>Command Tech Feedback"
       }
      },
      "text/html": [
       "<div id=\"349e0d2b-78cd-4078-bf7b-0acaea485ac0\" style=\"height: 525px; width: 100%;\" class=\"plotly-graph-div\"></div><script type=\"text/javascript\">require([\"plotly\"], function(Plotly) { window.PLOTLYENV=window.PLOTLYENV || {};window.PLOTLYENV.BASE_URL=\"https://plot.ly\";Plotly.newPlot(\"349e0d2b-78cd-4078-bf7b-0acaea485ac0\", [{\"type\": \"scatterpolar\", \"r\": [8, 6, 8, 7, 5, 7, 7, 5, 8, 7], \"theta\": [\"Redundancy (10)\", \"Efficiency (10)\", \"Standard (10)\", \"Contingency (10)\", \"Bottom Up (10)\", \"Automatic (10)\", \"Resourceful (10)\", \"Clarity (10)\", \"Multimodal (10)\", \"Seamless (10)\", null], \"fill\": \"toself\", \"hoverinfo\": \"r\", \"marker\": {\"color\": \"#8090c7\", \"symbol\": \"square\", \"size\": 8}}], {\"polar\": {\"radialaxis\": {\"visible\": true, \"range\": [0, 10], \"tickangle\": 0}, \"angularaxis\": {\"visible\": true}}, \"showlegend\": false, \"annotations\": [{\"text\": \"<b>Atomicity (1)</b>\", \"x\": 0.55, \"y\": 0.5, \"xanchor\": \"left\", \"yanchor\": \"bottom\", \"borderpad\": 0, \"showarrow\": false, \"textangle\": 360.0, \"font\": {\"color\": \"rgba(0,0,0,0.4)\"}}, {\"text\": \"<b>Inefficiency (1)</b>\", \"x\": 0.5355967477524977, \"y\": 0.5620701226420852, \"xanchor\": \"left\", \"yanchor\": \"bottom\", \"borderpad\": 0, \"showarrow\": false, \"textangle\": 324.0, \"font\": {\"color\": \"rgba(0,0,0,0.4)\"}}, {\"text\": \"<b>Custom (1)</b>\", \"x\": 0.5, \"y\": 0.62, \"xanchor\": \"left\", \"yanchor\": \"bottom\", \"borderpad\": 0, \"showarrow\": false, \"textangle\": 288.0, \"font\": {\"color\": \"rgba(0,0,0,0.4)\"}}, {\"text\": \"<b>Ad Hoc (1)</b>\", \"x\": 0.4845491502812526, \"y\": 0.6141267819554185, \"xanchor\": \"right\", \"yanchor\": \"bottom\", \"borderpad\": 0, \"showarrow\": false, \"textangle\": 72.0, \"font\": {\"color\": \"rgba(0,0,0,0.4)\"}}, {\"text\": \"<b>Top down (1)</b>\", \"x\": 0.45815351328301324, \"y\": 0.5326321946059944, \"xanchor\": \"right\", \"yanchor\": \"bottom\", \"borderpad\": 0, \"showarrow\": false, \"textangle\": 36.0, \"font\": {\"color\": \"rgba(0,0,0,0.4)\"}}, {\"text\": \"<b>Manual (1)</b>\", \"x\": 0.45, \"y\": 0.5, \"xanchor\": \"right\", \"yanchor\": \"top\", \"borderpad\": 0, \"showarrow\": false, \"textangle\": 0.0, \"font\": {\"color\": \"rgba(0,0,0,0.4)\"}}, {\"text\": \"<b>Wasteful (1)</b>\", \"x\": 0.4644032522475023, \"y\": 0.43792987735791483, \"xanchor\": \"right\", \"yanchor\": \"top\", \"borderpad\": 0, \"showarrow\": false, \"textangle\": -36.0, \"font\": {\"color\": \"rgba(0,0,0,0.4)\"}}, {\"text\": \"<b>Obscurity (1)</b>\", \"x\": 0.5, \"y\": 0.38, \"xanchor\": \"right\", \"yanchor\": \"top\", \"borderpad\": 0, \"showarrow\": false, \"textangle\": -72.0, \"font\": {\"color\": \"rgba(0,0,0,0.4)\"}}, {\"text\": \"<b>Singular (1)</b>\", \"x\": 0.5154508497187473, \"y\": 0.3858732180445816, \"xanchor\": \"left\", \"yanchor\": \"top\", \"borderpad\": 0, \"showarrow\": false, \"textangle\": 72.0, \"font\": {\"color\": \"rgba(0,0,0,0.4)\"}}, {\"text\": \"<b>Jarring (1)</b>\", \"x\": 0.5418464867169868, \"y\": 0.4673678053940055, \"xanchor\": \"left\", \"yanchor\": \"top\", \"borderpad\": 0, \"showarrow\": false, \"textangle\": 36.0, \"font\": {\"color\": \"rgba(0,0,0,0.4)\"}}, {\"text\": \"Notes: Redundancy: Feedback on WADs is<br>logged and kept for <br>future use.\", \"x\": -0.1, \"y\": 0.3, \"showarrow\": false, \"align\": \"left\"}, {\"text\": \"<b>Ratings (1/10):</b> <br>Atomicity/Redundancy:  <br>Inefficiency/Efficiency:  <br>Custom/Standard:  <br>Ad Hoc/Contingency:  <br>Top Down/Bottom Up:  <br>Manual/Automatic:  <br>Wasteful/Resourceful:  <br>Obscurity/Clarity:  <br>Singular/Multimodal:  <br>Jarring/Seamless:  <br>\", \"x\": -0.1, \"y\": 1, \"showarrow\": false, \"align\": \"left\"}, {\"text\": \"<br>8<br>6<br>8<br>7<br>5<br>7<br>7<br>5<br>8<br>7<br>\", \"x\": 0.07, \"y\": 0.95507, \"showarrow\": false, \"align\": \"left\"}], \"title\": \"RFID-Tagged, Wristband Voice <br>Command Tech Feedback\"}, {\"showLink\": true, \"linkText\": \"Export to plot.ly\"})});</script>"
      ],
      "text/vnd.plotly.v1+html": [
       "<div id=\"349e0d2b-78cd-4078-bf7b-0acaea485ac0\" style=\"height: 525px; width: 100%;\" class=\"plotly-graph-div\"></div><script type=\"text/javascript\">require([\"plotly\"], function(Plotly) { window.PLOTLYENV=window.PLOTLYENV || {};window.PLOTLYENV.BASE_URL=\"https://plot.ly\";Plotly.newPlot(\"349e0d2b-78cd-4078-bf7b-0acaea485ac0\", [{\"type\": \"scatterpolar\", \"r\": [8, 6, 8, 7, 5, 7, 7, 5, 8, 7], \"theta\": [\"Redundancy (10)\", \"Efficiency (10)\", \"Standard (10)\", \"Contingency (10)\", \"Bottom Up (10)\", \"Automatic (10)\", \"Resourceful (10)\", \"Clarity (10)\", \"Multimodal (10)\", \"Seamless (10)\", null], \"fill\": \"toself\", \"hoverinfo\": \"r\", \"marker\": {\"color\": \"#8090c7\", \"symbol\": \"square\", \"size\": 8}}], {\"polar\": {\"radialaxis\": {\"visible\": true, \"range\": [0, 10], \"tickangle\": 0}, \"angularaxis\": {\"visible\": true}}, \"showlegend\": false, \"annotations\": [{\"text\": \"<b>Atomicity (1)</b>\", \"x\": 0.55, \"y\": 0.5, \"xanchor\": \"left\", \"yanchor\": \"bottom\", \"borderpad\": 0, \"showarrow\": false, \"textangle\": 360.0, \"font\": {\"color\": \"rgba(0,0,0,0.4)\"}}, {\"text\": \"<b>Inefficiency (1)</b>\", \"x\": 0.5355967477524977, \"y\": 0.5620701226420852, \"xanchor\": \"left\", \"yanchor\": \"bottom\", \"borderpad\": 0, \"showarrow\": false, \"textangle\": 324.0, \"font\": {\"color\": \"rgba(0,0,0,0.4)\"}}, {\"text\": \"<b>Custom (1)</b>\", \"x\": 0.5, \"y\": 0.62, \"xanchor\": \"left\", \"yanchor\": \"bottom\", \"borderpad\": 0, \"showarrow\": false, \"textangle\": 288.0, \"font\": {\"color\": \"rgba(0,0,0,0.4)\"}}, {\"text\": \"<b>Ad Hoc (1)</b>\", \"x\": 0.4845491502812526, \"y\": 0.6141267819554185, \"xanchor\": \"right\", \"yanchor\": \"bottom\", \"borderpad\": 0, \"showarrow\": false, \"textangle\": 72.0, \"font\": {\"color\": \"rgba(0,0,0,0.4)\"}}, {\"text\": \"<b>Top down (1)</b>\", \"x\": 0.45815351328301324, \"y\": 0.5326321946059944, \"xanchor\": \"right\", \"yanchor\": \"bottom\", \"borderpad\": 0, \"showarrow\": false, \"textangle\": 36.0, \"font\": {\"color\": \"rgba(0,0,0,0.4)\"}}, {\"text\": \"<b>Manual (1)</b>\", \"x\": 0.45, \"y\": 0.5, \"xanchor\": \"right\", \"yanchor\": \"top\", \"borderpad\": 0, \"showarrow\": false, \"textangle\": 0.0, \"font\": {\"color\": \"rgba(0,0,0,0.4)\"}}, {\"text\": \"<b>Wasteful (1)</b>\", \"x\": 0.4644032522475023, \"y\": 0.43792987735791483, \"xanchor\": \"right\", \"yanchor\": \"top\", \"borderpad\": 0, \"showarrow\": false, \"textangle\": -36.0, \"font\": {\"color\": \"rgba(0,0,0,0.4)\"}}, {\"text\": \"<b>Obscurity (1)</b>\", \"x\": 0.5, \"y\": 0.38, \"xanchor\": \"right\", \"yanchor\": \"top\", \"borderpad\": 0, \"showarrow\": false, \"textangle\": -72.0, \"font\": {\"color\": \"rgba(0,0,0,0.4)\"}}, {\"text\": \"<b>Singular (1)</b>\", \"x\": 0.5154508497187473, \"y\": 0.3858732180445816, \"xanchor\": \"left\", \"yanchor\": \"top\", \"borderpad\": 0, \"showarrow\": false, \"textangle\": 72.0, \"font\": {\"color\": \"rgba(0,0,0,0.4)\"}}, {\"text\": \"<b>Jarring (1)</b>\", \"x\": 0.5418464867169868, \"y\": 0.4673678053940055, \"xanchor\": \"left\", \"yanchor\": \"top\", \"borderpad\": 0, \"showarrow\": false, \"textangle\": 36.0, \"font\": {\"color\": \"rgba(0,0,0,0.4)\"}}, {\"text\": \"Notes: Redundancy: Feedback on WADs is<br>logged and kept for <br>future use.\", \"x\": -0.1, \"y\": 0.3, \"showarrow\": false, \"align\": \"left\"}, {\"text\": \"<b>Ratings (1/10):</b> <br>Atomicity/Redundancy:  <br>Inefficiency/Efficiency:  <br>Custom/Standard:  <br>Ad Hoc/Contingency:  <br>Top Down/Bottom Up:  <br>Manual/Automatic:  <br>Wasteful/Resourceful:  <br>Obscurity/Clarity:  <br>Singular/Multimodal:  <br>Jarring/Seamless:  <br>\", \"x\": -0.1, \"y\": 1, \"showarrow\": false, \"align\": \"left\"}, {\"text\": \"<br>8<br>6<br>8<br>7<br>5<br>7<br>7<br>5<br>8<br>7<br>\", \"x\": 0.07, \"y\": 0.95507, \"showarrow\": false, \"align\": \"left\"}], \"title\": \"RFID-Tagged, Wristband Voice <br>Command Tech Feedback\"}, {\"showLink\": true, \"linkText\": \"Export to plot.ly\"})});</script>"
      ]
     },
     "metadata": {},
     "output_type": "display_data"
    }
   ],
   "source": [
    "import math \n",
    "for index, row in dfrt.iterrows():    \n",
    "    d = []\n",
    "    \n",
    "    idea= row['idea']\n",
    "    notes= row['notes']\n",
    "    lower_range=attrs[1:].str.split(' - ').str[0]\n",
    "    upper_range=attrs[1:].str.split(' - ').str[1]\n",
    "    \n",
    "    stats = row.drop('idea').drop('notes')\n",
    "    d.append(Scatterpolar(\n",
    "      r = stats,\n",
    "      theta = upper_range,\n",
    "      fill = 'toself',\n",
    "      hoverinfo='r',\n",
    "      marker = dict(\n",
    "        color = \"#8090c7\",\n",
    "        symbol = \"square\",\n",
    "        size = 8\n",
    "      )\n",
    "    ))\n",
    "\n",
    "    annot=[]\n",
    "    for num in range(0,len(stats)):\n",
    "        \n",
    "        rr=0.05 # polar coord radius of annotations\n",
    "        xcenter=0.5 # cartesian shift to get to center of graph\n",
    "        ycenter=0.5 # cartesian shift to get to center of graph\n",
    "        yscale=2.4 # annotation need scaling along y because of graph shape\n",
    "        th=(2*np.pi/len(stats))*num #2pi = 360; get angular increment in radians\n",
    "        thd=((360/len(stats))*num) # get angular increment in degrees\n",
    "#         print('angle: '+ str(thd))\n",
    "#         print('x: ' + str(np.cos(th)))\n",
    "#         print('y: ' + str(np.sin(th)))\n",
    "        xanchor=\"left\"\n",
    "        yanchor=\"top\"\n",
    "        if num in range(3,8): #flip the ones that are upside down\n",
    "            thd = thd + 180\n",
    "            xanchor=\"right\"\n",
    "        if num in range(0,5):\n",
    "            yanchor=\"bottom\"\n",
    "#         if num in [0,5]: # this would put the text directly over the axis line\n",
    "#             yanchor=\"middle\"\n",
    "        if num in [2,4,7,9]: # because of anchors, every other box sits on the opposite side of the axis. correct manually\n",
    "            th += (2*np.pi/len(stats))/2\n",
    "        if num in [1,4,6,9]: # because of anchors, every other box sits on the opposite side of the axis. correct manually\n",
    "            rr -=0.006\n",
    "\n",
    "        # polar coordinate math, translate to cartesian for the annotations\n",
    "        # x = r × cos( θ )\n",
    "        # y = r × sin( θ )\n",
    "        x = xcenter+(rr*np.cos(th))\n",
    "        y = ycenter+(yscale*rr*np.sin(th)) # y needs an extra multiplier because of graph shape\n",
    "        annot.append(  \n",
    "            dict(\n",
    "#                 text='<b>.</b>', #use to check circle shape if things get wonky\n",
    "                text='<b>'+lower_range[num]+'</b>',\n",
    "                x=x,\n",
    "                y=y,\n",
    "                xanchor = xanchor,\n",
    "                yanchor = yanchor,\n",
    "                borderpad=0,\n",
    "                showarrow=False,\n",
    "                textangle=360-thd,\n",
    "                font = dict(color=\"rgba(0,0,0,0.4)\")\n",
    "            ))\n",
    "\n",
    "    if (str(notes) != 'nan'):\n",
    "        annot.append(\n",
    "            dict(\n",
    "                text=\"Notes: \" + notes,\n",
    "                x=-.1,\n",
    "                y=0.3,\n",
    "                showarrow=False,\n",
    "                align='left'\n",
    "            ))\n",
    "     \n",
    "    # add an annotation with the ratings\n",
    "    ratings = \"\"\n",
    "    ratingvals = \"<br>\"\n",
    "    for index, row in dfrn.iterrows():\n",
    "        ratings += dfrn.iloc[index][\"Left\"]+\"/\"\n",
    "        ratings +=dfrn.iloc[index][\"Right\"]+\":  \" \n",
    "        ratings+= \"<br>\"\n",
    "        ratingvals += str(stats[dfrn.iloc[index][\"Abbv\"]]) + \"<br>\"\n",
    "    # Rating Labels    \n",
    "    annot.append(\n",
    "        dict(\n",
    "            text=\"<b>Ratings (1/10):</b> <br>\" + ratings,\n",
    "            x=-.1,\n",
    "            y=1,\n",
    "            showarrow=False,\n",
    "            align='left'\n",
    "        ))\n",
    "    # Rating Values, stacked neatly\n",
    "    annot.append(\n",
    "        dict(\n",
    "            text=ratingvals,\n",
    "            x=.07,\n",
    "            y=.95507,\n",
    "            showarrow=False,\n",
    "            align='left'\n",
    "        ))\n",
    "    \n",
    "    layout = go.Layout(\n",
    "      polar = dict(\n",
    "        radialaxis = dict(\n",
    "          visible = True,\n",
    "          range = [0, 10],\n",
    "          tickangle=0,\n",
    "#           angle=90,\n",
    "        ),\n",
    "        angularaxis = dict(\n",
    "          visible = True,\n",
    "        ),\n",
    "      ),\n",
    "      showlegend = False,\n",
    "      annotations=annot,\n",
    "      title=idea\n",
    "    )\n",
    "\n",
    "    fig = Figure(data=d, layout=layout)\n",
    "    iplot(fig)"
   ]
  },
  {
   "cell_type": "code",
   "execution_count": 3,
   "metadata": {},
   "outputs": [
    {
     "data": {
      "application/vnd.plotly.v1+json": {
       "data": [
        {
         "fill": "toself",
         "hoverinfo": "r",
         "marker": {
          "size": 8,
          "symbol": "square"
         },
         "name": "By the Book",
         "r": [
          5,
          5,
          6,
          7,
          3,
          5,
          5,
          5,
          5,
          6
         ],
         "theta": [
          "Redundancy (10)",
          "Efficiency (10)",
          "Standard (10)",
          "Contingency (10)",
          "Bottom Up (10)",
          "Automatic (10)",
          "Resourceful (10)",
          "Clarity (10)",
          "Multimodal (10)",
          "Seamless (10)",
          null
         ],
         "type": "scatterpolar"
        },
        {
         "fill": "toself",
         "hoverinfo": "r",
         "marker": {
          "size": 8,
          "symbol": "square"
         },
         "name": "Firing Room",
         "r": [
          10,
          10,
          2,
          2,
          8,
          2,
          1,
          10,
          10,
          10
         ],
         "theta": [
          "Redundancy (10)",
          "Efficiency (10)",
          "Standard (10)",
          "Contingency (10)",
          "Bottom Up (10)",
          "Automatic (10)",
          "Resourceful (10)",
          "Clarity (10)",
          "Multimodal (10)",
          "Seamless (10)",
          null
         ],
         "type": "scatterpolar"
        }
       ],
       "layout": {
        "annotations": [
         {
          "borderpad": 0,
          "font": {
           "color": "rgba(0,0,0,0.4)"
          },
          "showarrow": false,
          "text": "<b>Atomicity (1)</b>",
          "textangle": 360,
          "x": 0.55,
          "xanchor": "left",
          "y": 0.5,
          "yanchor": "bottom"
         },
         {
          "borderpad": 0,
          "font": {
           "color": "rgba(0,0,0,0.4)"
          },
          "showarrow": false,
          "text": "<b>Inefficiency (1)</b>",
          "textangle": 324,
          "x": 0.5355967477524977,
          "xanchor": "left",
          "y": 0.5620701226420852,
          "yanchor": "bottom"
         },
         {
          "borderpad": 0,
          "font": {
           "color": "rgba(0,0,0,0.4)"
          },
          "showarrow": false,
          "text": "<b>Custom (1)</b>",
          "textangle": 288,
          "x": 0.5,
          "xanchor": "left",
          "y": 0.62,
          "yanchor": "bottom"
         },
         {
          "borderpad": 0,
          "font": {
           "color": "rgba(0,0,0,0.4)"
          },
          "showarrow": false,
          "text": "<b>Ad Hoc (1)</b>",
          "textangle": 72,
          "x": 0.4845491502812526,
          "xanchor": "right",
          "y": 0.6141267819554185,
          "yanchor": "bottom"
         },
         {
          "borderpad": 0,
          "font": {
           "color": "rgba(0,0,0,0.4)"
          },
          "showarrow": false,
          "text": "<b>Top down (1)</b>",
          "textangle": 36,
          "x": 0.45815351328301324,
          "xanchor": "right",
          "y": 0.5326321946059944,
          "yanchor": "bottom"
         },
         {
          "borderpad": 0,
          "font": {
           "color": "rgba(0,0,0,0.4)"
          },
          "showarrow": false,
          "text": "<b>Manual (1)</b>",
          "textangle": 0,
          "x": 0.45,
          "xanchor": "right",
          "y": 0.5,
          "yanchor": "top"
         },
         {
          "borderpad": 0,
          "font": {
           "color": "rgba(0,0,0,0.4)"
          },
          "showarrow": false,
          "text": "<b>Wasteful (1)</b>",
          "textangle": -36,
          "x": 0.4644032522475023,
          "xanchor": "right",
          "y": 0.43792987735791483,
          "yanchor": "top"
         },
         {
          "borderpad": 0,
          "font": {
           "color": "rgba(0,0,0,0.4)"
          },
          "showarrow": false,
          "text": "<b>Obscurity (1)</b>",
          "textangle": -72,
          "x": 0.5,
          "xanchor": "right",
          "y": 0.38,
          "yanchor": "top"
         },
         {
          "borderpad": 0,
          "font": {
           "color": "rgba(0,0,0,0.4)"
          },
          "showarrow": false,
          "text": "<b>Singular (1)</b>",
          "textangle": 72,
          "x": 0.5154508497187473,
          "xanchor": "left",
          "y": 0.3858732180445816,
          "yanchor": "top"
         },
         {
          "borderpad": 0,
          "font": {
           "color": "rgba(0,0,0,0.4)"
          },
          "showarrow": false,
          "text": "<b>Jarring (1)</b>",
          "textangle": 36,
          "x": 0.5418464867169868,
          "xanchor": "left",
          "y": 0.4673678053940055,
          "yanchor": "top"
         }
        ],
        "polar": {
         "angularaxis": {
          "visible": true
         },
         "radialaxis": {
          "range": [
           0,
           10
          ],
          "tickangle": 0,
          "visible": true
         }
        },
        "showlegend": true,
        "title": "By the Book vs Firing Room"
       }
      },
      "text/html": [
       "<div id=\"ae74785b-6114-4fff-a9d2-6fbc65035680\" style=\"height: 525px; width: 100%;\" class=\"plotly-graph-div\"></div><script type=\"text/javascript\">require([\"plotly\"], function(Plotly) { window.PLOTLYENV=window.PLOTLYENV || {};window.PLOTLYENV.BASE_URL=\"https://plot.ly\";Plotly.newPlot(\"ae74785b-6114-4fff-a9d2-6fbc65035680\", [{\"type\": \"scatterpolar\", \"r\": [5, 5, 6, 7, 3, 5, 5, 5, 5, 6], \"theta\": [\"Redundancy (10)\", \"Efficiency (10)\", \"Standard (10)\", \"Contingency (10)\", \"Bottom Up (10)\", \"Automatic (10)\", \"Resourceful (10)\", \"Clarity (10)\", \"Multimodal (10)\", \"Seamless (10)\", null], \"fill\": \"toself\", \"hoverinfo\": \"r\", \"name\": \"By the Book\", \"marker\": {\"symbol\": \"square\", \"size\": 8}}, {\"type\": \"scatterpolar\", \"r\": [10, 10, 2, 2, 8, 2, 1, 10, 10, 10], \"theta\": [\"Redundancy (10)\", \"Efficiency (10)\", \"Standard (10)\", \"Contingency (10)\", \"Bottom Up (10)\", \"Automatic (10)\", \"Resourceful (10)\", \"Clarity (10)\", \"Multimodal (10)\", \"Seamless (10)\", null], \"fill\": \"toself\", \"hoverinfo\": \"r\", \"name\": \"Firing Room\", \"marker\": {\"symbol\": \"square\", \"size\": 8}}], {\"polar\": {\"radialaxis\": {\"visible\": true, \"range\": [0, 10], \"tickangle\": 0}, \"angularaxis\": {\"visible\": true}}, \"showlegend\": true, \"annotations\": [{\"text\": \"<b>Atomicity (1)</b>\", \"x\": 0.55, \"y\": 0.5, \"xanchor\": \"left\", \"yanchor\": \"bottom\", \"borderpad\": 0, \"showarrow\": false, \"textangle\": 360.0, \"font\": {\"color\": \"rgba(0,0,0,0.4)\"}}, {\"text\": \"<b>Inefficiency (1)</b>\", \"x\": 0.5355967477524977, \"y\": 0.5620701226420852, \"xanchor\": \"left\", \"yanchor\": \"bottom\", \"borderpad\": 0, \"showarrow\": false, \"textangle\": 324.0, \"font\": {\"color\": \"rgba(0,0,0,0.4)\"}}, {\"text\": \"<b>Custom (1)</b>\", \"x\": 0.5, \"y\": 0.62, \"xanchor\": \"left\", \"yanchor\": \"bottom\", \"borderpad\": 0, \"showarrow\": false, \"textangle\": 288.0, \"font\": {\"color\": \"rgba(0,0,0,0.4)\"}}, {\"text\": \"<b>Ad Hoc (1)</b>\", \"x\": 0.4845491502812526, \"y\": 0.6141267819554185, \"xanchor\": \"right\", \"yanchor\": \"bottom\", \"borderpad\": 0, \"showarrow\": false, \"textangle\": 72.0, \"font\": {\"color\": \"rgba(0,0,0,0.4)\"}}, {\"text\": \"<b>Top down (1)</b>\", \"x\": 0.45815351328301324, \"y\": 0.5326321946059944, \"xanchor\": \"right\", \"yanchor\": \"bottom\", \"borderpad\": 0, \"showarrow\": false, \"textangle\": 36.0, \"font\": {\"color\": \"rgba(0,0,0,0.4)\"}}, {\"text\": \"<b>Manual (1)</b>\", \"x\": 0.45, \"y\": 0.5, \"xanchor\": \"right\", \"yanchor\": \"top\", \"borderpad\": 0, \"showarrow\": false, \"textangle\": 0.0, \"font\": {\"color\": \"rgba(0,0,0,0.4)\"}}, {\"text\": \"<b>Wasteful (1)</b>\", \"x\": 0.4644032522475023, \"y\": 0.43792987735791483, \"xanchor\": \"right\", \"yanchor\": \"top\", \"borderpad\": 0, \"showarrow\": false, \"textangle\": -36.0, \"font\": {\"color\": \"rgba(0,0,0,0.4)\"}}, {\"text\": \"<b>Obscurity (1)</b>\", \"x\": 0.5, \"y\": 0.38, \"xanchor\": \"right\", \"yanchor\": \"top\", \"borderpad\": 0, \"showarrow\": false, \"textangle\": -72.0, \"font\": {\"color\": \"rgba(0,0,0,0.4)\"}}, {\"text\": \"<b>Singular (1)</b>\", \"x\": 0.5154508497187473, \"y\": 0.3858732180445816, \"xanchor\": \"left\", \"yanchor\": \"top\", \"borderpad\": 0, \"showarrow\": false, \"textangle\": 72.0, \"font\": {\"color\": \"rgba(0,0,0,0.4)\"}}, {\"text\": \"<b>Jarring (1)</b>\", \"x\": 0.5418464867169868, \"y\": 0.4673678053940055, \"xanchor\": \"left\", \"yanchor\": \"top\", \"borderpad\": 0, \"showarrow\": false, \"textangle\": 36.0, \"font\": {\"color\": \"rgba(0,0,0,0.4)\"}}], \"title\": \"By the Book vs Firing Room\"}, {\"showLink\": true, \"linkText\": \"Export to plot.ly\"})});</script>"
      ],
      "text/vnd.plotly.v1+html": [
       "<div id=\"ae74785b-6114-4fff-a9d2-6fbc65035680\" style=\"height: 525px; width: 100%;\" class=\"plotly-graph-div\"></div><script type=\"text/javascript\">require([\"plotly\"], function(Plotly) { window.PLOTLYENV=window.PLOTLYENV || {};window.PLOTLYENV.BASE_URL=\"https://plot.ly\";Plotly.newPlot(\"ae74785b-6114-4fff-a9d2-6fbc65035680\", [{\"type\": \"scatterpolar\", \"r\": [5, 5, 6, 7, 3, 5, 5, 5, 5, 6], \"theta\": [\"Redundancy (10)\", \"Efficiency (10)\", \"Standard (10)\", \"Contingency (10)\", \"Bottom Up (10)\", \"Automatic (10)\", \"Resourceful (10)\", \"Clarity (10)\", \"Multimodal (10)\", \"Seamless (10)\", null], \"fill\": \"toself\", \"hoverinfo\": \"r\", \"name\": \"By the Book\", \"marker\": {\"symbol\": \"square\", \"size\": 8}}, {\"type\": \"scatterpolar\", \"r\": [10, 10, 2, 2, 8, 2, 1, 10, 10, 10], \"theta\": [\"Redundancy (10)\", \"Efficiency (10)\", \"Standard (10)\", \"Contingency (10)\", \"Bottom Up (10)\", \"Automatic (10)\", \"Resourceful (10)\", \"Clarity (10)\", \"Multimodal (10)\", \"Seamless (10)\", null], \"fill\": \"toself\", \"hoverinfo\": \"r\", \"name\": \"Firing Room\", \"marker\": {\"symbol\": \"square\", \"size\": 8}}], {\"polar\": {\"radialaxis\": {\"visible\": true, \"range\": [0, 10], \"tickangle\": 0}, \"angularaxis\": {\"visible\": true}}, \"showlegend\": true, \"annotations\": [{\"text\": \"<b>Atomicity (1)</b>\", \"x\": 0.55, \"y\": 0.5, \"xanchor\": \"left\", \"yanchor\": \"bottom\", \"borderpad\": 0, \"showarrow\": false, \"textangle\": 360.0, \"font\": {\"color\": \"rgba(0,0,0,0.4)\"}}, {\"text\": \"<b>Inefficiency (1)</b>\", \"x\": 0.5355967477524977, \"y\": 0.5620701226420852, \"xanchor\": \"left\", \"yanchor\": \"bottom\", \"borderpad\": 0, \"showarrow\": false, \"textangle\": 324.0, \"font\": {\"color\": \"rgba(0,0,0,0.4)\"}}, {\"text\": \"<b>Custom (1)</b>\", \"x\": 0.5, \"y\": 0.62, \"xanchor\": \"left\", \"yanchor\": \"bottom\", \"borderpad\": 0, \"showarrow\": false, \"textangle\": 288.0, \"font\": {\"color\": \"rgba(0,0,0,0.4)\"}}, {\"text\": \"<b>Ad Hoc (1)</b>\", \"x\": 0.4845491502812526, \"y\": 0.6141267819554185, \"xanchor\": \"right\", \"yanchor\": \"bottom\", \"borderpad\": 0, \"showarrow\": false, \"textangle\": 72.0, \"font\": {\"color\": \"rgba(0,0,0,0.4)\"}}, {\"text\": \"<b>Top down (1)</b>\", \"x\": 0.45815351328301324, \"y\": 0.5326321946059944, \"xanchor\": \"right\", \"yanchor\": \"bottom\", \"borderpad\": 0, \"showarrow\": false, \"textangle\": 36.0, \"font\": {\"color\": \"rgba(0,0,0,0.4)\"}}, {\"text\": \"<b>Manual (1)</b>\", \"x\": 0.45, \"y\": 0.5, \"xanchor\": \"right\", \"yanchor\": \"top\", \"borderpad\": 0, \"showarrow\": false, \"textangle\": 0.0, \"font\": {\"color\": \"rgba(0,0,0,0.4)\"}}, {\"text\": \"<b>Wasteful (1)</b>\", \"x\": 0.4644032522475023, \"y\": 0.43792987735791483, \"xanchor\": \"right\", \"yanchor\": \"top\", \"borderpad\": 0, \"showarrow\": false, \"textangle\": -36.0, \"font\": {\"color\": \"rgba(0,0,0,0.4)\"}}, {\"text\": \"<b>Obscurity (1)</b>\", \"x\": 0.5, \"y\": 0.38, \"xanchor\": \"right\", \"yanchor\": \"top\", \"borderpad\": 0, \"showarrow\": false, \"textangle\": -72.0, \"font\": {\"color\": \"rgba(0,0,0,0.4)\"}}, {\"text\": \"<b>Singular (1)</b>\", \"x\": 0.5154508497187473, \"y\": 0.3858732180445816, \"xanchor\": \"left\", \"yanchor\": \"top\", \"borderpad\": 0, \"showarrow\": false, \"textangle\": 72.0, \"font\": {\"color\": \"rgba(0,0,0,0.4)\"}}, {\"text\": \"<b>Jarring (1)</b>\", \"x\": 0.5418464867169868, \"y\": 0.4673678053940055, \"xanchor\": \"left\", \"yanchor\": \"top\", \"borderpad\": 0, \"showarrow\": false, \"textangle\": 36.0, \"font\": {\"color\": \"rgba(0,0,0,0.4)\"}}], \"title\": \"By the Book vs Firing Room\"}, {\"showLink\": true, \"linkText\": \"Export to plot.ly\"})});</script>"
      ]
     },
     "metadata": {},
     "output_type": "display_data"
    },
    {
     "data": {
      "application/vnd.plotly.v1+json": {
       "data": [
        {
         "fill": "toself",
         "hoverinfo": "r",
         "marker": {
          "size": 8,
          "symbol": "square"
         },
         "name": "By the Book",
         "r": [
          5,
          5,
          6,
          7,
          3,
          5,
          5,
          5,
          5,
          6
         ],
         "theta": [
          "Redundancy (10)",
          "Efficiency (10)",
          "Standard (10)",
          "Contingency (10)",
          "Bottom Up (10)",
          "Automatic (10)",
          "Resourceful (10)",
          "Clarity (10)",
          "Multimodal (10)",
          "Seamless (10)",
          null
         ],
         "type": "scatterpolar"
        },
        {
         "fill": "toself",
         "hoverinfo": "r",
         "marker": {
          "size": 8,
          "symbol": "square"
         },
         "name": "RFID-Tagged, Wristband Voice <br>Command Tech Feedback",
         "r": [
          8,
          6,
          8,
          7,
          5,
          7,
          7,
          5,
          8,
          7
         ],
         "theta": [
          "Redundancy (10)",
          "Efficiency (10)",
          "Standard (10)",
          "Contingency (10)",
          "Bottom Up (10)",
          "Automatic (10)",
          "Resourceful (10)",
          "Clarity (10)",
          "Multimodal (10)",
          "Seamless (10)",
          null
         ],
         "type": "scatterpolar"
        }
       ],
       "layout": {
        "annotations": [
         {
          "borderpad": 0,
          "font": {
           "color": "rgba(0,0,0,0.4)"
          },
          "showarrow": false,
          "text": "<b>Atomicity (1)</b>",
          "textangle": 360,
          "x": 0.55,
          "xanchor": "left",
          "y": 0.5,
          "yanchor": "bottom"
         },
         {
          "borderpad": 0,
          "font": {
           "color": "rgba(0,0,0,0.4)"
          },
          "showarrow": false,
          "text": "<b>Inefficiency (1)</b>",
          "textangle": 324,
          "x": 0.5355967477524977,
          "xanchor": "left",
          "y": 0.5620701226420852,
          "yanchor": "bottom"
         },
         {
          "borderpad": 0,
          "font": {
           "color": "rgba(0,0,0,0.4)"
          },
          "showarrow": false,
          "text": "<b>Custom (1)</b>",
          "textangle": 288,
          "x": 0.5,
          "xanchor": "left",
          "y": 0.62,
          "yanchor": "bottom"
         },
         {
          "borderpad": 0,
          "font": {
           "color": "rgba(0,0,0,0.4)"
          },
          "showarrow": false,
          "text": "<b>Ad Hoc (1)</b>",
          "textangle": 72,
          "x": 0.4845491502812526,
          "xanchor": "right",
          "y": 0.6141267819554185,
          "yanchor": "bottom"
         },
         {
          "borderpad": 0,
          "font": {
           "color": "rgba(0,0,0,0.4)"
          },
          "showarrow": false,
          "text": "<b>Top down (1)</b>",
          "textangle": 36,
          "x": 0.45815351328301324,
          "xanchor": "right",
          "y": 0.5326321946059944,
          "yanchor": "bottom"
         },
         {
          "borderpad": 0,
          "font": {
           "color": "rgba(0,0,0,0.4)"
          },
          "showarrow": false,
          "text": "<b>Manual (1)</b>",
          "textangle": 0,
          "x": 0.45,
          "xanchor": "right",
          "y": 0.5,
          "yanchor": "top"
         },
         {
          "borderpad": 0,
          "font": {
           "color": "rgba(0,0,0,0.4)"
          },
          "showarrow": false,
          "text": "<b>Wasteful (1)</b>",
          "textangle": -36,
          "x": 0.4644032522475023,
          "xanchor": "right",
          "y": 0.43792987735791483,
          "yanchor": "top"
         },
         {
          "borderpad": 0,
          "font": {
           "color": "rgba(0,0,0,0.4)"
          },
          "showarrow": false,
          "text": "<b>Obscurity (1)</b>",
          "textangle": -72,
          "x": 0.5,
          "xanchor": "right",
          "y": 0.38,
          "yanchor": "top"
         },
         {
          "borderpad": 0,
          "font": {
           "color": "rgba(0,0,0,0.4)"
          },
          "showarrow": false,
          "text": "<b>Singular (1)</b>",
          "textangle": 72,
          "x": 0.5154508497187473,
          "xanchor": "left",
          "y": 0.3858732180445816,
          "yanchor": "top"
         },
         {
          "borderpad": 0,
          "font": {
           "color": "rgba(0,0,0,0.4)"
          },
          "showarrow": false,
          "text": "<b>Jarring (1)</b>",
          "textangle": 36,
          "x": 0.5418464867169868,
          "xanchor": "left",
          "y": 0.4673678053940055,
          "yanchor": "top"
         }
        ],
        "polar": {
         "angularaxis": {
          "visible": true
         },
         "radialaxis": {
          "range": [
           0,
           10
          ],
          "tickangle": 0,
          "visible": true
         }
        },
        "showlegend": true,
        "title": "By the Book vs RFID-Tagged, Wristband Voice <br>Command Tech Feedback"
       }
      },
      "text/html": [
       "<div id=\"418b148c-4317-460f-9e3c-5bcd843275fd\" style=\"height: 525px; width: 100%;\" class=\"plotly-graph-div\"></div><script type=\"text/javascript\">require([\"plotly\"], function(Plotly) { window.PLOTLYENV=window.PLOTLYENV || {};window.PLOTLYENV.BASE_URL=\"https://plot.ly\";Plotly.newPlot(\"418b148c-4317-460f-9e3c-5bcd843275fd\", [{\"type\": \"scatterpolar\", \"r\": [5, 5, 6, 7, 3, 5, 5, 5, 5, 6], \"theta\": [\"Redundancy (10)\", \"Efficiency (10)\", \"Standard (10)\", \"Contingency (10)\", \"Bottom Up (10)\", \"Automatic (10)\", \"Resourceful (10)\", \"Clarity (10)\", \"Multimodal (10)\", \"Seamless (10)\", null], \"fill\": \"toself\", \"hoverinfo\": \"r\", \"name\": \"By the Book\", \"marker\": {\"symbol\": \"square\", \"size\": 8}}, {\"type\": \"scatterpolar\", \"r\": [8, 6, 8, 7, 5, 7, 7, 5, 8, 7], \"theta\": [\"Redundancy (10)\", \"Efficiency (10)\", \"Standard (10)\", \"Contingency (10)\", \"Bottom Up (10)\", \"Automatic (10)\", \"Resourceful (10)\", \"Clarity (10)\", \"Multimodal (10)\", \"Seamless (10)\", null], \"fill\": \"toself\", \"hoverinfo\": \"r\", \"name\": \"RFID-Tagged, Wristband Voice <br>Command Tech Feedback\", \"marker\": {\"symbol\": \"square\", \"size\": 8}}], {\"polar\": {\"radialaxis\": {\"visible\": true, \"range\": [0, 10], \"tickangle\": 0}, \"angularaxis\": {\"visible\": true}}, \"showlegend\": true, \"annotations\": [{\"text\": \"<b>Atomicity (1)</b>\", \"x\": 0.55, \"y\": 0.5, \"xanchor\": \"left\", \"yanchor\": \"bottom\", \"borderpad\": 0, \"showarrow\": false, \"textangle\": 360.0, \"font\": {\"color\": \"rgba(0,0,0,0.4)\"}}, {\"text\": \"<b>Inefficiency (1)</b>\", \"x\": 0.5355967477524977, \"y\": 0.5620701226420852, \"xanchor\": \"left\", \"yanchor\": \"bottom\", \"borderpad\": 0, \"showarrow\": false, \"textangle\": 324.0, \"font\": {\"color\": \"rgba(0,0,0,0.4)\"}}, {\"text\": \"<b>Custom (1)</b>\", \"x\": 0.5, \"y\": 0.62, \"xanchor\": \"left\", \"yanchor\": \"bottom\", \"borderpad\": 0, \"showarrow\": false, \"textangle\": 288.0, \"font\": {\"color\": \"rgba(0,0,0,0.4)\"}}, {\"text\": \"<b>Ad Hoc (1)</b>\", \"x\": 0.4845491502812526, \"y\": 0.6141267819554185, \"xanchor\": \"right\", \"yanchor\": \"bottom\", \"borderpad\": 0, \"showarrow\": false, \"textangle\": 72.0, \"font\": {\"color\": \"rgba(0,0,0,0.4)\"}}, {\"text\": \"<b>Top down (1)</b>\", \"x\": 0.45815351328301324, \"y\": 0.5326321946059944, \"xanchor\": \"right\", \"yanchor\": \"bottom\", \"borderpad\": 0, \"showarrow\": false, \"textangle\": 36.0, \"font\": {\"color\": \"rgba(0,0,0,0.4)\"}}, {\"text\": \"<b>Manual (1)</b>\", \"x\": 0.45, \"y\": 0.5, \"xanchor\": \"right\", \"yanchor\": \"top\", \"borderpad\": 0, \"showarrow\": false, \"textangle\": 0.0, \"font\": {\"color\": \"rgba(0,0,0,0.4)\"}}, {\"text\": \"<b>Wasteful (1)</b>\", \"x\": 0.4644032522475023, \"y\": 0.43792987735791483, \"xanchor\": \"right\", \"yanchor\": \"top\", \"borderpad\": 0, \"showarrow\": false, \"textangle\": -36.0, \"font\": {\"color\": \"rgba(0,0,0,0.4)\"}}, {\"text\": \"<b>Obscurity (1)</b>\", \"x\": 0.5, \"y\": 0.38, \"xanchor\": \"right\", \"yanchor\": \"top\", \"borderpad\": 0, \"showarrow\": false, \"textangle\": -72.0, \"font\": {\"color\": \"rgba(0,0,0,0.4)\"}}, {\"text\": \"<b>Singular (1)</b>\", \"x\": 0.5154508497187473, \"y\": 0.3858732180445816, \"xanchor\": \"left\", \"yanchor\": \"top\", \"borderpad\": 0, \"showarrow\": false, \"textangle\": 72.0, \"font\": {\"color\": \"rgba(0,0,0,0.4)\"}}, {\"text\": \"<b>Jarring (1)</b>\", \"x\": 0.5418464867169868, \"y\": 0.4673678053940055, \"xanchor\": \"left\", \"yanchor\": \"top\", \"borderpad\": 0, \"showarrow\": false, \"textangle\": 36.0, \"font\": {\"color\": \"rgba(0,0,0,0.4)\"}}], \"title\": \"By the Book vs RFID-Tagged, Wristband Voice <br>Command Tech Feedback\"}, {\"showLink\": true, \"linkText\": \"Export to plot.ly\"})});</script>"
      ],
      "text/vnd.plotly.v1+html": [
       "<div id=\"418b148c-4317-460f-9e3c-5bcd843275fd\" style=\"height: 525px; width: 100%;\" class=\"plotly-graph-div\"></div><script type=\"text/javascript\">require([\"plotly\"], function(Plotly) { window.PLOTLYENV=window.PLOTLYENV || {};window.PLOTLYENV.BASE_URL=\"https://plot.ly\";Plotly.newPlot(\"418b148c-4317-460f-9e3c-5bcd843275fd\", [{\"type\": \"scatterpolar\", \"r\": [5, 5, 6, 7, 3, 5, 5, 5, 5, 6], \"theta\": [\"Redundancy (10)\", \"Efficiency (10)\", \"Standard (10)\", \"Contingency (10)\", \"Bottom Up (10)\", \"Automatic (10)\", \"Resourceful (10)\", \"Clarity (10)\", \"Multimodal (10)\", \"Seamless (10)\", null], \"fill\": \"toself\", \"hoverinfo\": \"r\", \"name\": \"By the Book\", \"marker\": {\"symbol\": \"square\", \"size\": 8}}, {\"type\": \"scatterpolar\", \"r\": [8, 6, 8, 7, 5, 7, 7, 5, 8, 7], \"theta\": [\"Redundancy (10)\", \"Efficiency (10)\", \"Standard (10)\", \"Contingency (10)\", \"Bottom Up (10)\", \"Automatic (10)\", \"Resourceful (10)\", \"Clarity (10)\", \"Multimodal (10)\", \"Seamless (10)\", null], \"fill\": \"toself\", \"hoverinfo\": \"r\", \"name\": \"RFID-Tagged, Wristband Voice <br>Command Tech Feedback\", \"marker\": {\"symbol\": \"square\", \"size\": 8}}], {\"polar\": {\"radialaxis\": {\"visible\": true, \"range\": [0, 10], \"tickangle\": 0}, \"angularaxis\": {\"visible\": true}}, \"showlegend\": true, \"annotations\": [{\"text\": \"<b>Atomicity (1)</b>\", \"x\": 0.55, \"y\": 0.5, \"xanchor\": \"left\", \"yanchor\": \"bottom\", \"borderpad\": 0, \"showarrow\": false, \"textangle\": 360.0, \"font\": {\"color\": \"rgba(0,0,0,0.4)\"}}, {\"text\": \"<b>Inefficiency (1)</b>\", \"x\": 0.5355967477524977, \"y\": 0.5620701226420852, \"xanchor\": \"left\", \"yanchor\": \"bottom\", \"borderpad\": 0, \"showarrow\": false, \"textangle\": 324.0, \"font\": {\"color\": \"rgba(0,0,0,0.4)\"}}, {\"text\": \"<b>Custom (1)</b>\", \"x\": 0.5, \"y\": 0.62, \"xanchor\": \"left\", \"yanchor\": \"bottom\", \"borderpad\": 0, \"showarrow\": false, \"textangle\": 288.0, \"font\": {\"color\": \"rgba(0,0,0,0.4)\"}}, {\"text\": \"<b>Ad Hoc (1)</b>\", \"x\": 0.4845491502812526, \"y\": 0.6141267819554185, \"xanchor\": \"right\", \"yanchor\": \"bottom\", \"borderpad\": 0, \"showarrow\": false, \"textangle\": 72.0, \"font\": {\"color\": \"rgba(0,0,0,0.4)\"}}, {\"text\": \"<b>Top down (1)</b>\", \"x\": 0.45815351328301324, \"y\": 0.5326321946059944, \"xanchor\": \"right\", \"yanchor\": \"bottom\", \"borderpad\": 0, \"showarrow\": false, \"textangle\": 36.0, \"font\": {\"color\": \"rgba(0,0,0,0.4)\"}}, {\"text\": \"<b>Manual (1)</b>\", \"x\": 0.45, \"y\": 0.5, \"xanchor\": \"right\", \"yanchor\": \"top\", \"borderpad\": 0, \"showarrow\": false, \"textangle\": 0.0, \"font\": {\"color\": \"rgba(0,0,0,0.4)\"}}, {\"text\": \"<b>Wasteful (1)</b>\", \"x\": 0.4644032522475023, \"y\": 0.43792987735791483, \"xanchor\": \"right\", \"yanchor\": \"top\", \"borderpad\": 0, \"showarrow\": false, \"textangle\": -36.0, \"font\": {\"color\": \"rgba(0,0,0,0.4)\"}}, {\"text\": \"<b>Obscurity (1)</b>\", \"x\": 0.5, \"y\": 0.38, \"xanchor\": \"right\", \"yanchor\": \"top\", \"borderpad\": 0, \"showarrow\": false, \"textangle\": -72.0, \"font\": {\"color\": \"rgba(0,0,0,0.4)\"}}, {\"text\": \"<b>Singular (1)</b>\", \"x\": 0.5154508497187473, \"y\": 0.3858732180445816, \"xanchor\": \"left\", \"yanchor\": \"top\", \"borderpad\": 0, \"showarrow\": false, \"textangle\": 72.0, \"font\": {\"color\": \"rgba(0,0,0,0.4)\"}}, {\"text\": \"<b>Jarring (1)</b>\", \"x\": 0.5418464867169868, \"y\": 0.4673678053940055, \"xanchor\": \"left\", \"yanchor\": \"top\", \"borderpad\": 0, \"showarrow\": false, \"textangle\": 36.0, \"font\": {\"color\": \"rgba(0,0,0,0.4)\"}}], \"title\": \"By the Book vs RFID-Tagged, Wristband Voice <br>Command Tech Feedback\"}, {\"showLink\": true, \"linkText\": \"Export to plot.ly\"})});</script>"
      ]
     },
     "metadata": {},
     "output_type": "display_data"
    }
   ],
   "source": [
    "# create pairs of the ones you'd like to compare. should extend to longer lists as well\n",
    "for pair in [[0,1], [0,5]]:\n",
    "#     print(row)\n",
    "    d = []\n",
    "    \n",
    "    lower_range=attrs[1:].str.split(' - ').str[0]\n",
    "    upper_range=attrs[1:].str.split(' - ').str[1]\n",
    "    title = ''\n",
    "    for ind, idd in enumerate(pair):\n",
    "        row = dfrt.iloc[idd]\n",
    "        idea= row['idea']\n",
    "        title += \" vs \" + idea if ind > 0 else idea\n",
    "        stats = row.drop('idea').drop('notes')\n",
    "        d.append(Scatterpolar(\n",
    "          r = stats,\n",
    "          theta = upper_range,\n",
    "          fill = 'toself',\n",
    "          hoverinfo='r',\n",
    "          name=idea,\n",
    "    #       connectgaps=True,\n",
    "          marker = dict(\n",
    "            symbol = \"square\",\n",
    "            size = 8\n",
    "          )\n",
    "        ))\n",
    "    \n",
    "\n",
    "#     notes= row['notes']\n",
    "    \n",
    "    \n",
    "\n",
    "    annot=[]\n",
    "    for num in range(0,len(stats)):\n",
    "        \n",
    "        rr=0.05 # polar coord radius of annotations\n",
    "    #     xcenter=0 # cartesian shift to get to center of graph\n",
    "    #     ycenter=0 # cartesian shift to get to center of graph\n",
    "    #     yscale=0 # annotation need scaling along y because of graph shape\n",
    "    #     rr=0.03 # polar coord radius of annotations\n",
    "        xcenter=0.5 # cartesian shift to get to center of graph\n",
    "        ycenter=0.5 # cartesian shift to get to center of graph\n",
    "        yscale=2.4 # annotation need scaling along y because of graph shape\n",
    "        th=(2*np.pi/len(stats))*num #2pi = 360; get angular increment in radians\n",
    "        thd=((360/len(stats))*num) # get angular increment in degrees\n",
    "#         print('angle: '+ str(thd))\n",
    "#         print('x: ' + str(np.cos(th)))\n",
    "#         print('y: ' + str(np.sin(th)))\n",
    "        xanchor=\"left\"\n",
    "        yanchor=\"top\"\n",
    "        if num in range(3,8): #flip the ones that are upside down\n",
    "            thd = thd + 180\n",
    "            xanchor=\"right\"\n",
    "        if num in range(0,5):\n",
    "            yanchor=\"bottom\"\n",
    "#         if num in [0,5]: # this would put the text directly over the axis line\n",
    "#             yanchor=\"middle\"\n",
    "        if num in [2,4,7,9]: # because of anchors, every other box sits on the opposite side of the axis. correct manually\n",
    "            th += (2*np.pi/len(stats))/2\n",
    "        if num in [1,4,6,9]: # because of anchors, every other box sits on the opposite side of the axis. correct manually\n",
    "            rr -=0.006\n",
    "#         if num == 4: #manual tweak\n",
    "#             y=y+0.03\n",
    "\n",
    "        # polar coordinate math, translate to cartesian for the annotations\n",
    "        # x = r × cos( θ )\n",
    "        # y = r × sin( θ )\n",
    "        x = xcenter+(rr*np.cos(th))\n",
    "        y = ycenter+(yscale*rr*np.sin(th)) # y needs an extra multiplier because of graph shape\n",
    "        annot.append(  \n",
    "            dict(\n",
    "#                 text='<b>ab</b>',\n",
    "                text='<b>'+lower_range[num]+'</b>',\n",
    "                x=x,\n",
    "                y=y,\n",
    "                xanchor = xanchor,\n",
    "                yanchor = yanchor,\n",
    "#                 bgcolor=\"#888888\",\n",
    "#                 bordercolor=\"#000000\",\n",
    "                borderpad=0,\n",
    "#                 xref=\"polar\",\n",
    "#                 yref=\"polar\",\n",
    "                showarrow=False,\n",
    "                textangle=360-thd,\n",
    "                font = dict(color=\"rgba(0,0,0,0.4)\")\n",
    "            ))\n",
    "#     print(str(notes))\n",
    "#     if (str(notes) != 'nan'):\n",
    "#         annot.append(\n",
    "#             dict(\n",
    "#                 text=\"Notes: \" + notes,\n",
    "#                 x=-.1,\n",
    "#                 y=0.3,\n",
    "#                 showarrow=False,\n",
    "#                 align='left'\n",
    "#             ))\n",
    "     \n",
    "    # add an annotation with the ratings\n",
    "#     ratings = \"\"\n",
    "#     ratingvals = \"<br>\"\n",
    "#     for index, row in dfrn.iterrows():\n",
    "#         ratings += dfrn.iloc[index][\"Left\"]+\"/\"\n",
    "#         ratings +=dfrn.iloc[index][\"Right\"]+\":  \" \n",
    "#         ratings+= \"<br>\"\n",
    "#         ratingvals += str(stats[dfrn.iloc[index][\"Abbv\"]]) + \"<br>\"\n",
    "#     # Rating Labels    \n",
    "#     annot.append(\n",
    "#         dict(\n",
    "#             text=\"<b>Ratings (1/10):</b> <br>\" + ratings,\n",
    "#             x=-.1,\n",
    "#             y=1,\n",
    "#             showarrow=False,\n",
    "#             align='left'\n",
    "#         ))\n",
    "#     # Rating Values, stacked neatly\n",
    "#     annot.append(\n",
    "#         dict(\n",
    "#             text=ratingvals,\n",
    "#             x=.07,\n",
    "#             y=.95507,\n",
    "#             showarrow=False,\n",
    "#             align='left'\n",
    "#         ))\n",
    "    \n",
    "    layout = go.Layout(\n",
    "      polar = dict(\n",
    "        radialaxis = dict(\n",
    "          visible = True,\n",
    "          range = [0, 10],\n",
    "          tickangle=0,\n",
    "#           angle=90,\n",
    "        ),\n",
    "        angularaxis = dict(\n",
    "          visible = True,\n",
    "        ),\n",
    "      ),\n",
    "      showlegend = True,\n",
    "      annotations=annot,\n",
    "      title=title\n",
    "    )\n",
    "\n",
    "    fig = Figure(data=d, layout=layout)\n",
    "    iplot(fig)"
   ]
  },
  {
   "cell_type": "code",
   "execution_count": null,
   "metadata": {
    "collapsed": true
   },
   "outputs": [],
   "source": []
  }
 ],
 "metadata": {
  "kernelspec": {
   "display_name": "Python 3",
   "language": "python",
   "name": "python3"
  },
  "language_info": {
   "codemirror_mode": {
    "name": "ipython",
    "version": 3
   },
   "file_extension": ".py",
   "mimetype": "text/x-python",
   "name": "python",
   "nbconvert_exporter": "python",
   "pygments_lexer": "ipython3",
   "version": "3.6.3"
  }
 },
 "nbformat": 4,
 "nbformat_minor": 2
}
